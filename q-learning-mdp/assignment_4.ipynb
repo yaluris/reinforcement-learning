{
  "cells": [
    {
      "cell_type": "markdown",
      "metadata": {
        "id": "GJBBpC1VdtY1"
      },
      "source": [
        "# Dynamic Optimization and Reinforcement Learning\n",
        "## Project Phase 2: Stock Market Trading\n",
        "### Georgios Gialouris 2019030063\n",
        "### Nikolaos Angelidis 2019030190"
      ]
    },
    {
      "cell_type": "markdown",
      "metadata": {
        "id": "eNlo5G9ndxpQ"
      },
      "source": [
        "## Import libraries"
      ]
    },
    {
      "cell_type": "code",
      "execution_count": null,
      "metadata": {
        "id": "IoLFulIVviJl"
      },
      "outputs": [],
      "source": [
        "import numpy as np\n",
        "from itertools import product\n",
        "import random\n",
        "from tqdm.notebook import tqdm\n",
        "import matplotlib.pyplot as plt\n",
        "from collections import Counter"
      ]
    },
    {
      "cell_type": "markdown",
      "metadata": {
        "id": "ox3l2ddOd9Kk"
      },
      "source": [
        "## Task 1"
      ]
    },
    {
      "cell_type": "markdown",
      "metadata": {
        "id": "uwi7PYB9d0b-"
      },
      "source": [
        "### Create the environment for our Q-learning algorithm"
      ]
    },
    {
      "cell_type": "code",
      "execution_count": null,
      "metadata": {
        "id": "gLh-T0Qzvj4v"
      },
      "outputs": [],
      "source": [
        "########## Set up the MDP environment ##########\n",
        "class StockEnvironment:\n",
        "    def __init__(self, n, markov_chains_pr, stock_gains, transaction_fee):\n",
        "        self.n = n\n",
        "        self.markov_chains_pr = markov_chains_pr\n",
        "        self.stock_gains = stock_gains\n",
        "        self.transaction_fee = transaction_fee\n",
        "        self.states = self.get_state_space(self.n)\n",
        "        self.actions = self.get_action_space(self.n)\n",
        "        self.trans_pr = self.get_transition_probabilities(self.states, self.markov_chains_pr, self.n)\n",
        "        self.rewards = self.get_rewards(self.states, self.stock_gains, self.transaction_fee, self.n)\n",
        "\n",
        "    def get_state_space(self, n):\n",
        "        combinations = list(product('HL', repeat=n))  # Generate all combinations of 'H' and 'L' of length n (number of stocks) with repetitions\n",
        "        combinations = [''.join(comb) for comb in combinations]  # Convert tuples to strings\n",
        "        # Prepend each combination with the numbers from 1 to n\n",
        "        states = []\n",
        "        for i in range(1, n + 1):\n",
        "            for comb in combinations:\n",
        "                states.append(f\"{i}{comb}\")\n",
        "        return states\n",
        "\n",
        "    def get_action_space(self, n):\n",
        "        actions = list(range(1, n + 1))\n",
        "        return actions\n",
        "\n",
        "    def get_transition_probabilities(self, states, markov_chains_pr, n):\n",
        "        # markov_chains_pr is an (n x 4) matrix, where rows represent the stocks and columns represent the probabilities (pHH, pHL, pLH, pLL) of the 2-state Markov chains\n",
        "        num_states = len(states)\n",
        "        trans_pr = np.zeros((num_states, num_states))\n",
        "        for i, from_state in enumerate(states):\n",
        "            for j, to_state in enumerate(states):\n",
        "                trans_pr[i, j] = 1\n",
        "                # Convert the state strings to lists of characters excluding the first one (i.e., which stock we are currently holding)\n",
        "                for k, (from_markov_state, to_markov_state) in enumerate(zip(list(from_state)[-n:], list(to_state)[-n:])):\n",
        "                    if from_markov_state == 'H' and to_markov_state == 'H':\n",
        "                        trans_pr[i, j] *= markov_chains_pr[k, 0]  ## pHH\n",
        "                    elif from_markov_state == 'H' and to_markov_state == 'L':\n",
        "                        trans_pr[i, j] *= markov_chains_pr[k, 1]  ## pHL\n",
        "                    elif from_markov_state == 'L' and to_markov_state == 'H':\n",
        "                        trans_pr[i, j] *= markov_chains_pr[k, 2]  ## pLH\n",
        "                    elif from_markov_state == 'L' and to_markov_state == 'L':\n",
        "                        trans_pr[i, j] *= markov_chains_pr[k, 3]  ## pLL\n",
        "        return trans_pr\n",
        "\n",
        "    def get_rewards(self, states, stock_gains, transaction_fee, n):\n",
        "        # stock_gains is an (n x 2) matrix, where rows represent the stocks and columns represent the expected gains (rH, rL) of each stock depending on the state (H, L) of the Markov chain\n",
        "        num_states = len(states)\n",
        "        rewards = np.zeros((num_states, num_states))\n",
        "        for i, from_state in enumerate(states):\n",
        "            for j, to_state in enumerate(states):\n",
        "                # Convert the state strings to lists of characters\n",
        "                from_state_chars = list(from_state)\n",
        "                to_state_chars = list(to_state)\n",
        "                old_stock = int(from_state[:-n])\n",
        "                new_stock = int(to_state[:-n])\n",
        "                if new_stock == old_stock:  # Invest in the same stock\n",
        "                    if to_state_chars[new_stock] == 'H':\n",
        "                        rewards[i, j] = stock_gains[new_stock - 1, 0]  # rH\n",
        "                    elif to_state_chars[new_stock] == 'L':\n",
        "                        rewards[i, j] = stock_gains[new_stock - 1, 1]  # rL\n",
        "                else:  # Switch stocks\n",
        "                    if to_state_chars[new_stock] == 'H':\n",
        "                        rewards[i, j] = stock_gains[new_stock - 1, 0] - transaction_fee  # rH - transaction_fee\n",
        "                    elif to_state_chars[new_stock] == 'L':\n",
        "                        rewards[i, j] = stock_gains[new_stock - 1, 1] - transaction_fee  # rL - transaction_fee\n",
        "        return rewards\n"
      ]
    },
    {
      "cell_type": "markdown",
      "metadata": {
        "id": "MCZyf6dGeABU"
      },
      "source": [
        "### Q learning algorithm implementation"
      ]
    },
    {
      "cell_type": "code",
      "execution_count": null,
      "metadata": {
        "id": "DTgxvauRvlh5"
      },
      "outputs": [],
      "source": [
        "# Implement the Q-learning algorithm\n",
        "def q_learning(states, actions, trans_pr, rewards, gamma, initial_epsilon, initial_alpha, min_epsilon, min_alpha, episodes, episode_length):\n",
        "    # Measurements\n",
        "    reward_per_episode = np.zeros(episodes)\n",
        "    epsilon_vals = np.zeros(episodes)\n",
        "    alpha_vals = np.zeros(episodes)\n",
        "    mean_rewards = np.zeros(episodes)\n",
        "    epsilon_decay = 0.999  # Epsilon decay per episode\n",
        "    alpha_decay = 0.001  # Alpha decay per episode\n",
        "    epsilon = initial_epsilon\n",
        "    alpha = initial_alpha\n",
        "\n",
        "    # Initialize Q-table\n",
        "    q_table = np.zeros((len(states), len(actions)))  # Initialize the Q-table\n",
        "\n",
        "    state_indices = {state: idx for idx, state in enumerate(states)}  # Map states to indices\n",
        "    possible_next_states = {action: [i for i, k in enumerate(states) if k.startswith(str(action))] for action in actions}  # List of possible next states (i.e., states whose first character corresponds to the chosen action)\n",
        "\n",
        "    progress_bar = tqdm(range(episodes))\n",
        "    for episode in progress_bar:\n",
        "        state = random.choices(states, k=1)[0]  # Select a random state\n",
        "        total_episode_reward = 0\n",
        "        episode_rewards = []\n",
        "\n",
        "        for _ in range(episode_length):\n",
        "            # Get state index\n",
        "            state_idx = state_indices[state]\n",
        "\n",
        "            # Get action with epsilon-greedy (Explore/Exploit)\n",
        "            action = random.choices([random.choices(actions, k=1)[0], np.argmax(q_table[state_idx]) + 1], weights=[epsilon, 1 - epsilon], k=1)[0]\n",
        "\n",
        "            # Get next state and reward\n",
        "            pr_next_states = trans_pr[state_idx, possible_next_states[action]]\n",
        "            next_state_idx = random.choices(possible_next_states[action], weights=pr_next_states, k=1)[0]\n",
        "            reward = rewards[state_idx, next_state_idx]\n",
        "\n",
        "            # Update Q-table\n",
        "            q_table[state_idx, action - 1] += alpha * (reward + gamma * np.max(q_table[next_state_idx]) - q_table[state_idx, action - 1])\n",
        "\n",
        "            # Move to the next state\n",
        "            state = states[next_state_idx]\n",
        "            total_episode_reward += reward\n",
        "            episode_rewards.append(reward)\n",
        "\n",
        "        epsilon_vals[episode] = epsilon\n",
        "        alpha_vals[episode] = alpha\n",
        "        reward_per_episode[episode] = total_episode_reward\n",
        "        mean_rewards[episode] = np.mean(episode_rewards)\n",
        "\n",
        "        epsilon = max(min_epsilon, epsilon * epsilon_decay)\n",
        "        alpha = max(min_alpha, initial_alpha * np.exp(-alpha_decay * episode))\n",
        "\n",
        "        progress_bar.set_postfix({\n",
        "        'epsilon' : epsilon,\n",
        "        'mean reward' : mean_rewards[episode],\n",
        "        'alpha' : alpha\n",
        "        })\n",
        "\n",
        "    policy = {s: (np.argmax(q_table[s_idx]) + 1) for s_idx, s in enumerate(states)}\n",
        "    return policy, q_table, reward_per_episode, epsilon_vals, alpha_vals, mean_rewards\n"
      ]
    },
    {
      "cell_type": "markdown",
      "metadata": {
        "id": "b3C5NmXteGf_"
      },
      "source": [
        "### Q-learning algorithm for scenario with γ = 0 and N = 2"
      ]
    },
    {
      "cell_type": "code",
      "execution_count": null,
      "metadata": {
        "colab": {
          "base_uri": "https://localhost:8080/",
          "height": 292,
          "referenced_widgets": [
            "61487e0fa52c4ee2b617777399b6c18c",
            "b80e654369e844aaa44d00e0f5a5065a",
            "4162ba156c5e4f48a0b133b98f884a99",
            "5b7247f3c4654aa1b369718c2f7f6a99",
            "cce9f0d2bbf24f23b29a5eaa9cbe1ce8",
            "ed7ab687c4654307b57f01d78e063c03",
            "e9a86773355046399336234fa73a6c5e",
            "9e7cef3a495d4fa897890e67e76bc1ec",
            "5183df22f3e14b478a543e4618b9f85d",
            "1616943f1e874c16a0a6675e3802cccb",
            "2ee60534e1ef4c28859315fb178cb65d"
          ]
        },
        "id": "M8633EBjvnV1",
        "outputId": "e9a7d416-76ab-421a-9a24-781731bd5bea"
      },
      "outputs": [
        {
          "data": {
            "application/vnd.jupyter.widget-view+json": {
              "model_id": "61487e0fa52c4ee2b617777399b6c18c",
              "version_major": 2,
              "version_minor": 0
            },
            "text/plain": [
              "  0%|          | 0/10000 [00:00<?, ?it/s]"
            ]
          },
          "metadata": {},
          "output_type": "display_data"
        },
        {
          "name": "stdout",
          "output_type": "stream",
          "text": [
            "State Space: ['1HH', '1HL', '1LH', '1LL', '2HH', '2HL', '2LH', '2LL']\n",
            "Action Space: [1, 2]\n",
            "Q-table [[0.04075464 0.03552086]\n",
            " [0.04063754 0.00456065]\n",
            " [0.04100044 0.03589217]\n",
            " [0.03854547 0.00436559]\n",
            " [0.03009588 0.04583123]\n",
            " [0.03109311 0.0139154 ]\n",
            " [0.03054595 0.04560023]\n",
            " [0.03027132 0.01374282]]\n",
            "Learned Policy: {'1HH': 1, '1HL': 1, '1LH': 1, '1LL': 1, '2HH': 2, '2HL': 1, '2LH': 2, '2LL': 1}\n",
            "Learned Value Function: [0.04075463938938634, 0.04063754023918082, 0.04100044195132284, 0.038545471207004724, 0.04583123221188809, 0.0310931108201974, 0.04560022802059318, 0.03027131911863368]\n",
            "Optimal Policy: {'1HH': 1, '1HL': 1, '1LH': 1, '1LL': 1, '2HH': 2, '2HL': 1, '2LH': 2, '2LL': 1}\n",
            "Optimal Value Function: [0.04  0.04  0.04  0.04  0.046 0.03  0.046 0.03 ]\n"
          ]
        }
      ],
      "source": [
        "# Confirm that our Q-learning algorithm finds the optimal policy given the scenario of the midterm exam\n",
        "N = 2  # Number of stocks\n",
        "markov_chains_pr = np.array([[0.5, 0.5, 0.5, 0.5],   # Transition probabilities (pHH, pHL, pLH, pLL) of the 2-state Markov chain of stock 1\n",
        "                             [0.9, 0.1, 0.1, 0.9]])  # Transition probabilities (pHH, pHL, pLH, pLL) of the 2-state Markov chain of stock 2\n",
        "stock_gains = np.array([[0.1, -0.02],                # Expected gain (rH, rL) of stock 1 depending on the state (H, L) of the Markov chain\n",
        "                        [0.05, 0.01]])               # Expected gain (rH, rL) of stock 2 depending on the state (H, L) of the Markov chain\n",
        "transaction_fee = 0.01\n",
        "\n",
        "gamma = 0               # Discount factor\n",
        "initial_epsilon = 1     # Exploration rate\n",
        "initial_alpha = 0.5     # Learning rate\n",
        "min_epsilon = 0.1       # Minimum exploration rate\n",
        "min_alpha = 0.001       # Minimum learning rate\n",
        "\n",
        "episodes = 20000        # Number of episodes\n",
        "episode_length = 100    # Number of steps per episode\n",
        "\n",
        "env = StockEnvironment(N, markov_chains_pr, stock_gains, transaction_fee)  # Environment initialization\n",
        "states = env.states\n",
        "actions = env.actions\n",
        "trans_pr = env.trans_pr\n",
        "rewards = env.rewards\n",
        "\n",
        "# Implement the Q-learning Algorithm and get the measurements and learned policy and value function\n",
        "learned_policy, q_table, reward_per_episode, epsilon_vals, alpha_vals, mean_rewards = q_learning(states, actions, trans_pr, rewards, gamma, initial_epsilon, initial_alpha, min_epsilon, min_alpha, episodes, episode_length)\n",
        "learned_value_function = [np.max(q_table[i]) for i in range(len(states))]\n",
        "\n",
        "print(\"State Space:\", states)\n",
        "print(\"Action Space:\", actions)\n",
        "# print(\"Transition Probabilities:\", trans_pr)\n",
        "# print(\"Rewards:\", rewards)\n",
        "print(\"Q-table\", q_table)\n",
        "print(\"Learned Policy:\", learned_policy)\n",
        "print(\"Learned Value Function:\", learned_value_function)\n",
        "print(\"Optimal Policy: {'1HH': 1, '1HL': 1, '1LH': 1, '1LL': 1, '2HH': 2, '2HL': 1, '2LH': 2, '2LL': 1}\")\n",
        "print(\"Optimal Value Function: [0.04  0.04  0.04  0.04  0.046 0.03  0.046 0.03 ]\")"
      ]
    },
    {
      "cell_type": "markdown",
      "metadata": {
        "id": "TSIjwuaFeVPy"
      },
      "source": [
        "### Plotting the result of our algorithm"
      ]
    },
    {
      "cell_type": "code",
      "execution_count": null,
      "metadata": {
        "colab": {
          "base_uri": "https://localhost:8080/",
          "height": 1000
        },
        "id": "oHl5IwyiQhzs",
        "outputId": "f717fc66-87f4-4d79-9ad5-e28c5dc7fa11"
      },
      "outputs": [
        {
          "data": {
            "image/png": "[encoded data removed]",
            "text/plain": [
              "<Figure size 640x480 with 1 Axes>"
            ]
          },
          "metadata": {},
          "output_type": "display_data"
        },
        {
          "data": {
            "image/png": "[encoded data removed]",
            "text/plain": [
              "<Figure size 640x480 with 1 Axes>"
            ]
          },
          "metadata": {},
          "output_type": "display_data"
        },
        {
          "data": {
            "image/png": "[encoded data removed]",
            "text/plain": [
              "<Figure size 640x480 with 1 Axes>"
            ]
          },
          "metadata": {},
          "output_type": "display_data"
        }
      ],
      "source": [
        "plt.figure()\n",
        "plt.title('Reward per Episode')\n",
        "plt.xlabel(\"Episode\")\n",
        "plt.ylabel(\"Reward\")\n",
        "plt.grid(True)\n",
        "plt.plot(np.arange(1, episodes + 1), reward_per_episode)\n",
        "\n",
        "plot_mean_rewards = []\n",
        "samples = 20\n",
        "for i in range(samples):\n",
        "    cut = int(episodes / samples)\n",
        "    start = cut * i\n",
        "    end = cut * (i + 1)\n",
        "    mean_reward = np.mean(mean_rewards[start:end])\n",
        "    plot_mean_rewards.append(mean_reward)\n",
        "\n",
        "plt.figure()\n",
        "plt.plot(range(1, samples+1), plot_mean_rewards, marker='o')\n",
        "plt.xlabel(f'Segments of Epochs (x {cut})')\n",
        "plt.ylabel('Mean Episode Reward')\n",
        "plt.title('Mean Rewards per Segment of Epochs')\n",
        "plt.xticks(range(1, samples+1))\n",
        "plt.grid(True)\n",
        "plt.show()\n",
        "\n",
        "plt.figure()\n",
        "plt.title('Learning Rate and Epsilon Over Time')\n",
        "plt.xlabel(\"Episode\")\n",
        "plt.grid(True)\n",
        "plt.plot(np.arange(1, episodes + 1), epsilon_vals, label='Exploration Rate')\n",
        "plt.plot(np.arange(1, episodes + 1), alpha_vals, label='Learning Rate')\n",
        "plt.legend()\n",
        "\n",
        "plt.show()"
      ]
    },
    {
      "cell_type": "markdown",
      "metadata": {
        "id": "5hgwAUB9eYo2"
      },
      "source": [
        "### Q-learning algorithm for scenario with γ = 0.9 and N = 2"
      ]
    },
    {
      "cell_type": "code",
      "execution_count": null,
      "metadata": {
        "colab": {
          "base_uri": "https://localhost:8080/",
          "height": 305,
          "referenced_widgets": [
            "d0e98b44d32c46e6aa6c916022467b14",
            "2b4add9621d34ce3b39f7f4ff89dfc20",
            "156abd84cdab44aba09547fcdd367fd0",
            "5a927e9268774a139af217becd99c1eb",
            "4e4313f1d2cc4bdb9659dc28d99b2755",
            "060a3991079d4b268778a904d4d95c73",
            "4e0455bf43654987bb030538c8471913",
            "29f9f8e12e1e40298ad793a6ab7dd801",
            "e275444faee54240b84e6b9770bca7a4",
            "f65dfb0afbda4d919062523911219ac6",
            "6c4161af00b5443cb33ef0cc5f3dac56"
          ]
        },
        "id": "qc7HqSDdcxW9",
        "outputId": "1ab9ceaf-5c49-4e96-ca4c-1bd15e2c3dd9"
      },
      "outputs": [
        {
          "data": {
            "application/vnd.jupyter.widget-view+json": {
              "model_id": "d0e98b44d32c46e6aa6c916022467b14",
              "version_major": 2,
              "version_minor": 0
            },
            "text/plain": [
              "  0%|          | 0/10000 [00:00<?, ?it/s]"
            ]
          },
          "metadata": {},
          "output_type": "display_data"
        },
        {
          "name": "stdout",
          "output_type": "stream",
          "text": [
            "State Space: ['1HH', '1HL', '1LH', '1LL', '2HH', '2HL', '2LH', '2LL']\n",
            "Action Space: [1, 2]\n",
            "Q-table [[0.41626189 0.42277123]\n",
            " [0.4055472  0.3684499 ]\n",
            " [0.42135689 0.42267235]\n",
            " [0.402455   0.36796782]\n",
            " [0.4067165  0.43229204]\n",
            " [0.39633196 0.37773519]\n",
            " [0.40937844 0.43254987]\n",
            " [0.39968376 0.37818147]]\n",
            "Learned Policy: {'1HH': 2, '1HL': 1, '1LH': 2, '1LL': 1, '2HH': 2, '2HL': 1, '2LH': 2, '2LL': 1}\n",
            "Learned Value Function: [0.42277123442491266, 0.4055472047377595, 0.4226723511966652, 0.40245500066668327, 0.43229204180539277, 0.3963319567718741, 0.4325498679040894, 0.39968375741371553]\n",
            "Optimal Policy: {'1HH': 2, '1HL': 1, '1LH': 2, '1LL': 1, '2HH': 2, '2HL': 1, '2LH': 2, '2LL': 1}\n",
            "Optimal Value Function: [0.42170615 0.41027758 0.42170615 0.41027758 0.43170615 0.40027758 0.43170615 0.40027758]\n"
          ]
        }
      ],
      "source": [
        "# Confirm that our Q-learning algorithm finds the optimal policy given the scenario of the midterm exam\n",
        "N = 2  # Number of stocks\n",
        "markov_chains_pr = np.array([[0.5, 0.5, 0.5, 0.5],   # Transition probabilities (pHH, pHL, pLH, pLL) of the 2-state Markov chain of stock 1\n",
        "                             [0.9, 0.1, 0.1, 0.9]])  # Transition probabilities (pHH, pHL, pLH, pLL) of the 2-state Markov chain of stock 2\n",
        "stock_gains = np.array([[0.1, -0.02],                # Expected gain (rH, rL) of stock 1 depending on the state (H, L) of the Markov chain\n",
        "                        [0.05, 0.01]])               # Expected gain (rH, rL) of stock 2 depending on the state (H, L) of the Markov chain\n",
        "transaction_fee = 0.01\n",
        "\n",
        "gamma = 0.9             # Discount factor\n",
        "initial_epsilon = 1     # Exploration rate\n",
        "initial_alpha = 0.5     # Learning rate\n",
        "min_epsilon = 0.1       # Minimum exploration rate\n",
        "min_alpha = 0.001       # Minimum learning rate\n",
        "\n",
        "episodes = 10000        # Number of episodes\n",
        "episode_length = 100    # Number of steps per episode\n",
        "\n",
        "env = StockEnvironment(N, markov_chains_pr, stock_gains, transaction_fee)  # Environment initialization\n",
        "states = env.states\n",
        "actions = env.actions\n",
        "trans_pr = env.trans_pr\n",
        "rewards = env.rewards\n",
        "\n",
        "# Implement the Q-learning Algorithm and get the measurements and learned policy and value function\n",
        "learned_policy, q_table, reward_per_episode, epsilon_vals, alpha_vals, mean_rewards = q_learning(states, actions, trans_pr, rewards, gamma, initial_epsilon, initial_alpha, min_epsilon, min_alpha, episodes, episode_length)\n",
        "learned_value_function = [np.max(q_table[i]) for i in range(len(states))]\n",
        "\n",
        "print(\"State Space:\", states)\n",
        "print(\"Action Space:\", actions)\n",
        "# print(\"Transition Probabilities:\", trans_pr)\n",
        "# print(\"Rewards:\", rewards)\n",
        "print(\"Q-table\", q_table)\n",
        "print(\"Learned Policy:\", learned_policy)\n",
        "print(\"Learned Value Function:\", learned_value_function)\n",
        "print(\"Optimal Policy: {'1HH': 2, '1HL': 1, '1LH': 2, '1LL': 1, '2HH': 2, '2HL': 1, '2LH': 2, '2LL': 1}\")\n",
        "print(\"Optimal Value Function: [0.42170615 0.41027758 0.42170615 0.41027758 0.43170615 0.40027758 0.43170615 0.40027758]\")"
      ]
    },
    {
      "cell_type": "markdown",
      "metadata": {
        "id": "Pq3Cth_Web5_"
      },
      "source": [
        "## Task 2"
      ]
    },
    {
      "cell_type": "markdown",
      "metadata": {
        "id": "IQ0wgc0Fsnn2"
      },
      "source": [
        "### We used the functions for the generation of uniformally distributed rewards and the transition probabilities as in phase 1"
      ]
    },
    {
      "cell_type": "code",
      "execution_count": null,
      "metadata": {
        "id": "YXr4b83Mf7TC"
      },
      "outputs": [],
      "source": [
        "def get_rewards_uniformally(n):\n",
        "    result = []\n",
        "    for i in range(n):\n",
        "        value1 = random.uniform(-0.02, 0.1)\n",
        "        value2 = random.uniform(-0.02, 0.1)\n",
        "        if value1>value2:\n",
        "            result.append([value1, value2])\n",
        "        else:\n",
        "            result.append([value2, value1])\n",
        "\n",
        "    return np.array(result)\n",
        "\n",
        "def get_markov_chains_pr(n):\n",
        "    result = []\n",
        "    for i in range(n):\n",
        "        if i%2==0:\n",
        "            result.append([0.9, 0.1, 0.1, 0.9])\n",
        "        else:\n",
        "            result.append([0.5, 0.5, 0.5, 0.5])\n",
        "\n",
        "    return np.array(result)"
      ]
    },
    {
      "cell_type": "markdown",
      "metadata": {
        "id": "A3mdBV5sMIyB"
      },
      "source": [
        "### Q-learning algorithm for scenario with γ = 0.9 and N = 3"
      ]
    },
    {
      "cell_type": "code",
      "execution_count": null,
      "metadata": {
        "colab": {
          "base_uri": "https://localhost:8080/",
          "height": 605,
          "referenced_widgets": [
            "a10998b9f3354f76b42dd4f85ce67238",
            "95eefd9a38e24574830835cb9a880fd1",
            "bdb1749b2c9e4e7d8da10da00aa8bcf1",
            "1cac4d5a0d98455fa7a62ef379d6806e",
            "9789c2b0a7774011ada5d8a9762ca18d",
            "8dc73db7cd6f46d2958079c4ce58c047",
            "38af20c488db433dba9b7408d0f4294d",
            "89fc7bd472bd48f98866af3d00a3cef2",
            "82cb72bf9bc84bcd82d032a9b8876652",
            "df7cb4eb2efa466cb3261be0bd0d3fff",
            "1fff7ec1b4eb46b69a86cc23986b93f9"
          ]
        },
        "id": "QtZjCN8tnvcI",
        "outputId": "0419358d-1536-4fcf-a1e4-eff1b509ab01"
      },
      "outputs": [
        {
          "name": "stdout",
          "output_type": "stream",
          "text": [
            "[[0.9 0.1 0.1 0.9]\n",
            " [0.5 0.5 0.5 0.5]\n",
            " [0.9 0.1 0.1 0.9]]\n",
            "[[ 0.07227488 -0.00352165]\n",
            " [ 0.01887344  0.00732972]\n",
            " [ 0.05735289  0.04364188]]\n"
          ]
        },
        {
          "data": {
            "application/vnd.jupyter.widget-view+json": {
              "model_id": "a10998b9f3354f76b42dd4f85ce67238",
              "version_major": 2,
              "version_minor": 0
            },
            "text/plain": [
              "  0%|          | 0/10000 [00:00<?, ?it/s]"
            ]
          },
          "metadata": {},
          "output_type": "display_data"
        },
        {
          "name": "stdout",
          "output_type": "stream",
          "text": [
            "State Space: ['1HHH', '1HHL', '1HLH', '1HLL', '1LHH', '1LHL', '1LLH', '1LLL', '2HHH', '2HHL', '2HLH', '2HLL', '2LHH', '2LHL', '2LLH', '2LLL', '3HHH', '3HHL', '3HLH', '3HLL', '3LHH', '3LHL', '3LLH', '3LLL']\n",
            "Action Space: [1, 2, 3]\n",
            "Q-table [[0.59405214 0.52433533 0.56964247]\n",
            " [0.58806849 0.51992626 0.55231242]\n",
            " [0.59468546 0.52425932 0.56970888]\n",
            " [0.58731447 0.51958504 0.55223152]\n",
            " [0.49741101 0.49590141 0.5482656 ]\n",
            " [0.47118482 0.47435915 0.51596835]\n",
            " [0.4982519  0.49545441 0.54839602]\n",
            " [0.47642502 0.47301055 0.51587317]\n",
            " [0.58488008 0.52985928 0.5639172 ]\n",
            " [0.58036254 0.52825318 0.54734301]\n",
            " [0.58580249 0.53455946 0.56383188]\n",
            " [0.57900509 0.52935956 0.54812963]\n",
            " [0.48597416 0.49950369 0.54840338]\n",
            " [0.47261756 0.48151015 0.5159831 ]\n",
            " [0.48728419 0.50475969 0.5483024 ]\n",
            " [0.46973901 0.48276011 0.51479282]\n",
            " [0.58520223 0.52412907 0.57746632]\n",
            " [0.57825267 0.52110756 0.55977149]\n",
            " [0.58613855 0.52254244 0.57719337]\n",
            " [0.57822078 0.51910306 0.56045138]\n",
            " [0.48769948 0.49632666 0.5580719 ]\n",
            " [0.46625969 0.47495795 0.52619077]\n",
            " [0.48949339 0.49673308 0.55770922]\n",
            " [0.46840173 0.47491099 0.52515299]]\n"
          ]
        }
      ],
      "source": [
        "N = 3\n",
        "\n",
        "markov_chains_pr = get_markov_chains_pr(N)\n",
        "stock_gains = get_rewards_uniformally(N)\n",
        "print(markov_chains_pr)\n",
        "print(stock_gains)\n",
        "\n",
        "transaction_fee = 0.01\n",
        "\n",
        "gamma = 0.9             # Discount factor\n",
        "initial_epsilon = 1     # Exploration rate\n",
        "initial_alpha = 0.5     # Learning rate\n",
        "min_epsilon = 0.1       # Minimum exploration rate\n",
        "min_alpha = 0.001       # Minimum learning rate\n",
        "\n",
        "episodes = 10000        # Number of episodes\n",
        "episode_length = 100    # Number of steps per episode\n",
        "\n",
        "env = StockEnvironment(N, markov_chains_pr, stock_gains, transaction_fee)  # Environment initialization\n",
        "states = env.states\n",
        "actions = env.actions\n",
        "trans_pr = env.trans_pr\n",
        "rewards = env.rewards\n",
        "\n",
        "# Implement the Q-learning Algorithm and get the measurements and learned policy and value function\n",
        "learned_policy, q_table, reward_per_episode, epsilon_vals, alpha_vals, mean_rewards = q_learning(states, actions, trans_pr, rewards, gamma, initial_epsilon, initial_alpha, min_epsilon, min_alpha, episodes, episode_length)\n",
        "learned_value_function = [np.max(q_table[i]) for i in range(len(states))]\n",
        "\n",
        "print(\"State Space:\", states)\n",
        "print(\"Action Space:\", actions)\n",
        "# print(\"Transition Probabilities:\", trans_pr)\n",
        "# print(\"Rewards:\", rewards)\n",
        "print(\"Q-table\", q_table)\n"
      ]
    },
    {
      "cell_type": "code",
      "execution_count": null,
      "metadata": {
        "colab": {
          "base_uri": "https://localhost:8080/"
        },
        "id": "k1gwXSt7Bxbw",
        "outputId": "8b580d05-6626-4167-a66d-e489b61b98ac"
      },
      "outputs": [
        {
          "name": "stdout",
          "output_type": "stream",
          "text": [
            "Learned Policy: {'1HHH': 1, '1HHL': 1, '1HLH': 1, '1HLL': 1, '1LHH': 3, '1LHL': 3, '1LLH': 3, '1LLL': 3, '2HHH': 1, '2HHL': 1, '2HLH': 1, '2HLL': 1, '2LHH': 3, '2LHL': 3, '2LLH': 3, '2LLL': 3, '3HHH': 1, '3HHL': 1, '3HLH': 1, '3HLL': 1, '3LHH': 3, '3LHL': 3, '3LLH': 3, '3LLL': 3}\n",
            "Learned Value Function: [0.5940521435304289, 0.5880684936174249, 0.5946854645822982, 0.5873144699248858, 0.5482655960486997, 0.5159683492227166, 0.5483960224460663, 0.5158731697994701, 0.5848800812286512, 0.5803625432444919, 0.5858024902659212, 0.5790050884832421, 0.5484033807772948, 0.5159830978139397, 0.5483024049704536, 0.5147928173099727, 0.5852022278900595, 0.5782526748321488, 0.5861385529966107, 0.5782207800117461, 0.5580719039103473, 0.5261907727303177, 0.557709220016166, 0.525152994795299]\n",
            "Optimal Policy: {'1HHH': 1, '1HHL': 1, '1HLH': 1, '1HLL': 1, '1LHH': 3, '1LHL': 3, '1LLH': 3, '1LLL': 3, '2HHH': 1, '2HHL': 1, '2HLH': 1, '2HLL': 1, '2LHH': 3, '2LHL': 3, '2LLH': 3, '2LLL': 3, '3HHH': 1, '3HHL': 1, '3HLH': 1, '3HLL': 1, '3LHH': 3, '3LHL': 3, '3LLH': 3, '3LLL': 3}\n",
            "Optimal Value Function: [0.59563359 0.58898135 0.59563359 0.58898135 0.54786193 0.51533986 0.54786193 0.51533986 0.58563359 0.57898135 0.58563359 0.57898135 0.54786193 0.51533986 0.54786193 0.51533986 0.58563359 0.57898135 0.58563359 0.57898135 0.55786193 0.52533986 0.55786193 0.52533986]\n",
            "Number of times each action appears in the policy generated by the Q-learning algorithm: Counter({1: 12, 3: 12})\n",
            "Number of times each action appears in the optimal policy generated by the PI algorithm: Counter({1: 12, 3: 12})\n"
          ]
        }
      ],
      "source": [
        "# [[0.9 0.1 0.1 0.9]\n",
        "#  [0.5 0.5 0.5 0.5]\n",
        "#  [0.9 0.1 0.1 0.9]]\n",
        "\n",
        "# [[ 0.07227488 -0.00352165]\n",
        "#  [ 0.01887344  0.00732972]\n",
        "#  [ 0.05735289  0.04364188]]\n",
        "\n",
        "print(\"Learned Policy:\", learned_policy)\n",
        "print(\"Learned Value Function:\", learned_value_function)\n",
        "print(\"Optimal Policy: {'1HHH': 1, '1HHL': 1, '1HLH': 1, '1HLL': 1, '1LHH': 3, '1LHL': 3, '1LLH': 3, '1LLL': 3, '2HHH': 1, '2HHL': 1, '2HLH': 1, '2HLL': 1, '2LHH': 3, '2LHL': 3, '2LLH': 3, '2LLL': 3, '3HHH': 1, '3HHL': 1, '3HLH': 1, '3HLL': 1, '3LHH': 3, '3LHL': 3, '3LLH': 3, '3LLL': 3}\")\n",
        "print(\"Optimal Value Function: [0.59563359 0.58898135 0.59563359 0.58898135 0.54786193 0.51533986 0.54786193 0.51533986 0.58563359 0.57898135 0.58563359 0.57898135 0.54786193 0.51533986 0.54786193 0.51533986 0.58563359 0.57898135 0.58563359 0.57898135 0.55786193 0.52533986 0.55786193 0.52533986]\")\n",
        "\n",
        "value_counts = Counter(learned_policy.values())\n",
        "print(\"Number of times each action appears in the policy generated by the Q-learning algorithm:\", value_counts)\n",
        "print(\"Number of times each action appears in the optimal policy generated by the PI algorithm: Counter({1: 12, 3: 12})\")\n"
      ]
    },
    {
      "cell_type": "markdown",
      "metadata": {
        "id": "ueefl9HTBJA8"
      },
      "source": [
        "### Scenario that is large enough for tabular Q-learning to converge slowly, but still within reasonable time (1 hour)"
      ]
    },
    {
      "cell_type": "code",
      "execution_count": null,
      "metadata": {
        "colab": {
          "base_uri": "https://localhost:8080/",
          "height": 260,
          "referenced_widgets": [
            "463746a614da4dd69a779f49b4d6ac26",
            "8a67e9f13ba14d8981475c1ba5122d17",
            "fd72fce342584595a7cf81a40cde1a94",
            "c50c659d0b604e1380e7b29f72923941",
            "9d98f3bee94d47368c50b6b3fa936800",
            "d4bd7861e0964d02b1f0f9136d30bf84",
            "37adbb26bcc84d3da49cbbd36b23f441",
            "91fd7eeb947b408e946ef08db17f3948",
            "ac39bd1dccbb4c408599454deffa9d63",
            "b5313e160a604a5b9996c29b90b64ab5",
            "51893e883a1e4b208c3c6bab6c4050ab"
          ]
        },
        "id": "8PwOo0H8PMmc",
        "outputId": "4ac3f915-0cae-4abd-d5ee-5b06e5e5334e"
      },
      "outputs": [
        {
          "data": {
            "application/vnd.jupyter.widget-view+json": {
              "model_id": "463746a614da4dd69a779f49b4d6ac26",
              "version_major": 2,
              "version_minor": 0
            },
            "text/plain": [
              "  0%|          | 0/10000 [00:00<?, ?it/s]"
            ]
          },
          "metadata": {},
          "output_type": "display_data"
        },
        {
          "name": "stdout",
          "output_type": "stream",
          "text": [
            "State Space: ['1HHHHHHHH', '1HHHHHHHL', '1HHHHHHLH', '1HHHHHHLL', '1HHHHHLHH', '1HHHHHLHL', '1HHHHHLLH', '1HHHHHLLL', '1HHHHLHHH', '1HHHHLHHL', '1HHHHLHLH', '1HHHHLHLL', '1HHHHLLHH', '1HHHHLLHL', '1HHHHLLLH', '1HHHHLLLL', '1HHHLHHHH', '1HHHLHHHL', '1HHHLHHLH', '1HHHLHHLL', '1HHHLHLHH', '1HHHLHLHL', '1HHHLHLLH', '1HHHLHLLL', '1HHHLLHHH', '1HHHLLHHL', '1HHHLLHLH', '1HHHLLHLL', '1HHHLLLHH', '1HHHLLLHL', '1HHHLLLLH', '1HHHLLLLL', '1HHLHHHHH', '1HHLHHHHL', '1HHLHHHLH', '1HHLHHHLL', '1HHLHHLHH', '1HHLHHLHL', '1HHLHHLLH', '1HHLHHLLL', '1HHLHLHHH', '1HHLHLHHL', '1HHLHLHLH', '1HHLHLHLL', '1HHLHLLHH', '1HHLHLLHL', '1HHLHLLLH', '1HHLHLLLL', '1HHLLHHHH', '1HHLLHHHL', '1HHLLHHLH', '1HHLLHHLL', '1HHLLHLHH', '1HHLLHLHL', '1HHLLHLLH', '1HHLLHLLL', '1HHLLLHHH', '1HHLLLHHL', '1HHLLLHLH', '1HHLLLHLL', '1HHLLLLHH', '1HHLLLLHL', '1HHLLLLLH', '1HHLLLLLL', '1HLHHHHHH', '1HLHHHHHL', '1HLHHHHLH', '1HLHHHHLL', '1HLHHHLHH', '1HLHHHLHL', '1HLHHHLLH', '1HLHHHLLL', '1HLHHLHHH', '1HLHHLHHL', '1HLHHLHLH', '1HLHHLHLL', '1HLHHLLHH', '1HLHHLLHL', '1HLHHLLLH', '1HLHHLLLL', '1HLHLHHHH', '1HLHLHHHL', '1HLHLHHLH', '1HLHLHHLL', '1HLHLHLHH', '1HLHLHLHL', '1HLHLHLLH', '1HLHLHLLL', '1HLHLLHHH', '1HLHLLHHL', '1HLHLLHLH', '1HLHLLHLL', '1HLHLLLHH', '1HLHLLLHL', '1HLHLLLLH', '1HLHLLLLL', '1HLLHHHHH', '1HLLHHHHL', '1HLLHHHLH', '1HLLHHHLL', '1HLLHHLHH', '1HLLHHLHL', '1HLLHHLLH', '1HLLHHLLL', '1HLLHLHHH', '1HLLHLHHL', '1HLLHLHLH', '1HLLHLHLL', '1HLLHLLHH', '1HLLHLLHL', '1HLLHLLLH', '1HLLHLLLL', '1HLLLHHHH', '1HLLLHHHL', '1HLLLHHLH', '1HLLLHHLL', '1HLLLHLHH', '1HLLLHLHL', '1HLLLHLLH', '1HLLLHLLL', '1HLLLLHHH', '1HLLLLHHL', '1HLLLLHLH', '1HLLLLHLL', '1HLLLLLHH', '1HLLLLLHL', '1HLLLLLLH', '1HLLLLLLL', '1LHHHHHHH', '1LHHHHHHL', '1LHHHHHLH', '1LHHHHHLL', '1LHHHHLHH', '1LHHHHLHL', '1LHHHHLLH', '1LHHHHLLL', '1LHHHLHHH', '1LHHHLHHL', '1LHHHLHLH', '1LHHHLHLL', '1LHHHLLHH', '1LHHHLLHL', '1LHHHLLLH', '1LHHHLLLL', '1LHHLHHHH', '1LHHLHHHL', '1LHHLHHLH', '1LHHLHHLL', '1LHHLHLHH', '1LHHLHLHL', '1LHHLHLLH', '1LHHLHLLL', '1LHHLLHHH', '1LHHLLHHL', '1LHHLLHLH', '1LHHLLHLL', '1LHHLLLHH', '1LHHLLLHL', '1LHHLLLLH', '1LHHLLLLL', '1LHLHHHHH', '1LHLHHHHL', '1LHLHHHLH', '1LHLHHHLL', '1LHLHHLHH', '1LHLHHLHL', '1LHLHHLLH', '1LHLHHLLL', '1LHLHLHHH', '1LHLHLHHL', '1LHLHLHLH', '1LHLHLHLL', '1LHLHLLHH', '1LHLHLLHL', '1LHLHLLLH', '1LHLHLLLL', '1LHLLHHHH', '1LHLLHHHL', '1LHLLHHLH', '1LHLLHHLL', '1LHLLHLHH', '1LHLLHLHL', '1LHLLHLLH', '1LHLLHLLL', '1LHLLLHHH', '1LHLLLHHL', '1LHLLLHLH', '1LHLLLHLL', '1LHLLLLHH', '1LHLLLLHL', '1LHLLLLLH', '1LHLLLLLL', '1LLHHHHHH', '1LLHHHHHL', '1LLHHHHLH', '1LLHHHHLL', '1LLHHHLHH', '1LLHHHLHL', '1LLHHHLLH', '1LLHHHLLL', '1LLHHLHHH', '1LLHHLHHL', '1LLHHLHLH', '1LLHHLHLL', '1LLHHLLHH', '1LLHHLLHL', '1LLHHLLLH', '1LLHHLLLL', '1LLHLHHHH', '1LLHLHHHL', '1LLHLHHLH', '1LLHLHHLL', '1LLHLHLHH', '1LLHLHLHL', '1LLHLHLLH', '1LLHLHLLL', '1LLHLLHHH', '1LLHLLHHL', '1LLHLLHLH', '1LLHLLHLL', '1LLHLLLHH', '1LLHLLLHL', '1LLHLLLLH', '1LLHLLLLL', '1LLLHHHHH', '1LLLHHHHL', '1LLLHHHLH', '1LLLHHHLL', '1LLLHHLHH', '1LLLHHLHL', '1LLLHHLLH', '1LLLHHLLL', '1LLLHLHHH', '1LLLHLHHL', '1LLLHLHLH', '1LLLHLHLL', '1LLLHLLHH', '1LLLHLLHL', '1LLLHLLLH', '1LLLHLLLL', '1LLLLHHHH', '1LLLLHHHL', '1LLLLHHLH', '1LLLLHHLL', '1LLLLHLHH', '1LLLLHLHL', '1LLLLHLLH', '1LLLLHLLL', '1LLLLLHHH', '1LLLLLHHL', '1LLLLLHLH', '1LLLLLHLL', '1LLLLLLHH', '1LLLLLLHL', '1LLLLLLLH', '1LLLLLLLL', '2HHHHHHHH', '2HHHHHHHL', '2HHHHHHLH', '2HHHHHHLL', '2HHHHHLHH', '2HHHHHLHL', '2HHHHHLLH', '2HHHHHLLL', '2HHHHLHHH', '2HHHHLHHL', '2HHHHLHLH', '2HHHHLHLL', '2HHHHLLHH', '2HHHHLLHL', '2HHHHLLLH', '2HHHHLLLL', '2HHHLHHHH', '2HHHLHHHL', '2HHHLHHLH', '2HHHLHHLL', '2HHHLHLHH', '2HHHLHLHL', '2HHHLHLLH', '2HHHLHLLL', '2HHHLLHHH', '2HHHLLHHL', '2HHHLLHLH', '2HHHLLHLL', '2HHHLLLHH', '2HHHLLLHL', '2HHHLLLLH', '2HHHLLLLL', '2HHLHHHHH', '2HHLHHHHL', '2HHLHHHLH', '2HHLHHHLL', '2HHLHHLHH', '2HHLHHLHL', '2HHLHHLLH', '2HHLHHLLL', '2HHLHLHHH', '2HHLHLHHL', '2HHLHLHLH', '2HHLHLHLL', '2HHLHLLHH', '2HHLHLLHL', '2HHLHLLLH', '2HHLHLLLL', '2HHLLHHHH', '2HHLLHHHL', '2HHLLHHLH', '2HHLLHHLL', '2HHLLHLHH', '2HHLLHLHL', '2HHLLHLLH', '2HHLLHLLL', '2HHLLLHHH', '2HHLLLHHL', '2HHLLLHLH', '2HHLLLHLL', '2HHLLLLHH', '2HHLLLLHL', '2HHLLLLLH', '2HHLLLLLL', '2HLHHHHHH', '2HLHHHHHL', '2HLHHHHLH', '2HLHHHHLL', '2HLHHHLHH', '2HLHHHLHL', '2HLHHHLLH', '2HLHHHLLL', '2HLHHLHHH', '2HLHHLHHL', '2HLHHLHLH', '2HLHHLHLL', '2HLHHLLHH', '2HLHHLLHL', '2HLHHLLLH', '2HLHHLLLL', '2HLHLHHHH', '2HLHLHHHL', '2HLHLHHLH', '2HLHLHHLL', '2HLHLHLHH', '2HLHLHLHL', '2HLHLHLLH', '2HLHLHLLL', '2HLHLLHHH', '2HLHLLHHL', '2HLHLLHLH', '2HLHLLHLL', '2HLHLLLHH', '2HLHLLLHL', '2HLHLLLLH', '2HLHLLLLL', '2HLLHHHHH', '2HLLHHHHL', '2HLLHHHLH', '2HLLHHHLL', '2HLLHHLHH', '2HLLHHLHL', '2HLLHHLLH', '2HLLHHLLL', '2HLLHLHHH', '2HLLHLHHL', '2HLLHLHLH', '2HLLHLHLL', '2HLLHLLHH', '2HLLHLLHL', '2HLLHLLLH', '2HLLHLLLL', '2HLLLHHHH', '2HLLLHHHL', '2HLLLHHLH', '2HLLLHHLL', '2HLLLHLHH', '2HLLLHLHL', '2HLLLHLLH', '2HLLLHLLL', '2HLLLLHHH', '2HLLLLHHL', '2HLLLLHLH', '2HLLLLHLL', '2HLLLLLHH', '2HLLLLLHL', '2HLLLLLLH', '2HLLLLLLL', '2LHHHHHHH', '2LHHHHHHL', '2LHHHHHLH', '2LHHHHHLL', '2LHHHHLHH', '2LHHHHLHL', '2LHHHHLLH', '2LHHHHLLL', '2LHHHLHHH', '2LHHHLHHL', '2LHHHLHLH', '2LHHHLHLL', '2LHHHLLHH', '2LHHHLLHL', '2LHHHLLLH', '2LHHHLLLL', '2LHHLHHHH', '2LHHLHHHL', '2LHHLHHLH', '2LHHLHHLL', '2LHHLHLHH', '2LHHLHLHL', '2LHHLHLLH', '2LHHLHLLL', '2LHHLLHHH', '2LHHLLHHL', '2LHHLLHLH', '2LHHLLHLL', '2LHHLLLHH', '2LHHLLLHL', '2LHHLLLLH', '2LHHLLLLL', '2LHLHHHHH', '2LHLHHHHL', '2LHLHHHLH', '2LHLHHHLL', '2LHLHHLHH', '2LHLHHLHL', '2LHLHHLLH', '2LHLHHLLL', '2LHLHLHHH', '2LHLHLHHL', '2LHLHLHLH', '2LHLHLHLL', '2LHLHLLHH', '2LHLHLLHL', '2LHLHLLLH', '2LHLHLLLL', '2LHLLHHHH', '2LHLLHHHL', '2LHLLHHLH', '2LHLLHHLL', '2LHLLHLHH', '2LHLLHLHL', '2LHLLHLLH', '2LHLLHLLL', '2LHLLLHHH', '2LHLLLHHL', '2LHLLLHLH', '2LHLLLHLL', '2LHLLLLHH', '2LHLLLLHL', '2LHLLLLLH', '2LHLLLLLL', '2LLHHHHHH', '2LLHHHHHL', '2LLHHHHLH', '2LLHHHHLL', '2LLHHHLHH', '2LLHHHLHL', '2LLHHHLLH', '2LLHHHLLL', '2LLHHLHHH', '2LLHHLHHL', '2LLHHLHLH', '2LLHHLHLL', '2LLHHLLHH', '2LLHHLLHL', '2LLHHLLLH', '2LLHHLLLL', '2LLHLHHHH', '2LLHLHHHL', '2LLHLHHLH', '2LLHLHHLL', '2LLHLHLHH', '2LLHLHLHL', '2LLHLHLLH', '2LLHLHLLL', '2LLHLLHHH', '2LLHLLHHL', '2LLHLLHLH', '2LLHLLHLL', '2LLHLLLHH', '2LLHLLLHL', '2LLHLLLLH', '2LLHLLLLL', '2LLLHHHHH', '2LLLHHHHL', '2LLLHHHLH', '2LLLHHHLL', '2LLLHHLHH', '2LLLHHLHL', '2LLLHHLLH', '2LLLHHLLL', '2LLLHLHHH', '2LLLHLHHL', '2LLLHLHLH', '2LLLHLHLL', '2LLLHLLHH', '2LLLHLLHL', '2LLLHLLLH', '2LLLHLLLL', '2LLLLHHHH', '2LLLLHHHL', '2LLLLHHLH', '2LLLLHHLL', '2LLLLHLHH', '2LLLLHLHL', '2LLLLHLLH', '2LLLLHLLL', '2LLLLLHHH', '2LLLLLHHL', '2LLLLLHLH', '2LLLLLHLL', '2LLLLLLHH', '2LLLLLLHL', '2LLLLLLLH', '2LLLLLLLL', '3HHHHHHHH', '3HHHHHHHL', '3HHHHHHLH', '3HHHHHHLL', '3HHHHHLHH', '3HHHHHLHL', '3HHHHHLLH', '3HHHHHLLL', '3HHHHLHHH', '3HHHHLHHL', '3HHHHLHLH', '3HHHHLHLL', '3HHHHLLHH', '3HHHHLLHL', '3HHHHLLLH', '3HHHHLLLL', '3HHHLHHHH', '3HHHLHHHL', '3HHHLHHLH', '3HHHLHHLL', '3HHHLHLHH', '3HHHLHLHL', '3HHHLHLLH', '3HHHLHLLL', '3HHHLLHHH', '3HHHLLHHL', '3HHHLLHLH', '3HHHLLHLL', '3HHHLLLHH', '3HHHLLLHL', '3HHHLLLLH', '3HHHLLLLL', '3HHLHHHHH', '3HHLHHHHL', '3HHLHHHLH', '3HHLHHHLL', '3HHLHHLHH', '3HHLHHLHL', '3HHLHHLLH', '3HHLHHLLL', '3HHLHLHHH', '3HHLHLHHL', '3HHLHLHLH', '3HHLHLHLL', '3HHLHLLHH', '3HHLHLLHL', '3HHLHLLLH', '3HHLHLLLL', '3HHLLHHHH', '3HHLLHHHL', '3HHLLHHLH', '3HHLLHHLL', '3HHLLHLHH', '3HHLLHLHL', '3HHLLHLLH', '3HHLLHLLL', '3HHLLLHHH', '3HHLLLHHL', '3HHLLLHLH', '3HHLLLHLL', '3HHLLLLHH', '3HHLLLLHL', '3HHLLLLLH', '3HHLLLLLL', '3HLHHHHHH', '3HLHHHHHL', '3HLHHHHLH', '3HLHHHHLL', '3HLHHHLHH', '3HLHHHLHL', '3HLHHHLLH', '3HLHHHLLL', '3HLHHLHHH', '3HLHHLHHL', '3HLHHLHLH', '3HLHHLHLL', '3HLHHLLHH', '3HLHHLLHL', '3HLHHLLLH', '3HLHHLLLL', '3HLHLHHHH', '3HLHLHHHL', '3HLHLHHLH', '3HLHLHHLL', '3HLHLHLHH', '3HLHLHLHL', '3HLHLHLLH', '3HLHLHLLL', '3HLHLLHHH', '3HLHLLHHL', '3HLHLLHLH', '3HLHLLHLL', '3HLHLLLHH', '3HLHLLLHL', '3HLHLLLLH', '3HLHLLLLL', '3HLLHHHHH', '3HLLHHHHL', '3HLLHHHLH', '3HLLHHHLL', '3HLLHHLHH', '3HLLHHLHL', '3HLLHHLLH', '3HLLHHLLL', '3HLLHLHHH', '3HLLHLHHL', '3HLLHLHLH', '3HLLHLHLL', '3HLLHLLHH', '3HLLHLLHL', '3HLLHLLLH', '3HLLHLLLL', '3HLLLHHHH', '3HLLLHHHL', '3HLLLHHLH', '3HLLLHHLL', '3HLLLHLHH', '3HLLLHLHL', '3HLLLHLLH', '3HLLLHLLL', '3HLLLLHHH', '3HLLLLHHL', '3HLLLLHLH', '3HLLLLHLL', '3HLLLLLHH', '3HLLLLLHL', '3HLLLLLLH', '3HLLLLLLL', '3LHHHHHHH', '3LHHHHHHL', '3LHHHHHLH', '3LHHHHHLL', '3LHHHHLHH', '3LHHHHLHL', '3LHHHHLLH', '3LHHHHLLL', '3LHHHLHHH', '3LHHHLHHL', '3LHHHLHLH', '3LHHHLHLL', '3LHHHLLHH', '3LHHHLLHL', '3LHHHLLLH', '3LHHHLLLL', '3LHHLHHHH', '3LHHLHHHL', '3LHHLHHLH', '3LHHLHHLL', '3LHHLHLHH', '3LHHLHLHL', '3LHHLHLLH', '3LHHLHLLL', '3LHHLLHHH', '3LHHLLHHL', '3LHHLLHLH', '3LHHLLHLL', '3LHHLLLHH', '3LHHLLLHL', '3LHHLLLLH', '3LHHLLLLL', '3LHLHHHHH', '3LHLHHHHL', '3LHLHHHLH', '3LHLHHHLL', '3LHLHHLHH', '3LHLHHLHL', '3LHLHHLLH', '3LHLHHLLL', '3LHLHLHHH', '3LHLHLHHL', '3LHLHLHLH', '3LHLHLHLL', '3LHLHLLHH', '3LHLHLLHL', '3LHLHLLLH', '3LHLHLLLL', '3LHLLHHHH', '3LHLLHHHL', '3LHLLHHLH', '3LHLLHHLL', '3LHLLHLHH', '3LHLLHLHL', '3LHLLHLLH', '3LHLLHLLL', '3LHLLLHHH', '3LHLLLHHL', '3LHLLLHLH', '3LHLLLHLL', '3LHLLLLHH', '3LHLLLLHL', '3LHLLLLLH', '3LHLLLLLL', '3LLHHHHHH', '3LLHHHHHL', '3LLHHHHLH', '3LLHHHHLL', '3LLHHHLHH', '3LLHHHLHL', '3LLHHHLLH', '3LLHHHLLL', '3LLHHLHHH', '3LLHHLHHL', '3LLHHLHLH', '3LLHHLHLL', '3LLHHLLHH', '3LLHHLLHL', '3LLHHLLLH', '3LLHHLLLL', '3LLHLHHHH', '3LLHLHHHL', '3LLHLHHLH', '3LLHLHHLL', '3LLHLHLHH', '3LLHLHLHL', '3LLHLHLLH', '3LLHLHLLL', '3LLHLLHHH', '3LLHLLHHL', '3LLHLLHLH', '3LLHLLHLL', '3LLHLLLHH', '3LLHLLLHL', '3LLHLLLLH', '3LLHLLLLL', '3LLLHHHHH', '3LLLHHHHL', '3LLLHHHLH', '3LLLHHHLL', '3LLLHHLHH', '3LLLHHLHL', '3LLLHHLLH', '3LLLHHLLL', '3LLLHLHHH', '3LLLHLHHL', '3LLLHLHLH', '3LLLHLHLL', '3LLLHLLHH', '3LLLHLLHL', '3LLLHLLLH', '3LLLHLLLL', '3LLLLHHHH', '3LLLLHHHL', '3LLLLHHLH', '3LLLLHHLL', '3LLLLHLHH', '3LLLLHLHL', '3LLLLHLLH', '3LLLLHLLL', '3LLLLLHHH', '3LLLLLHHL', '3LLLLLHLH', '3LLLLLHLL', '3LLLLLLHH', '3LLLLLLHL', '3LLLLLLLH', '3LLLLLLLL', '4HHHHHHHH', '4HHHHHHHL', '4HHHHHHLH', '4HHHHHHLL', '4HHHHHLHH', '4HHHHHLHL', '4HHHHHLLH', '4HHHHHLLL', '4HHHHLHHH', '4HHHHLHHL', '4HHHHLHLH', '4HHHHLHLL', '4HHHHLLHH', '4HHHHLLHL', '4HHHHLLLH', '4HHHHLLLL', '4HHHLHHHH', '4HHHLHHHL', '4HHHLHHLH', '4HHHLHHLL', '4HHHLHLHH', '4HHHLHLHL', '4HHHLHLLH', '4HHHLHLLL', '4HHHLLHHH', '4HHHLLHHL', '4HHHLLHLH', '4HHHLLHLL', '4HHHLLLHH', '4HHHLLLHL', '4HHHLLLLH', '4HHHLLLLL', '4HHLHHHHH', '4HHLHHHHL', '4HHLHHHLH', '4HHLHHHLL', '4HHLHHLHH', '4HHLHHLHL', '4HHLHHLLH', '4HHLHHLLL', '4HHLHLHHH', '4HHLHLHHL', '4HHLHLHLH', '4HHLHLHLL', '4HHLHLLHH', '4HHLHLLHL', '4HHLHLLLH', '4HHLHLLLL', '4HHLLHHHH', '4HHLLHHHL', '4HHLLHHLH', '4HHLLHHLL', '4HHLLHLHH', '4HHLLHLHL', '4HHLLHLLH', '4HHLLHLLL', '4HHLLLHHH', '4HHLLLHHL', '4HHLLLHLH', '4HHLLLHLL', '4HHLLLLHH', '4HHLLLLHL', '4HHLLLLLH', '4HHLLLLLL', '4HLHHHHHH', '4HLHHHHHL', '4HLHHHHLH', '4HLHHHHLL', '4HLHHHLHH', '4HLHHHLHL', '4HLHHHLLH', '4HLHHHLLL', '4HLHHLHHH', '4HLHHLHHL', '4HLHHLHLH', '4HLHHLHLL', '4HLHHLLHH', '4HLHHLLHL', '4HLHHLLLH', '4HLHHLLLL', '4HLHLHHHH', '4HLHLHHHL', '4HLHLHHLH', '4HLHLHHLL', '4HLHLHLHH', '4HLHLHLHL', '4HLHLHLLH', '4HLHLHLLL', '4HLHLLHHH', '4HLHLLHHL', '4HLHLLHLH', '4HLHLLHLL', '4HLHLLLHH', '4HLHLLLHL', '4HLHLLLLH', '4HLHLLLLL', '4HLLHHHHH', '4HLLHHHHL', '4HLLHHHLH', '4HLLHHHLL', '4HLLHHLHH', '4HLLHHLHL', '4HLLHHLLH', '4HLLHHLLL', '4HLLHLHHH', '4HLLHLHHL', '4HLLHLHLH', '4HLLHLHLL', '4HLLHLLHH', '4HLLHLLHL', '4HLLHLLLH', '4HLLHLLLL', '4HLLLHHHH', '4HLLLHHHL', '4HLLLHHLH', '4HLLLHHLL', '4HLLLHLHH', '4HLLLHLHL', '4HLLLHLLH', '4HLLLHLLL', '4HLLLLHHH', '4HLLLLHHL', '4HLLLLHLH', '4HLLLLHLL', '4HLLLLLHH', '4HLLLLLHL', '4HLLLLLLH', '4HLLLLLLL', '4LHHHHHHH', '4LHHHHHHL', '4LHHHHHLH', '4LHHHHHLL', '4LHHHHLHH', '4LHHHHLHL', '4LHHHHLLH', '4LHHHHLLL', '4LHHHLHHH', '4LHHHLHHL', '4LHHHLHLH', '4LHHHLHLL', '4LHHHLLHH', '4LHHHLLHL', '4LHHHLLLH', '4LHHHLLLL', '4LHHLHHHH', '4LHHLHHHL', '4LHHLHHLH', '4LHHLHHLL', '4LHHLHLHH', '4LHHLHLHL', '4LHHLHLLH', '4LHHLHLLL', '4LHHLLHHH', '4LHHLLHHL', '4LHHLLHLH', '4LHHLLHLL', '4LHHLLLHH', '4LHHLLLHL', '4LHHLLLLH', '4LHHLLLLL', '4LHLHHHHH', '4LHLHHHHL', '4LHLHHHLH', '4LHLHHHLL', '4LHLHHLHH', '4LHLHHLHL', '4LHLHHLLH', '4LHLHHLLL', '4LHLHLHHH', '4LHLHLHHL', '4LHLHLHLH', '4LHLHLHLL', '4LHLHLLHH', '4LHLHLLHL', '4LHLHLLLH', '4LHLHLLLL', '4LHLLHHHH', '4LHLLHHHL', '4LHLLHHLH', '4LHLLHHLL', '4LHLLHLHH', '4LHLLHLHL', '4LHLLHLLH', '4LHLLHLLL', '4LHLLLHHH', '4LHLLLHHL', '4LHLLLHLH', '4LHLLLHLL', '4LHLLLLHH', '4LHLLLLHL', '4LHLLLLLH', '4LHLLLLLL', '4LLHHHHHH', '4LLHHHHHL', '4LLHHHHLH', '4LLHHHHLL', '4LLHHHLHH', '4LLHHHLHL', '4LLHHHLLH', '4LLHHHLLL', '4LLHHLHHH', '4LLHHLHHL', '4LLHHLHLH', '4LLHHLHLL', '4LLHHLLHH', '4LLHHLLHL', '4LLHHLLLH', '4LLHHLLLL', '4LLHLHHHH', '4LLHLHHHL', '4LLHLHHLH', '4LLHLHHLL', '4LLHLHLHH', '4LLHLHLHL', '4LLHLHLLH', '4LLHLHLLL', '4LLHLLHHH', '4LLHLLHHL', '4LLHLLHLH', '4LLHLLHLL', '4LLHLLLHH', '4LLHLLLHL', '4LLHLLLLH', '4LLHLLLLL', '4LLLHHHHH', '4LLLHHHHL', '4LLLHHHLH', '4LLLHHHLL', '4LLLHHLHH', '4LLLHHLHL', '4LLLHHLLH', '4LLLHHLLL', '4LLLHLHHH', '4LLLHLHHL', '4LLLHLHLH', '4LLLHLHLL', '4LLLHLLHH', '4LLLHLLHL', '4LLLHLLLH', '4LLLHLLLL', '4LLLLHHHH', '4LLLLHHHL', '4LLLLHHLH', '4LLLLHHLL', '4LLLLHLHH', '4LLLLHLHL', '4LLLLHLLH', '4LLLLHLLL', '4LLLLLHHH', '4LLLLLHHL', '4LLLLLHLH', '4LLLLLHLL', '4LLLLLLHH', '4LLLLLLHL', '4LLLLLLLH', '4LLLLLLLL', '5HHHHHHHH', '5HHHHHHHL', '5HHHHHHLH', '5HHHHHHLL', '5HHHHHLHH', '5HHHHHLHL', '5HHHHHLLH', '5HHHHHLLL', '5HHHHLHHH', '5HHHHLHHL', '5HHHHLHLH', '5HHHHLHLL', '5HHHHLLHH', '5HHHHLLHL', '5HHHHLLLH', '5HHHHLLLL', '5HHHLHHHH', '5HHHLHHHL', '5HHHLHHLH', '5HHHLHHLL', '5HHHLHLHH', '5HHHLHLHL', '5HHHLHLLH', '5HHHLHLLL', '5HHHLLHHH', '5HHHLLHHL', '5HHHLLHLH', '5HHHLLHLL', '5HHHLLLHH', '5HHHLLLHL', '5HHHLLLLH', '5HHHLLLLL', '5HHLHHHHH', '5HHLHHHHL', '5HHLHHHLH', '5HHLHHHLL', '5HHLHHLHH', '5HHLHHLHL', '5HHLHHLLH', '5HHLHHLLL', '5HHLHLHHH', '5HHLHLHHL', '5HHLHLHLH', '5HHLHLHLL', '5HHLHLLHH', '5HHLHLLHL', '5HHLHLLLH', '5HHLHLLLL', '5HHLLHHHH', '5HHLLHHHL', '5HHLLHHLH', '5HHLLHHLL', '5HHLLHLHH', '5HHLLHLHL', '5HHLLHLLH', '5HHLLHLLL', '5HHLLLHHH', '5HHLLLHHL', '5HHLLLHLH', '5HHLLLHLL', '5HHLLLLHH', '5HHLLLLHL', '5HHLLLLLH', '5HHLLLLLL', '5HLHHHHHH', '5HLHHHHHL', '5HLHHHHLH', '5HLHHHHLL', '5HLHHHLHH', '5HLHHHLHL', '5HLHHHLLH', '5HLHHHLLL', '5HLHHLHHH', '5HLHHLHHL', '5HLHHLHLH', '5HLHHLHLL', '5HLHHLLHH', '5HLHHLLHL', '5HLHHLLLH', '5HLHHLLLL', '5HLHLHHHH', '5HLHLHHHL', '5HLHLHHLH', '5HLHLHHLL', '5HLHLHLHH', '5HLHLHLHL', '5HLHLHLLH', '5HLHLHLLL', '5HLHLLHHH', '5HLHLLHHL', '5HLHLLHLH', '5HLHLLHLL', '5HLHLLLHH', '5HLHLLLHL', '5HLHLLLLH', '5HLHLLLLL', '5HLLHHHHH', '5HLLHHHHL', '5HLLHHHLH', '5HLLHHHLL', '5HLLHHLHH', '5HLLHHLHL', '5HLLHHLLH', '5HLLHHLLL', '5HLLHLHHH', '5HLLHLHHL', '5HLLHLHLH', '5HLLHLHLL', '5HLLHLLHH', '5HLLHLLHL', '5HLLHLLLH', '5HLLHLLLL', '5HLLLHHHH', '5HLLLHHHL', '5HLLLHHLH', '5HLLLHHLL', '5HLLLHLHH', '5HLLLHLHL', '5HLLLHLLH', '5HLLLHLLL', '5HLLLLHHH', '5HLLLLHHL', '5HLLLLHLH', '5HLLLLHLL', '5HLLLLLHH', '5HLLLLLHL', '5HLLLLLLH', '5HLLLLLLL', '5LHHHHHHH', '5LHHHHHHL', '5LHHHHHLH', '5LHHHHHLL', '5LHHHHLHH', '5LHHHHLHL', '5LHHHHLLH', '5LHHHHLLL', '5LHHHLHHH', '5LHHHLHHL', '5LHHHLHLH', '5LHHHLHLL', '5LHHHLLHH', '5LHHHLLHL', '5LHHHLLLH', '5LHHHLLLL', '5LHHLHHHH', '5LHHLHHHL', '5LHHLHHLH', '5LHHLHHLL', '5LHHLHLHH', '5LHHLHLHL', '5LHHLHLLH', '5LHHLHLLL', '5LHHLLHHH', '5LHHLLHHL', '5LHHLLHLH', '5LHHLLHLL', '5LHHLLLHH', '5LHHLLLHL', '5LHHLLLLH', '5LHHLLLLL', '5LHLHHHHH', '5LHLHHHHL', '5LHLHHHLH', '5LHLHHHLL', '5LHLHHLHH', '5LHLHHLHL', '5LHLHHLLH', '5LHLHHLLL', '5LHLHLHHH', '5LHLHLHHL', '5LHLHLHLH', '5LHLHLHLL', '5LHLHLLHH', '5LHLHLLHL', '5LHLHLLLH', '5LHLHLLLL', '5LHLLHHHH', '5LHLLHHHL', '5LHLLHHLH', '5LHLLHHLL', '5LHLLHLHH', '5LHLLHLHL', '5LHLLHLLH', '5LHLLHLLL', '5LHLLLHHH', '5LHLLLHHL', '5LHLLLHLH', '5LHLLLHLL', '5LHLLLLHH', '5LHLLLLHL', '5LHLLLLLH', '5LHLLLLLL', '5LLHHHHHH', '5LLHHHHHL', '5LLHHHHLH', '5LLHHHHLL', '5LLHHHLHH', '5LLHHHLHL', '5LLHHHLLH', '5LLHHHLLL', '5LLHHLHHH', '5LLHHLHHL', '5LLHHLHLH', '5LLHHLHLL', '5LLHHLLHH', '5LLHHLLHL', '5LLHHLLLH', '5LLHHLLLL', '5LLHLHHHH', '5LLHLHHHL', '5LLHLHHLH', '5LLHLHHLL', '5LLHLHLHH', '5LLHLHLHL', '5LLHLHLLH', '5LLHLHLLL', '5LLHLLHHH', '5LLHLLHHL', '5LLHLLHLH', '5LLHLLHLL', '5LLHLLLHH', '5LLHLLLHL', '5LLHLLLLH', '5LLHLLLLL', '5LLLHHHHH', '5LLLHHHHL', '5LLLHHHLH', '5LLLHHHLL', '5LLLHHLHH', '5LLLHHLHL', '5LLLHHLLH', '5LLLHHLLL', '5LLLHLHHH', '5LLLHLHHL', '5LLLHLHLH', '5LLLHLHLL', '5LLLHLLHH', '5LLLHLLHL', '5LLLHLLLH', '5LLLHLLLL', '5LLLLHHHH', '5LLLLHHHL', '5LLLLHHLH', '5LLLLHHLL', '5LLLLHLHH', '5LLLLHLHL', '5LLLLHLLH', '5LLLLHLLL', '5LLLLLHHH', '5LLLLLHHL', '5LLLLLHLH', '5LLLLLHLL', '5LLLLLLHH', '5LLLLLLHL', '5LLLLLLLH', '5LLLLLLLL', '6HHHHHHHH', '6HHHHHHHL', '6HHHHHHLH', '6HHHHHHLL', '6HHHHHLHH', '6HHHHHLHL', '6HHHHHLLH', '6HHHHHLLL', '6HHHHLHHH', '6HHHHLHHL', '6HHHHLHLH', '6HHHHLHLL', '6HHHHLLHH', '6HHHHLLHL', '6HHHHLLLH', '6HHHHLLLL', '6HHHLHHHH', '6HHHLHHHL', '6HHHLHHLH', '6HHHLHHLL', '6HHHLHLHH', '6HHHLHLHL', '6HHHLHLLH', '6HHHLHLLL', '6HHHLLHHH', '6HHHLLHHL', '6HHHLLHLH', '6HHHLLHLL', '6HHHLLLHH', '6HHHLLLHL', '6HHHLLLLH', '6HHHLLLLL', '6HHLHHHHH', '6HHLHHHHL', '6HHLHHHLH', '6HHLHHHLL', '6HHLHHLHH', '6HHLHHLHL', '6HHLHHLLH', '6HHLHHLLL', '6HHLHLHHH', '6HHLHLHHL', '6HHLHLHLH', '6HHLHLHLL', '6HHLHLLHH', '6HHLHLLHL', '6HHLHLLLH', '6HHLHLLLL', '6HHLLHHHH', '6HHLLHHHL', '6HHLLHHLH', '6HHLLHHLL', '6HHLLHLHH', '6HHLLHLHL', '6HHLLHLLH', '6HHLLHLLL', '6HHLLLHHH', '6HHLLLHHL', '6HHLLLHLH', '6HHLLLHLL', '6HHLLLLHH', '6HHLLLLHL', '6HHLLLLLH', '6HHLLLLLL', '6HLHHHHHH', '6HLHHHHHL', '6HLHHHHLH', '6HLHHHHLL', '6HLHHHLHH', '6HLHHHLHL', '6HLHHHLLH', '6HLHHHLLL', '6HLHHLHHH', '6HLHHLHHL', '6HLHHLHLH', '6HLHHLHLL', '6HLHHLLHH', '6HLHHLLHL', '6HLHHLLLH', '6HLHHLLLL', '6HLHLHHHH', '6HLHLHHHL', '6HLHLHHLH', '6HLHLHHLL', '6HLHLHLHH', '6HLHLHLHL', '6HLHLHLLH', '6HLHLHLLL', '6HLHLLHHH', '6HLHLLHHL', '6HLHLLHLH', '6HLHLLHLL', '6HLHLLLHH', '6HLHLLLHL', '6HLHLLLLH', '6HLHLLLLL', '6HLLHHHHH', '6HLLHHHHL', '6HLLHHHLH', '6HLLHHHLL', '6HLLHHLHH', '6HLLHHLHL', '6HLLHHLLH', '6HLLHHLLL', '6HLLHLHHH', '6HLLHLHHL', '6HLLHLHLH', '6HLLHLHLL', '6HLLHLLHH', '6HLLHLLHL', '6HLLHLLLH', '6HLLHLLLL', '6HLLLHHHH', '6HLLLHHHL', '6HLLLHHLH', '6HLLLHHLL', '6HLLLHLHH', '6HLLLHLHL', '6HLLLHLLH', '6HLLLHLLL', '6HLLLLHHH', '6HLLLLHHL', '6HLLLLHLH', '6HLLLLHLL', '6HLLLLLHH', '6HLLLLLHL', '6HLLLLLLH', '6HLLLLLLL', '6LHHHHHHH', '6LHHHHHHL', '6LHHHHHLH', '6LHHHHHLL', '6LHHHHLHH', '6LHHHHLHL', '6LHHHHLLH', '6LHHHHLLL', '6LHHHLHHH', '6LHHHLHHL', '6LHHHLHLH', '6LHHHLHLL', '6LHHHLLHH', '6LHHHLLHL', '6LHHHLLLH', '6LHHHLLLL', '6LHHLHHHH', '6LHHLHHHL', '6LHHLHHLH', '6LHHLHHLL', '6LHHLHLHH', '6LHHLHLHL', '6LHHLHLLH', '6LHHLHLLL', '6LHHLLHHH', '6LHHLLHHL', '6LHHLLHLH', '6LHHLLHLL', '6LHHLLLHH', '6LHHLLLHL', '6LHHLLLLH', '6LHHLLLLL', '6LHLHHHHH', '6LHLHHHHL', '6LHLHHHLH', '6LHLHHHLL', '6LHLHHLHH', '6LHLHHLHL', '6LHLHHLLH', '6LHLHHLLL', '6LHLHLHHH', '6LHLHLHHL', '6LHLHLHLH', '6LHLHLHLL', '6LHLHLLHH', '6LHLHLLHL', '6LHLHLLLH', '6LHLHLLLL', '6LHLLHHHH', '6LHLLHHHL', '6LHLLHHLH', '6LHLLHHLL', '6LHLLHLHH', '6LHLLHLHL', '6LHLLHLLH', '6LHLLHLLL', '6LHLLLHHH', '6LHLLLHHL', '6LHLLLHLH', '6LHLLLHLL', '6LHLLLLHH', '6LHLLLLHL', '6LHLLLLLH', '6LHLLLLLL', '6LLHHHHHH', '6LLHHHHHL', '6LLHHHHLH', '6LLHHHHLL', '6LLHHHLHH', '6LLHHHLHL', '6LLHHHLLH', '6LLHHHLLL', '6LLHHLHHH', '6LLHHLHHL', '6LLHHLHLH', '6LLHHLHLL', '6LLHHLLHH', '6LLHHLLHL', '6LLHHLLLH', '6LLHHLLLL', '6LLHLHHHH', '6LLHLHHHL', '6LLHLHHLH', '6LLHLHHLL', '6LLHLHLHH', '6LLHLHLHL', '6LLHLHLLH', '6LLHLHLLL', '6LLHLLHHH', '6LLHLLHHL', '6LLHLLHLH', '6LLHLLHLL', '6LLHLLLHH', '6LLHLLLHL', '6LLHLLLLH', '6LLHLLLLL', '6LLLHHHHH', '6LLLHHHHL', '6LLLHHHLH', '6LLLHHHLL', '6LLLHHLHH', '6LLLHHLHL', '6LLLHHLLH', '6LLLHHLLL', '6LLLHLHHH', '6LLLHLHHL', '6LLLHLHLH', '6LLLHLHLL', '6LLLHLLHH', '6LLLHLLHL', '6LLLHLLLH', '6LLLHLLLL', '6LLLLHHHH', '6LLLLHHHL', '6LLLLHHLH', '6LLLLHHLL', '6LLLLHLHH', '6LLLLHLHL', '6LLLLHLLH', '6LLLLHLLL', '6LLLLLHHH', '6LLLLLHHL', '6LLLLLHLH', '6LLLLLHLL', '6LLLLLLHH', '6LLLLLLHL', '6LLLLLLLH', '6LLLLLLLL', '7HHHHHHHH', '7HHHHHHHL', '7HHHHHHLH', '7HHHHHHLL', '7HHHHHLHH', '7HHHHHLHL', '7HHHHHLLH', '7HHHHHLLL', '7HHHHLHHH', '7HHHHLHHL', '7HHHHLHLH', '7HHHHLHLL', '7HHHHLLHH', '7HHHHLLHL', '7HHHHLLLH', '7HHHHLLLL', '7HHHLHHHH', '7HHHLHHHL', '7HHHLHHLH', '7HHHLHHLL', '7HHHLHLHH', '7HHHLHLHL', '7HHHLHLLH', '7HHHLHLLL', '7HHHLLHHH', '7HHHLLHHL', '7HHHLLHLH', '7HHHLLHLL', '7HHHLLLHH', '7HHHLLLHL', '7HHHLLLLH', '7HHHLLLLL', '7HHLHHHHH', '7HHLHHHHL', '7HHLHHHLH', '7HHLHHHLL', '7HHLHHLHH', '7HHLHHLHL', '7HHLHHLLH', '7HHLHHLLL', '7HHLHLHHH', '7HHLHLHHL', '7HHLHLHLH', '7HHLHLHLL', '7HHLHLLHH', '7HHLHLLHL', '7HHLHLLLH', '7HHLHLLLL', '7HHLLHHHH', '7HHLLHHHL', '7HHLLHHLH', '7HHLLHHLL', '7HHLLHLHH', '7HHLLHLHL', '7HHLLHLLH', '7HHLLHLLL', '7HHLLLHHH', '7HHLLLHHL', '7HHLLLHLH', '7HHLLLHLL', '7HHLLLLHH', '7HHLLLLHL', '7HHLLLLLH', '7HHLLLLLL', '7HLHHHHHH', '7HLHHHHHL', '7HLHHHHLH', '7HLHHHHLL', '7HLHHHLHH', '7HLHHHLHL', '7HLHHHLLH', '7HLHHHLLL', '7HLHHLHHH', '7HLHHLHHL', '7HLHHLHLH', '7HLHHLHLL', '7HLHHLLHH', '7HLHHLLHL', '7HLHHLLLH', '7HLHHLLLL', '7HLHLHHHH', '7HLHLHHHL', '7HLHLHHLH', '7HLHLHHLL', '7HLHLHLHH', '7HLHLHLHL', '7HLHLHLLH', '7HLHLHLLL', '7HLHLLHHH', '7HLHLLHHL', '7HLHLLHLH', '7HLHLLHLL', '7HLHLLLHH', '7HLHLLLHL', '7HLHLLLLH', '7HLHLLLLL', '7HLLHHHHH', '7HLLHHHHL', '7HLLHHHLH', '7HLLHHHLL', '7HLLHHLHH', '7HLLHHLHL', '7HLLHHLLH', '7HLLHHLLL', '7HLLHLHHH', '7HLLHLHHL', '7HLLHLHLH', '7HLLHLHLL', '7HLLHLLHH', '7HLLHLLHL', '7HLLHLLLH', '7HLLHLLLL', '7HLLLHHHH', '7HLLLHHHL', '7HLLLHHLH', '7HLLLHHLL', '7HLLLHLHH', '7HLLLHLHL', '7HLLLHLLH', '7HLLLHLLL', '7HLLLLHHH', '7HLLLLHHL', '7HLLLLHLH', '7HLLLLHLL', '7HLLLLLHH', '7HLLLLLHL', '7HLLLLLLH', '7HLLLLLLL', '7LHHHHHHH', '7LHHHHHHL', '7LHHHHHLH', '7LHHHHHLL', '7LHHHHLHH', '7LHHHHLHL', '7LHHHHLLH', '7LHHHHLLL', '7LHHHLHHH', '7LHHHLHHL', '7LHHHLHLH', '7LHHHLHLL', '7LHHHLLHH', '7LHHHLLHL', '7LHHHLLLH', '7LHHHLLLL', '7LHHLHHHH', '7LHHLHHHL', '7LHHLHHLH', '7LHHLHHLL', '7LHHLHLHH', '7LHHLHLHL', '7LHHLHLLH', '7LHHLHLLL', '7LHHLLHHH', '7LHHLLHHL', '7LHHLLHLH', '7LHHLLHLL', '7LHHLLLHH', '7LHHLLLHL', '7LHHLLLLH', '7LHHLLLLL', '7LHLHHHHH', '7LHLHHHHL', '7LHLHHHLH', '7LHLHHHLL', '7LHLHHLHH', '7LHLHHLHL', '7LHLHHLLH', '7LHLHHLLL', '7LHLHLHHH', '7LHLHLHHL', '7LHLHLHLH', '7LHLHLHLL', '7LHLHLLHH', '7LHLHLLHL', '7LHLHLLLH', '7LHLHLLLL', '7LHLLHHHH', '7LHLLHHHL', '7LHLLHHLH', '7LHLLHHLL', '7LHLLHLHH', '7LHLLHLHL', '7LHLLHLLH', '7LHLLHLLL', '7LHLLLHHH', '7LHLLLHHL', '7LHLLLHLH', '7LHLLLHLL', '7LHLLLLHH', '7LHLLLLHL', '7LHLLLLLH', '7LHLLLLLL', '7LLHHHHHH', '7LLHHHHHL', '7LLHHHHLH', '7LLHHHHLL', '7LLHHHLHH', '7LLHHHLHL', '7LLHHHLLH', '7LLHHHLLL', '7LLHHLHHH', '7LLHHLHHL', '7LLHHLHLH', '7LLHHLHLL', '7LLHHLLHH', '7LLHHLLHL', '7LLHHLLLH', '7LLHHLLLL', '7LLHLHHHH', '7LLHLHHHL', '7LLHLHHLH', '7LLHLHHLL', '7LLHLHLHH', '7LLHLHLHL', '7LLHLHLLH', '7LLHLHLLL', '7LLHLLHHH', '7LLHLLHHL', '7LLHLLHLH', '7LLHLLHLL', '7LLHLLLHH', '7LLHLLLHL', '7LLHLLLLH', '7LLHLLLLL', '7LLLHHHHH', '7LLLHHHHL', '7LLLHHHLH', '7LLLHHHLL', '7LLLHHLHH', '7LLLHHLHL', '7LLLHHLLH', '7LLLHHLLL', '7LLLHLHHH', '7LLLHLHHL', '7LLLHLHLH', '7LLLHLHLL', '7LLLHLLHH', '7LLLHLLHL', '7LLLHLLLH', '7LLLHLLLL', '7LLLLHHHH', '7LLLLHHHL', '7LLLLHHLH', '7LLLLHHLL', '7LLLLHLHH', '7LLLLHLHL', '7LLLLHLLH', '7LLLLHLLL', '7LLLLLHHH', '7LLLLLHHL', '7LLLLLHLH', '7LLLLLHLL', '7LLLLLLHH', '7LLLLLLHL', '7LLLLLLLH', '7LLLLLLLL', '8HHHHHHHH', '8HHHHHHHL', '8HHHHHHLH', '8HHHHHHLL', '8HHHHHLHH', '8HHHHHLHL', '8HHHHHLLH', '8HHHHHLLL', '8HHHHLHHH', '8HHHHLHHL', '8HHHHLHLH', '8HHHHLHLL', '8HHHHLLHH', '8HHHHLLHL', '8HHHHLLLH', '8HHHHLLLL', '8HHHLHHHH', '8HHHLHHHL', '8HHHLHHLH', '8HHHLHHLL', '8HHHLHLHH', '8HHHLHLHL', '8HHHLHLLH', '8HHHLHLLL', '8HHHLLHHH', '8HHHLLHHL', '8HHHLLHLH', '8HHHLLHLL', '8HHHLLLHH', '8HHHLLLHL', '8HHHLLLLH', '8HHHLLLLL', '8HHLHHHHH', '8HHLHHHHL', '8HHLHHHLH', '8HHLHHHLL', '8HHLHHLHH', '8HHLHHLHL', '8HHLHHLLH', '8HHLHHLLL', '8HHLHLHHH', '8HHLHLHHL', '8HHLHLHLH', '8HHLHLHLL', '8HHLHLLHH', '8HHLHLLHL', '8HHLHLLLH', '8HHLHLLLL', '8HHLLHHHH', '8HHLLHHHL', '8HHLLHHLH', '8HHLLHHLL', '8HHLLHLHH', '8HHLLHLHL', '8HHLLHLLH', '8HHLLHLLL', '8HHLLLHHH', '8HHLLLHHL', '8HHLLLHLH', '8HHLLLHLL', '8HHLLLLHH', '8HHLLLLHL', '8HHLLLLLH', '8HHLLLLLL', '8HLHHHHHH', '8HLHHHHHL', '8HLHHHHLH', '8HLHHHHLL', '8HLHHHLHH', '8HLHHHLHL', '8HLHHHLLH', '8HLHHHLLL', '8HLHHLHHH', '8HLHHLHHL', '8HLHHLHLH', '8HLHHLHLL', '8HLHHLLHH', '8HLHHLLHL', '8HLHHLLLH', '8HLHHLLLL', '8HLHLHHHH', '8HLHLHHHL', '8HLHLHHLH', '8HLHLHHLL', '8HLHLHLHH', '8HLHLHLHL', '8HLHLHLLH', '8HLHLHLLL', '8HLHLLHHH', '8HLHLLHHL', '8HLHLLHLH', '8HLHLLHLL', '8HLHLLLHH', '8HLHLLLHL', '8HLHLLLLH', '8HLHLLLLL', '8HLLHHHHH', '8HLLHHHHL', '8HLLHHHLH', '8HLLHHHLL', '8HLLHHLHH', '8HLLHHLHL', '8HLLHHLLH', '8HLLHHLLL', '8HLLHLHHH', '8HLLHLHHL', '8HLLHLHLH', '8HLLHLHLL', '8HLLHLLHH', '8HLLHLLHL', '8HLLHLLLH', '8HLLHLLLL', '8HLLLHHHH', '8HLLLHHHL', '8HLLLHHLH', '8HLLLHHLL', '8HLLLHLHH', '8HLLLHLHL', '8HLLLHLLH', '8HLLLHLLL', '8HLLLLHHH', '8HLLLLHHL', '8HLLLLHLH', '8HLLLLHLL', '8HLLLLLHH', '8HLLLLLHL', '8HLLLLLLH', '8HLLLLLLL', '8LHHHHHHH', '8LHHHHHHL', '8LHHHHHLH', '8LHHHHHLL', '8LHHHHLHH', '8LHHHHLHL', '8LHHHHLLH', '8LHHHHLLL', '8LHHHLHHH', '8LHHHLHHL', '8LHHHLHLH', '8LHHHLHLL', '8LHHHLLHH', '8LHHHLLHL', '8LHHHLLLH', '8LHHHLLLL', '8LHHLHHHH', '8LHHLHHHL', '8LHHLHHLH', '8LHHLHHLL', '8LHHLHLHH', '8LHHLHLHL', '8LHHLHLLH', '8LHHLHLLL', '8LHHLLHHH', '8LHHLLHHL', '8LHHLLHLH', '8LHHLLHLL', '8LHHLLLHH', '8LHHLLLHL', '8LHHLLLLH', '8LHHLLLLL', '8LHLHHHHH', '8LHLHHHHL', '8LHLHHHLH', '8LHLHHHLL', '8LHLHHLHH', '8LHLHHLHL', '8LHLHHLLH', '8LHLHHLLL', '8LHLHLHHH', '8LHLHLHHL', '8LHLHLHLH', '8LHLHLHLL', '8LHLHLLHH', '8LHLHLLHL', '8LHLHLLLH', '8LHLHLLLL', '8LHLLHHHH', '8LHLLHHHL', '8LHLLHHLH', '8LHLLHHLL', '8LHLLHLHH', '8LHLLHLHL', '8LHLLHLLH', '8LHLLHLLL', '8LHLLLHHH', '8LHLLLHHL', '8LHLLLHLH', '8LHLLLHLL', '8LHLLLLHH', '8LHLLLLHL', '8LHLLLLLH', '8LHLLLLLL', '8LLHHHHHH', '8LLHHHHHL', '8LLHHHHLH', '8LLHHHHLL', '8LLHHHLHH', '8LLHHHLHL', '8LLHHHLLH', '8LLHHHLLL', '8LLHHLHHH', '8LLHHLHHL', '8LLHHLHLH', '8LLHHLHLL', '8LLHHLLHH', '8LLHHLLHL', '8LLHHLLLH', '8LLHHLLLL', '8LLHLHHHH', '8LLHLHHHL', '8LLHLHHLH', '8LLHLHHLL', '8LLHLHLHH', '8LLHLHLHL', '8LLHLHLLH', '8LLHLHLLL', '8LLHLLHHH', '8LLHLLHHL', '8LLHLLHLH', '8LLHLLHLL', '8LLHLLLHH', '8LLHLLLHL', '8LLHLLLLH', '8LLHLLLLL', '8LLLHHHHH', '8LLLHHHHL', '8LLLHHHLH', '8LLLHHHLL', '8LLLHHLHH', '8LLLHHLHL', '8LLLHHLLH', '8LLLHHLLL', '8LLLHLHHH', '8LLLHLHHL', '8LLLHLHLH', '8LLLHLHLL', '8LLLHLLHH', '8LLLHLLHL', '8LLLHLLLH', '8LLLHLLLL', '8LLLLHHHH', '8LLLLHHHL', '8LLLLHHLH', '8LLLLHHLL', '8LLLLHLHH', '8LLLLHLHL', '8LLLLHLLH', '8LLLLHLLL', '8LLLLLHHH', '8LLLLLHHL', '8LLLLLHLH', '8LLLLLHLL', '8LLLLLLHH', '8LLLLLLHL', '8LLLLLLLH', '8LLLLLLLL']\n",
            "Action Space: [1, 2, 3, 4, 5, 6, 7, 8]\n",
            "Q-table [[0.75224787 0.72246189 0.74771479 ... 0.76459152 0.74240896 0.74366214]\n",
            " [0.75221997 0.70750687 0.74361745 ... 0.72076203 0.74725    0.73931671]\n",
            " [0.75616892 0.73426355 0.7418776  ... 0.748932   0.73659851 0.74603764]\n",
            " ...\n",
            " [0.67942671 0.69075652 0.69391349 ... 0.70392537 0.69308976 0.72216872]\n",
            " [0.66479214 0.69842623 0.69335537 ... 0.72582212 0.68918551 0.70231046]\n",
            " [0.67141753 0.66392516 0.67889457 ... 0.72973161 0.69450718 0.71114284]]\n",
            "Learned Policy: {'1HHHHHHHH': 5, '1HHHHHHHL': 5, '1HHHHHHLH': 5, '1HHHHHHLL': 5, '1HHHHHLHH': 5, '1HHHHHLHL': 5, '1HHHHHLLH': 1, '1HHHHHLLL': 5, '1HHHHLHHH': 6, '1HHHHLHHL': 6, '1HHHHLHLH': 6, '1HHHHLHLL': 6, '1HHHHLLHH': 6, '1HHHHLLHL': 6, '1HHHHLLLH': 6, '1HHHHLLLL': 6, '1HHHLHHHH': 5, '1HHHLHHHL': 5, '1HHHLHHLH': 5, '1HHHLHHLL': 5, '1HHHLHLHH': 5, '1HHHLHLHL': 5, '1HHHLHLLH': 5, '1HHHLHLLL': 5, '1HHHLLHHH': 1, '1HHHLLHHL': 6, '1HHHLLHLH': 6, '1HHHLLHLL': 6, '1HHHLLLHH': 6, '1HHHLLLHL': 1, '1HHHLLLLH': 6, '1HHHLLLLL': 6, '1HHLHHHHH': 5, '1HHLHHHHL': 5, '1HHLHHHLH': 5, '1HHLHHHLL': 5, '1HHLHHLHH': 6, '1HHLHHLHL': 5, '1HHLHHLLH': 5, '1HHLHHLLL': 5, '1HHLHLHHH': 6, '1HHLHLHHL': 6, '1HHLHLHLH': 6, '1HHLHLHLL': 6, '1HHLHLLHH': 6, '1HHLHLLHL': 6, '1HHLHLLLH': 6, '1HHLHLLLL': 6, '1HHLLHHHH': 5, '1HHLLHHHL': 5, '1HHLLHHLH': 5, '1HHLLHHLL': 5, '1HHLLHLHH': 5, '1HHLLHLHL': 5, '1HHLLHLLH': 5, '1HHLLHLLL': 5, '1HHLLLHHH': 6, '1HHLLLHHL': 6, '1HHLLLHLH': 6, '1HHLLLHLL': 6, '1HHLLLLHH': 6, '1HHLLLLHL': 6, '1HHLLLLLH': 6, '1HHLLLLLL': 6, '1HLHHHHHH': 5, '1HLHHHHHL': 5, '1HLHHHHLH': 5, '1HLHHHHLL': 5, '1HLHHHLHH': 5, '1HLHHHLHL': 5, '1HLHHHLLH': 5, '1HLHHHLLL': 5, '1HLHHLHHH': 6, '1HLHHLHHL': 7, '1HLHHLHLH': 6, '1HLHHLHLL': 1, '1HLHHLLHH': 6, '1HLHHLLHL': 6, '1HLHHLLLH': 6, '1HLHHLLLL': 6, '1HLHLHHHH': 5, '1HLHLHHHL': 1, '1HLHLHHLH': 5, '1HLHLHHLL': 5, '1HLHLHLHH': 5, '1HLHLHLHL': 5, '1HLHLHLLH': 5, '1HLHLHLLL': 5, '1HLHLLHHH': 6, '1HLHLLHHL': 6, '1HLHLLHLH': 6, '1HLHLLHLL': 1, '1HLHLLLHH': 1, '1HLHLLLHL': 6, '1HLHLLLLH': 6, '1HLHLLLLL': 6, '1HLLHHHHH': 5, '1HLLHHHHL': 5, '1HLLHHHLH': 5, '1HLLHHHLL': 6, '1HLLHHLHH': 1, '1HLLHHLHL': 5, '1HLLHHLLH': 5, '1HLLHHLLL': 5, '1HLLHLHHH': 6, '1HLLHLHHL': 6, '1HLLHLHLH': 6, '1HLLHLHLL': 6, '1HLLHLLHH': 6, '1HLLHLLHL': 1, '1HLLHLLLH': 6, '1HLLHLLLL': 6, '1HLLLHHHH': 5, '1HLLLHHHL': 5, '1HLLLHHLH': 5, '1HLLLHHLL': 5, '1HLLLHLHH': 5, '1HLLLHLHL': 5, '1HLLLHLLH': 5, '1HLLLHLLL': 5, '1HLLLLHHH': 6, '1HLLLLHHL': 6, '1HLLLLHLH': 1, '1HLLLLHLL': 6, '1HLLLLLHH': 6, '1HLLLLLHL': 7, '1HLLLLLLH': 6, '1HLLLLLLL': 6, '1LHHHHHHH': 5, '1LHHHHHHL': 5, '1LHHHHHLH': 6, '1LHHHHHLL': 5, '1LHHHHLHH': 5, '1LHHHHLHL': 5, '1LHHHHLLH': 5, '1LHHHHLLL': 5, '1LHHHLHHH': 6, '1LHHHLHHL': 6, '1LHHHLHLH': 6, '1LHHHLHLL': 6, '1LHHHLLHH': 6, '1LHHHLLHL': 6, '1LHHHLLLH': 6, '1LHHHLLLL': 6, '1LHHLHHHH': 5, '1LHHLHHHL': 5, '1LHHLHHLH': 5, '1LHHLHHLL': 5, '1LHHLHLHH': 5, '1LHHLHLHL': 5, '1LHHLHLLH': 5, '1LHHLHLLL': 5, '1LHHLLHHH': 6, '1LHHLLHHL': 7, '1LHHLLHLH': 6, '1LHHLLHLL': 6, '1LHHLLLHH': 6, '1LHHLLLHL': 6, '1LHHLLLLH': 6, '1LHHLLLLL': 6, '1LHLHHHHH': 5, '1LHLHHHHL': 5, '1LHLHHHLH': 5, '1LHLHHHLL': 5, '1LHLHHLHH': 5, '1LHLHHLHL': 5, '1LHLHHLLH': 5, '1LHLHHLLL': 5, '1LHLHLHHH': 6, '1LHLHLHHL': 6, '1LHLHLHLH': 6, '1LHLHLHLL': 6, '1LHLHLLHH': 6, '1LHLHLLHL': 6, '1LHLHLLLH': 6, '1LHLHLLLL': 6, '1LHLLHHHH': 5, '1LHLLHHHL': 5, '1LHLLHHLH': 5, '1LHLLHHLL': 5, '1LHLLHLHH': 5, '1LHLLHLHL': 5, '1LHLLHLLH': 5, '1LHLLHLLL': 5, '1LHLLLHHH': 6, '1LHLLLHHL': 6, '1LHLLLHLH': 6, '1LHLLLHLL': 6, '1LHLLLLHH': 6, '1LHLLLLHL': 6, '1LHLLLLLH': 6, '1LHLLLLLL': 6, '1LLHHHHHH': 5, '1LLHHHHHL': 5, '1LLHHHHLH': 6, '1LLHHHHLL': 5, '1LLHHHLHH': 6, '1LLHHHLHL': 6, '1LLHHHLLH': 5, '1LLHHHLLL': 5, '1LLHHLHHH': 6, '1LLHHLHHL': 6, '1LLHHLHLH': 6, '1LLHHLHLL': 6, '1LLHHLLHH': 3, '1LLHHLLHL': 6, '1LLHHLLLH': 6, '1LLHHLLLL': 6, '1LLHLHHHH': 6, '1LLHLHHHL': 5, '1LLHLHHLH': 5, '1LLHLHHLL': 5, '1LLHLHLHH': 5, '1LLHLHLHL': 6, '1LLHLHLLH': 5, '1LLHLHLLL': 5, '1LLHLLHHH': 6, '1LLHLLHHL': 6, '1LLHLLHLH': 6, '1LLHLLHLL': 6, '1LLHLLLHH': 6, '1LLHLLLHL': 6, '1LLHLLLLH': 6, '1LLHLLLLL': 6, '1LLLHHHHH': 5, '1LLLHHHHL': 5, '1LLLHHHLH': 6, '1LLLHHHLL': 5, '1LLLHHLHH': 5, '1LLLHHLHL': 5, '1LLLHHLLH': 5, '1LLLHHLLL': 5, '1LLLHLHHH': 6, '1LLLHLHHL': 6, '1LLLHLHLH': 6, '1LLLHLHLL': 6, '1LLLHLLHH': 6, '1LLLHLLHL': 6, '1LLLHLLLH': 6, '1LLLHLLLL': 6, '1LLLLHHHH': 5, '1LLLLHHHL': 6, '1LLLLHHLH': 5, '1LLLLHHLL': 5, '1LLLLHLHH': 5, '1LLLLHLHL': 5, '1LLLLHLLH': 5, '1LLLLHLLL': 5, '1LLLLLHHH': 6, '1LLLLLHHL': 6, '1LLLLLHLH': 6, '1LLLLLHLL': 6, '1LLLLLLHH': 6, '1LLLLLLHL': 6, '1LLLLLLLH': 6, '1LLLLLLLL': 6, '2HHHHHHHH': 5, '2HHHHHHHL': 5, '2HHHHHHLH': 5, '2HHHHHHLL': 5, '2HHHHHLHH': 5, '2HHHHHLHL': 5, '2HHHHHLLH': 5, '2HHHHHLLL': 5, '2HHHHLHHH': 8, '2HHHHLHHL': 6, '2HHHHLHLH': 6, '2HHHHLHLL': 6, '2HHHHLLHH': 6, '2HHHHLLHL': 6, '2HHHHLLLH': 6, '2HHHHLLLL': 6, '2HHHLHHHH': 5, '2HHHLHHHL': 5, '2HHHLHHLH': 5, '2HHHLHHLL': 5, '2HHHLHLHH': 5, '2HHHLHLHL': 5, '2HHHLHLLH': 5, '2HHHLHLLL': 6, '2HHHLLHHH': 3, '2HHHLLHHL': 6, '2HHHLLHLH': 6, '2HHHLLHLL': 6, '2HHHLLLHH': 7, '2HHHLLLHL': 6, '2HHHLLLLH': 6, '2HHHLLLLL': 6, '2HHLHHHHH': 5, '2HHLHHHHL': 5, '2HHLHHHLH': 5, '2HHLHHHLL': 5, '2HHLHHLHH': 5, '2HHLHHLHL': 5, '2HHLHHLLH': 5, '2HHLHHLLL': 5, '2HHLHLHHH': 6, '2HHLHLHHL': 6, '2HHLHLHLH': 6, '2HHLHLHLL': 6, '2HHLHLLHH': 6, '2HHLHLLHL': 1, '2HHLHLLLH': 6, '2HHLHLLLL': 6, '2HHLLHHHH': 5, '2HHLLHHHL': 5, '2HHLLHHLH': 5, '2HHLLHHLL': 5, '2HHLLHLHH': 5, '2HHLLHLHL': 5, '2HHLLHLLH': 5, '2HHLLHLLL': 5, '2HHLLLHHH': 6, '2HHLLLHHL': 6, '2HHLLLHLH': 6, '2HHLLLHLL': 6, '2HHLLLLHH': 7, '2HHLLLLHL': 7, '2HHLLLLLH': 6, '2HHLLLLLL': 6, '2HLHHHHHH': 5, '2HLHHHHHL': 5, '2HLHHHHLH': 5, '2HLHHHHLL': 5, '2HLHHHLHH': 5, '2HLHHHLHL': 5, '2HLHHHLLH': 5, '2HLHHHLLL': 5, '2HLHHLHHH': 6, '2HLHHLHHL': 7, '2HLHHLHLH': 6, '2HLHHLHLL': 6, '2HLHHLLHH': 6, '2HLHHLLHL': 6, '2HLHHLLLH': 6, '2HLHHLLLL': 6, '2HLHLHHHH': 5, '2HLHLHHHL': 5, '2HLHLHHLH': 5, '2HLHLHHLL': 5, '2HLHLHLHH': 5, '2HLHLHLHL': 5, '2HLHLHLLH': 5, '2HLHLHLLL': 5, '2HLHLLHHH': 7, '2HLHLLHHL': 6, '2HLHLLHLH': 6, '2HLHLLHLL': 6, '2HLHLLLHH': 6, '2HLHLLLHL': 6, '2HLHLLLLH': 6, '2HLHLLLLL': 6, '2HLLHHHHH': 5, '2HLLHHHHL': 5, '2HLLHHHLH': 5, '2HLLHHHLL': 5, '2HLLHHLHH': 6, '2HLLHHLHL': 5, '2HLLHHLLH': 5, '2HLLHHLLL': 5, '2HLLHLHHH': 6, '2HLLHLHHL': 6, '2HLLHLHLH': 6, '2HLLHLHLL': 6, '2HLLHLLHH': 6, '2HLLHLLHL': 6, '2HLLHLLLH': 6, '2HLLHLLLL': 8, '2HLLLHHHH': 5, '2HLLLHHHL': 5, '2HLLLHHLH': 5, '2HLLLHHLL': 5, '2HLLLHLHH': 5, '2HLLLHLHL': 5, '2HLLLHLLH': 5, '2HLLLHLLL': 5, '2HLLLLHHH': 6, '2HLLLLHHL': 6, '2HLLLLHLH': 6, '2HLLLLHLL': 6, '2HLLLLLHH': 6, '2HLLLLLHL': 6, '2HLLLLLLH': 6, '2HLLLLLLL': 6, '2LHHHHHHH': 5, '2LHHHHHHL': 5, '2LHHHHHLH': 5, '2LHHHHHLL': 5, '2LHHHHLHH': 5, '2LHHHHLHL': 5, '2LHHHHLLH': 5, '2LHHHHLLL': 5, '2LHHHLHHH': 6, '2LHHHLHHL': 6, '2LHHHLHLH': 6, '2LHHHLHLL': 6, '2LHHHLLHH': 6, '2LHHHLLHL': 6, '2LHHHLLLH': 6, '2LHHHLLLL': 6, '2LHHLHHHH': 5, '2LHHLHHHL': 5, '2LHHLHHLH': 5, '2LHHLHHLL': 5, '2LHHLHLHH': 5, '2LHHLHLHL': 5, '2LHHLHLLH': 5, '2LHHLHLLL': 5, '2LHHLLHHH': 6, '2LHHLLHHL': 6, '2LHHLLHLH': 6, '2LHHLLHLL': 6, '2LHHLLLHH': 7, '2LHHLLLHL': 6, '2LHHLLLLH': 6, '2LHHLLLLL': 6, '2LHLHHHHH': 5, '2LHLHHHHL': 5, '2LHLHHHLH': 5, '2LHLHHHLL': 5, '2LHLHHLHH': 5, '2LHLHHLHL': 5, '2LHLHHLLH': 5, '2LHLHHLLL': 6, '2LHLHLHHH': 6, '2LHLHLHHL': 6, '2LHLHLHLH': 6, '2LHLHLHLL': 6, '2LHLHLLHH': 6, '2LHLHLLHL': 6, '2LHLHLLLH': 6, '2LHLHLLLL': 6, '2LHLLHHHH': 5, '2LHLLHHHL': 5, '2LHLLHHLH': 5, '2LHLLHHLL': 5, '2LHLLHLHH': 5, '2LHLLHLHL': 5, '2LHLLHLLH': 5, '2LHLLHLLL': 5, '2LHLLLHHH': 6, '2LHLLLHHL': 6, '2LHLLLHLH': 6, '2LHLLLHLL': 6, '2LHLLLLHH': 6, '2LHLLLLHL': 6, '2LHLLLLLH': 6, '2LHLLLLLL': 6, '2LLHHHHHH': 5, '2LLHHHHHL': 5, '2LLHHHHLH': 5, '2LLHHHHLL': 5, '2LLHHHLHH': 5, '2LLHHHLHL': 5, '2LLHHHLLH': 5, '2LLHHHLLL': 5, '2LLHHLHHH': 6, '2LLHHLHHL': 7, '2LLHHLHLH': 8, '2LLHHLHLL': 6, '2LLHHLLHH': 6, '2LLHHLLHL': 6, '2LLHHLLLH': 6, '2LLHHLLLL': 6, '2LLHLHHHH': 5, '2LLHLHHHL': 5, '2LLHLHHLH': 5, '2LLHLHHLL': 5, '2LLHLHLHH': 5, '2LLHLHLHL': 5, '2LLHLHLLH': 6, '2LLHLHLLL': 5, '2LLHLLHHH': 6, '2LLHLLHHL': 6, '2LLHLLHLH': 6, '2LLHLLHLL': 6, '2LLHLLLHH': 6, '2LLHLLLHL': 6, '2LLHLLLLH': 3, '2LLHLLLLL': 6, '2LLLHHHHH': 5, '2LLLHHHHL': 5, '2LLLHHHLH': 5, '2LLLHHHLL': 5, '2LLLHHLHH': 5, '2LLLHHLHL': 5, '2LLLHHLLH': 5, '2LLLHHLLL': 5, '2LLLHLHHH': 6, '2LLLHLHHL': 6, '2LLLHLHLH': 6, '2LLLHLHLL': 6, '2LLLHLLHH': 6, '2LLLHLLHL': 6, '2LLLHLLLH': 6, '2LLLHLLLL': 6, '2LLLLHHHH': 5, '2LLLLHHHL': 5, '2LLLLHHLH': 6, '2LLLLHHLL': 5, '2LLLLHLHH': 5, '2LLLLHLHL': 5, '2LLLLHLLH': 5, '2LLLLHLLL': 5, '2LLLLLHHH': 6, '2LLLLLHHL': 6, '2LLLLLHLH': 6, '2LLLLLHLL': 6, '2LLLLLLHH': 6, '2LLLLLLHL': 7, '2LLLLLLLH': 6, '2LLLLLLLL': 6, '3HHHHHHHH': 3, '3HHHHHHHL': 5, '3HHHHHHLH': 5, '3HHHHHHLL': 5, '3HHHHHLHH': 5, '3HHHHHLHL': 5, '3HHHHHLLH': 5, '3HHHHHLLL': 5, '3HHHHLHHH': 3, '3HHHHLHHL': 6, '3HHHHLHLH': 6, '3HHHHLHLL': 6, '3HHHHLLHH': 7, '3HHHHLLHL': 6, '3HHHHLLLH': 6, '3HHHHLLLL': 6, '3HHHLHHHH': 5, '3HHHLHHHL': 5, '3HHHLHHLH': 5, '3HHHLHHLL': 5, '3HHHLHLHH': 5, '3HHHLHLHL': 5, '3HHHLHLLH': 6, '3HHHLHLLL': 5, '3HHHLLHHH': 6, '3HHHLLHHL': 3, '3HHHLLHLH': 6, '3HHHLLHLL': 6, '3HHHLLLHH': 6, '3HHHLLLHL': 3, '3HHHLLLLH': 6, '3HHHLLLLL': 6, '3HHLHHHHH': 5, '3HHLHHHHL': 5, '3HHLHHHLH': 5, '3HHLHHHLL': 5, '3HHLHHLHH': 5, '3HHLHHLHL': 5, '3HHLHHLLH': 5, '3HHLHHLLL': 5, '3HHLHLHHH': 6, '3HHLHLHHL': 6, '3HHLHLHLH': 6, '3HHLHLHLL': 6, '3HHLHLLHH': 6, '3HHLHLLHL': 6, '3HHLHLLLH': 6, '3HHLHLLLL': 6, '3HHLLHHHH': 5, '3HHLLHHHL': 5, '3HHLLHHLH': 5, '3HHLLHHLL': 5, '3HHLLHLHH': 5, '3HHLLHLHL': 5, '3HHLLHLLH': 5, '3HHLLHLLL': 5, '3HHLLLHHH': 7, '3HHLLLHHL': 6, '3HHLLLHLH': 6, '3HHLLLHLL': 6, '3HHLLLLHH': 7, '3HHLLLLHL': 6, '3HHLLLLLH': 6, '3HHLLLLLL': 6, '3HLHHHHHH': 5, '3HLHHHHHL': 5, '3HLHHHHLH': 5, '3HLHHHHLL': 7, '3HLHHHLHH': 5, '3HLHHHLHL': 5, '3HLHHHLLH': 5, '3HLHHHLLL': 5, '3HLHHLHHH': 6, '3HLHHLHHL': 6, '3HLHHLHLH': 6, '3HLHHLHLL': 6, '3HLHHLLHH': 6, '3HLHHLLHL': 6, '3HLHHLLLH': 6, '3HLHHLLLL': 6, '3HLHLHHHH': 5, '3HLHLHHHL': 5, '3HLHLHHLH': 5, '3HLHLHHLL': 5, '3HLHLHLHH': 5, '3HLHLHLHL': 5, '3HLHLHLLH': 5, '3HLHLHLLL': 3, '3HLHLLHHH': 3, '3HLHLLHHL': 6, '3HLHLLHLH': 6, '3HLHLLHLL': 3, '3HLHLLLHH': 6, '3HLHLLLHL': 6, '3HLHLLLLH': 6, '3HLHLLLLL': 6, '3HLLHHHHH': 5, '3HLLHHHHL': 6, '3HLLHHHLH': 5, '3HLLHHHLL': 5, '3HLLHHLHH': 5, '3HLLHHLHL': 5, '3HLLHHLLH': 6, '3HLLHHLLL': 5, '3HLLHLHHH': 6, '3HLLHLHHL': 6, '3HLLHLHLH': 6, '3HLLHLHLL': 6, '3HLLHLLHH': 6, '3HLLHLLHL': 6, '3HLLHLLLH': 6, '3HLLHLLLL': 6, '3HLLLHHHH': 5, '3HLLLHHHL': 5, '3HLLLHHLH': 5, '3HLLLHHLL': 5, '3HLLLHLHH': 5, '3HLLLHLHL': 5, '3HLLLHLLH': 5, '3HLLLHLLL': 5, '3HLLLLHHH': 8, '3HLLLLHHL': 7, '3HLLLLHLH': 6, '3HLLLLHLL': 6, '3HLLLLLHH': 7, '3HLLLLLHL': 6, '3HLLLLLLH': 6, '3HLLLLLLL': 6, '3LHHHHHHH': 5, '3LHHHHHHL': 5, '3LHHHHHLH': 5, '3LHHHHHLL': 5, '3LHHHHLHH': 5, '3LHHHHLHL': 5, '3LHHHHLLH': 5, '3LHHHHLLL': 5, '3LHHHLHHH': 6, '3LHHHLHHL': 6, '3LHHHLHLH': 6, '3LHHHLHLL': 6, '3LHHHLLHH': 3, '3LHHHLLHL': 6, '3LHHHLLLH': 6, '3LHHHLLLL': 6, '3LHHLHHHH': 5, '3LHHLHHHL': 5, '3LHHLHHLH': 5, '3LHHLHHLL': 5, '3LHHLHLHH': 5, '3LHHLHLHL': 5, '3LHHLHLLH': 5, '3LHHLHLLL': 5, '3LHHLLHHH': 6, '3LHHLLHHL': 6, '3LHHLLHLH': 6, '3LHHLLHLL': 3, '3LHHLLLHH': 6, '3LHHLLLHL': 6, '3LHHLLLLH': 3, '3LHHLLLLL': 6, '3LHLHHHHH': 5, '3LHLHHHHL': 5, '3LHLHHHLH': 5, '3LHLHHHLL': 5, '3LHLHHLHH': 5, '3LHLHHLHL': 5, '3LHLHHLLH': 5, '3LHLHHLLL': 5, '3LHLHLHHH': 6, '3LHLHLHHL': 8, '3LHLHLHLH': 6, '3LHLHLHLL': 6, '3LHLHLLHH': 6, '3LHLHLLHL': 6, '3LHLHLLLH': 6, '3LHLHLLLL': 6, '3LHLLHHHH': 5, '3LHLLHHHL': 5, '3LHLLHHLH': 5, '3LHLLHHLL': 5, '3LHLLHLHH': 6, '3LHLLHLHL': 5, '3LHLLHLLH': 5, '3LHLLHLLL': 5, '3LHLLLHHH': 6, '3LHLLLHHL': 6, '3LHLLLHLH': 6, '3LHLLLHLL': 6, '3LHLLLLHH': 6, '3LHLLLLHL': 6, '3LHLLLLLH': 6, '3LHLLLLLL': 6, '3LLHHHHHH': 5, '3LLHHHHHL': 5, '3LLHHHHLH': 3, '3LLHHHHLL': 3, '3LLHHHLHH': 5, '3LLHHHLHL': 5, '3LLHHHLLH': 5, '3LLHHHLLL': 5, '3LLHHLHHH': 6, '3LLHHLHHL': 6, '3LLHHLHLH': 6, '3LLHHLHLL': 6, '3LLHHLLHH': 6, '3LLHHLLHL': 6, '3LLHHLLLH': 6, '3LLHHLLLL': 6, '3LLHLHHHH': 5, '3LLHLHHHL': 3, '3LLHLHHLH': 5, '3LLHLHHLL': 5, '3LLHLHLHH': 5, '3LLHLHLHL': 5, '3LLHLHLLH': 5, '3LLHLHLLL': 5, '3LLHLLHHH': 6, '3LLHLLHHL': 6, '3LLHLLHLH': 6, '3LLHLLHLL': 6, '3LLHLLLHH': 6, '3LLHLLLHL': 3, '3LLHLLLLH': 3, '3LLHLLLLL': 6, '3LLLHHHHH': 5, '3LLLHHHHL': 5, '3LLLHHHLH': 5, '3LLLHHHLL': 5, '3LLLHHLHH': 5, '3LLLHHLHL': 5, '3LLLHHLLH': 5, '3LLLHHLLL': 5, '3LLLHLHHH': 6, '3LLLHLHHL': 6, '3LLLHLHLH': 6, '3LLLHLHLL': 6, '3LLLHLLHH': 6, '3LLLHLLHL': 6, '3LLLHLLLH': 6, '3LLLHLLLL': 6, '3LLLLHHHH': 5, '3LLLLHHHL': 8, '3LLLLHHLH': 5, '3LLLLHHLL': 8, '3LLLLHLHH': 5, '3LLLLHLHL': 5, '3LLLLHLLH': 5, '3LLLLHLLL': 5, '3LLLLLHHH': 6, '3LLLLLHHL': 6, '3LLLLLHLH': 6, '3LLLLLHLL': 6, '3LLLLLLHH': 6, '3LLLLLLHL': 6, '3LLLLLLLH': 6, '3LLLLLLLL': 6, '4HHHHHHHH': 5, '4HHHHHHHL': 5, '4HHHHHHLH': 5, '4HHHHHHLL': 5, '4HHHHHLHH': 5, '4HHHHHLHL': 5, '4HHHHHLLH': 5, '4HHHHHLLL': 5, '4HHHHLHHH': 6, '4HHHHLHHL': 6, '4HHHHLHLH': 6, '4HHHHLHLL': 6, '4HHHHLLHH': 6, '4HHHHLLHL': 6, '4HHHHLLLH': 6, '4HHHHLLLL': 6, '4HHHLHHHH': 5, '4HHHLHHHL': 5, '4HHHLHHLH': 5, '4HHHLHHLL': 5, '4HHHLHLHH': 7, '4HHHLHLHL': 5, '4HHHLHLLH': 5, '4HHHLHLLL': 5, '4HHHLLHHH': 6, '4HHHLLHHL': 6, '4HHHLLHLH': 6, '4HHHLLHLL': 6, '4HHHLLLHH': 6, '4HHHLLLHL': 6, '4HHHLLLLH': 6, '4HHHLLLLL': 6, '4HHLHHHHH': 5, '4HHLHHHHL': 5, '4HHLHHHLH': 5, '4HHLHHHLL': 5, '4HHLHHLHH': 5, '4HHLHHLHL': 5, '4HHLHHLLH': 5, '4HHLHHLLL': 5, '4HHLHLHHH': 6, '4HHLHLHHL': 6, '4HHLHLHLH': 6, '4HHLHLHLL': 6, '4HHLHLLHH': 6, '4HHLHLLHL': 7, '4HHLHLLLH': 6, '4HHLHLLLL': 6, '4HHLLHHHH': 5, '4HHLLHHHL': 6, '4HHLLHHLH': 5, '4HHLLHHLL': 5, '4HHLLHLHH': 5, '4HHLLHLHL': 5, '4HHLLHLLH': 5, '4HHLLHLLL': 5, '4HHLLLHHH': 6, '4HHLLLHHL': 6, '4HHLLLHLH': 6, '4HHLLLHLL': 6, '4HHLLLLHH': 6, '4HHLLLLHL': 6, '4HHLLLLLH': 6, '4HHLLLLLL': 6, '4HLHHHHHH': 6, '4HLHHHHHL': 5, '4HLHHHHLH': 5, '4HLHHHHLL': 5, '4HLHHHLHH': 5, '4HLHHHLHL': 5, '4HLHHHLLH': 5, '4HLHHHLLL': 5, '4HLHHLHHH': 6, '4HLHHLHHL': 6, '4HLHHLHLH': 6, '4HLHHLHLL': 6, '4HLHHLLHH': 7, '4HLHHLLHL': 7, '4HLHHLLLH': 6, '4HLHHLLLL': 6, '4HLHLHHHH': 5, '4HLHLHHHL': 3, '4HLHLHHLH': 5, '4HLHLHHLL': 5, '4HLHLHLHH': 5, '4HLHLHLHL': 5, '4HLHLHLLH': 5, '4HLHLHLLL': 5, '4HLHLLHHH': 6, '4HLHLLHHL': 6, '4HLHLLHLH': 6, '4HLHLLHLL': 6, '4HLHLLLHH': 6, '4HLHLLLHL': 6, '4HLHLLLLH': 6, '4HLHLLLLL': 6, '4HLLHHHHH': 5, '4HLLHHHHL': 5, '4HLLHHHLH': 5, '4HLLHHHLL': 5, '4HLLHHLHH': 5, '4HLLHHLHL': 5, '4HLLHHLLH': 6, '4HLLHHLLL': 5, '4HLLHLHHH': 6, '4HLLHLHHL': 7, '4HLLHLHLH': 6, '4HLLHLHLL': 6, '4HLLHLLHH': 6, '4HLLHLLHL': 6, '4HLLHLLLH': 6, '4HLLHLLLL': 6, '4HLLLHHHH': 5, '4HLLLHHHL': 5, '4HLLLHHLH': 5, '4HLLLHHLL': 5, '4HLLLHLHH': 5, '4HLLLHLHL': 5, '4HLLLHLLH': 5, '4HLLLHLLL': 5, '4HLLLLHHH': 7, '4HLLLLHHL': 6, '4HLLLLHLH': 6, '4HLLLLHLL': 6, '4HLLLLLHH': 6, '4HLLLLLHL': 6, '4HLLLLLLH': 6, '4HLLLLLLL': 6, '4LHHHHHHH': 5, '4LHHHHHHL': 6, '4LHHHHHLH': 5, '4LHHHHHLL': 5, '4LHHHHLHH': 5, '4LHHHHLHL': 5, '4LHHHHLLH': 5, '4LHHHHLLL': 5, '4LHHHLHHH': 6, '4LHHHLHHL': 6, '4LHHHLHLH': 6, '4LHHHLHLL': 6, '4LHHHLLHH': 6, '4LHHHLLHL': 6, '4LHHHLLLH': 6, '4LHHHLLLL': 6, '4LHHLHHHH': 5, '4LHHLHHHL': 5, '4LHHLHHLH': 5, '4LHHLHHLL': 5, '4LHHLHLHH': 5, '4LHHLHLHL': 5, '4LHHLHLLH': 5, '4LHHLHLLL': 5, '4LHHLLHHH': 6, '4LHHLLHHL': 6, '4LHHLLHLH': 6, '4LHHLLHLL': 6, '4LHHLLLHH': 6, '4LHHLLLHL': 6, '4LHHLLLLH': 6, '4LHHLLLLL': 6, '4LHLHHHHH': 5, '4LHLHHHHL': 5, '4LHLHHHLH': 5, '4LHLHHHLL': 5, '4LHLHHLHH': 5, '4LHLHHLHL': 6, '4LHLHHLLH': 5, '4LHLHHLLL': 5, '4LHLHLHHH': 6, '4LHLHLHHL': 6, '4LHLHLHLH': 6, '4LHLHLHLL': 6, '4LHLHLLHH': 7, '4LHLHLLHL': 6, '4LHLHLLLH': 6, '4LHLHLLLL': 6, '4LHLLHHHH': 5, '4LHLLHHHL': 5, '4LHLLHHLH': 5, '4LHLLHHLL': 5, '4LHLLHLHH': 5, '4LHLLHLHL': 5, '4LHLLHLLH': 5, '4LHLLHLLL': 5, '4LHLLLHHH': 6, '4LHLLLHHL': 6, '4LHLLLHLH': 6, '4LHLLLHLL': 6, '4LHLLLLHH': 6, '4LHLLLLHL': 6, '4LHLLLLLH': 6, '4LHLLLLLL': 6, '4LLHHHHHH': 5, '4LLHHHHHL': 5, '4LLHHHHLH': 5, '4LLHHHHLL': 5, '4LLHHHLHH': 5, '4LLHHHLHL': 6, '4LLHHHLLH': 5, '4LLHHHLLL': 5, '4LLHHLHHH': 6, '4LLHHLHHL': 6, '4LLHHLHLH': 6, '4LLHHLHLL': 6, '4LLHHLLHH': 6, '4LLHHLLHL': 6, '4LLHHLLLH': 6, '4LLHHLLLL': 6, '4LLHLHHHH': 5, '4LLHLHHHL': 5, '4LLHLHHLH': 5, '4LLHLHHLL': 5, '4LLHLHLHH': 5, '4LLHLHLHL': 5, '4LLHLHLLH': 5, '4LLHLHLLL': 5, '4LLHLLHHH': 6, '4LLHLLHHL': 6, '4LLHLLHLH': 6, '4LLHLLHLL': 6, '4LLHLLLHH': 6, '4LLHLLLHL': 6, '4LLHLLLLH': 6, '4LLHLLLLL': 6, '4LLLHHHHH': 5, '4LLLHHHHL': 5, '4LLLHHHLH': 5, '4LLLHHHLL': 5, '4LLLHHLHH': 5, '4LLLHHLHL': 5, '4LLLHHLLH': 5, '4LLLHHLLL': 5, '4LLLHLHHH': 6, '4LLLHLHHL': 6, '4LLLHLHLH': 6, '4LLLHLHLL': 6, '4LLLHLLHH': 7, '4LLLHLLHL': 7, '4LLLHLLLH': 6, '4LLLHLLLL': 6, '4LLLLHHHH': 5, '4LLLLHHHL': 5, '4LLLLHHLH': 5, '4LLLLHHLL': 5, '4LLLLHLHH': 5, '4LLLLHLHL': 5, '4LLLLHLLH': 5, '4LLLLHLLL': 5, '4LLLLLHHH': 6, '4LLLLLHHL': 6, '4LLLLLHLH': 6, '4LLLLLHLL': 6, '4LLLLLLHH': 6, '4LLLLLLHL': 6, '4LLLLLLLH': 6, '4LLLLLLLL': 6, '5HHHHHHHH': 5, '5HHHHHHHL': 5, '5HHHHHHLH': 5, '5HHHHHHLL': 5, '5HHHHHLHH': 5, '5HHHHHLHL': 5, '5HHHHHLLH': 5, '5HHHHHLLL': 5, '5HHHHLHHH': 6, '5HHHHLHHL': 6, '5HHHHLHLH': 6, '5HHHHLHLL': 6, '5HHHHLLHH': 6, '5HHHHLLHL': 6, '5HHHHLLLH': 6, '5HHHHLLLL': 6, '5HHHLHHHH': 5, '5HHHLHHHL': 5, '5HHHLHHLH': 5, '5HHHLHHLL': 5, '5HHHLHLHH': 5, '5HHHLHLHL': 5, '5HHHLHLLH': 5, '5HHHLHLLL': 5, '5HHHLLHHH': 6, '5HHHLLHHL': 6, '5HHHLLHLH': 6, '5HHHLLHLL': 6, '5HHHLLLHH': 6, '5HHHLLLHL': 6, '5HHHLLLLH': 6, '5HHHLLLLL': 6, '5HHLHHHHH': 5, '5HHLHHHHL': 5, '5HHLHHHLH': 5, '5HHLHHHLL': 5, '5HHLHHLHH': 5, '5HHLHHLHL': 5, '5HHLHHLLH': 5, '5HHLHHLLL': 5, '5HHLHLHHH': 6, '5HHLHLHHL': 6, '5HHLHLHLH': 6, '5HHLHLHLL': 6, '5HHLHLLHH': 6, '5HHLHLLHL': 6, '5HHLHLLLH': 6, '5HHLHLLLL': 6, '5HHLLHHHH': 5, '5HHLLHHHL': 5, '5HHLLHHLH': 5, '5HHLLHHLL': 5, '5HHLLHLHH': 5, '5HHLLHLHL': 5, '5HHLLHLLH': 5, '5HHLLHLLL': 5, '5HHLLLHHH': 6, '5HHLLLHHL': 6, '5HHLLLHLH': 6, '5HHLLLHLL': 6, '5HHLLLLHH': 6, '5HHLLLLHL': 6, '5HHLLLLLH': 6, '5HHLLLLLL': 6, '5HLHHHHHH': 5, '5HLHHHHHL': 5, '5HLHHHHLH': 5, '5HLHHHHLL': 5, '5HLHHHLHH': 5, '5HLHHHLHL': 5, '5HLHHHLLH': 5, '5HLHHHLLL': 5, '5HLHHLHHH': 6, '5HLHHLHHL': 6, '5HLHHLHLH': 6, '5HLHHLHLL': 6, '5HLHHLLHH': 6, '5HLHHLLHL': 6, '5HLHHLLLH': 6, '5HLHHLLLL': 6, '5HLHLHHHH': 5, '5HLHLHHHL': 5, '5HLHLHHLH': 5, '5HLHLHHLL': 5, '5HLHLHLHH': 5, '5HLHLHLHL': 5, '5HLHLHLLH': 5, '5HLHLHLLL': 5, '5HLHLLHHH': 6, '5HLHLLHHL': 6, '5HLHLLHLH': 6, '5HLHLLHLL': 6, '5HLHLLLHH': 6, '5HLHLLLHL': 6, '5HLHLLLLH': 6, '5HLHLLLLL': 6, '5HLLHHHHH': 5, '5HLLHHHHL': 5, '5HLLHHHLH': 5, '5HLLHHHLL': 5, '5HLLHHLHH': 5, '5HLLHHLHL': 5, '5HLLHHLLH': 5, '5HLLHHLLL': 5, '5HLLHLHHH': 6, '5HLLHLHHL': 6, '5HLLHLHLH': 6, '5HLLHLHLL': 6, '5HLLHLLHH': 6, '5HLLHLLHL': 6, '5HLLHLLLH': 6, '5HLLHLLLL': 6, '5HLLLHHHH': 5, '5HLLLHHHL': 5, '5HLLLHHLH': 5, '5HLLLHHLL': 5, '5HLLLHLHH': 5, '5HLLLHLHL': 5, '5HLLLHLLH': 5, '5HLLLHLLL': 5, '5HLLLLHHH': 6, '5HLLLLHHL': 6, '5HLLLLHLH': 6, '5HLLLLHLL': 6, '5HLLLLLHH': 6, '5HLLLLLHL': 6, '5HLLLLLLH': 6, '5HLLLLLLL': 6, '5LHHHHHHH': 5, '5LHHHHHHL': 5, '5LHHHHHLH': 5, '5LHHHHHLL': 5, '5LHHHHLHH': 5, '5LHHHHLHL': 5, '5LHHHHLLH': 5, '5LHHHHLLL': 5, '5LHHHLHHH': 7, '5LHHHLHHL': 6, '5LHHHLHLH': 6, '5LHHHLHLL': 6, '5LHHHLLHH': 6, '5LHHHLLHL': 6, '5LHHHLLLH': 6, '5LHHHLLLL': 6, '5LHHLHHHH': 5, '5LHHLHHHL': 5, '5LHHLHHLH': 5, '5LHHLHHLL': 5, '5LHHLHLHH': 5, '5LHHLHLHL': 5, '5LHHLHLLH': 5, '5LHHLHLLL': 5, '5LHHLLHHH': 6, '5LHHLLHHL': 6, '5LHHLLHLH': 6, '5LHHLLHLL': 6, '5LHHLLLHH': 6, '5LHHLLLHL': 6, '5LHHLLLLH': 6, '5LHHLLLLL': 6, '5LHLHHHHH': 5, '5LHLHHHHL': 5, '5LHLHHHLH': 5, '5LHLHHHLL': 5, '5LHLHHLHH': 5, '5LHLHHLHL': 5, '5LHLHHLLH': 5, '5LHLHHLLL': 5, '5LHLHLHHH': 6, '5LHLHLHHL': 6, '5LHLHLHLH': 6, '5LHLHLHLL': 6, '5LHLHLLHH': 6, '5LHLHLLHL': 6, '5LHLHLLLH': 6, '5LHLHLLLL': 6, '5LHLLHHHH': 5, '5LHLLHHHL': 5, '5LHLLHHLH': 5, '5LHLLHHLL': 5, '5LHLLHLHH': 5, '5LHLLHLHL': 5, '5LHLLHLLH': 5, '5LHLLHLLL': 5, '5LHLLLHHH': 6, '5LHLLLHHL': 6, '5LHLLLHLH': 6, '5LHLLLHLL': 6, '5LHLLLLHH': 6, '5LHLLLLHL': 6, '5LHLLLLLH': 6, '5LHLLLLLL': 6, '5LLHHHHHH': 5, '5LLHHHHHL': 5, '5LLHHHHLH': 5, '5LLHHHHLL': 5, '5LLHHHLHH': 5, '5LLHHHLHL': 5, '5LLHHHLLH': 5, '5LLHHHLLL': 5, '5LLHHLHHH': 6, '5LLHHLHHL': 6, '5LLHHLHLH': 6, '5LLHHLHLL': 6, '5LLHHLLHH': 6, '5LLHHLLHL': 6, '5LLHHLLLH': 6, '5LLHHLLLL': 6, '5LLHLHHHH': 5, '5LLHLHHHL': 5, '5LLHLHHLH': 5, '5LLHLHHLL': 5, '5LLHLHLHH': 5, '5LLHLHLHL': 5, '5LLHLHLLH': 5, '5LLHLHLLL': 5, '5LLHLLHHH': 6, '5LLHLLHHL': 6, '5LLHLLHLH': 6, '5LLHLLHLL': 6, '5LLHLLLHH': 6, '5LLHLLLHL': 6, '5LLHLLLLH': 6, '5LLHLLLLL': 6, '5LLLHHHHH': 5, '5LLLHHHHL': 5, '5LLLHHHLH': 5, '5LLLHHHLL': 5, '5LLLHHLHH': 5, '5LLLHHLHL': 5, '5LLLHHLLH': 5, '5LLLHHLLL': 5, '5LLLHLHHH': 6, '5LLLHLHHL': 6, '5LLLHLHLH': 6, '5LLLHLHLL': 6, '5LLLHLLHH': 6, '5LLLHLLHL': 6, '5LLLHLLLH': 6, '5LLLHLLLL': 6, '5LLLLHHHH': 5, '5LLLLHHHL': 5, '5LLLLHHLH': 5, '5LLLLHHLL': 5, '5LLLLHLHH': 5, '5LLLLHLHL': 5, '5LLLLHLLH': 5, '5LLLLHLLL': 5, '5LLLLLHHH': 6, '5LLLLLHHL': 6, '5LLLLLHLH': 6, '5LLLLLHLL': 6, '5LLLLLLHH': 6, '5LLLLLLHL': 6, '5LLLLLLLH': 6, '5LLLLLLLL': 6, '6HHHHHHHH': 5, '6HHHHHHHL': 5, '6HHHHHHLH': 5, '6HHHHHHLL': 5, '6HHHHHLHH': 5, '6HHHHHLHL': 5, '6HHHHHLLH': 5, '6HHHHHLLL': 5, '6HHHHLHHH': 6, '6HHHHLHHL': 6, '6HHHHLHLH': 6, '6HHHHLHLL': 6, '6HHHHLLHH': 6, '6HHHHLLHL': 6, '6HHHHLLLH': 6, '6HHHHLLLL': 6, '6HHHLHHHH': 5, '6HHHLHHHL': 5, '6HHHLHHLH': 5, '6HHHLHHLL': 5, '6HHHLHLHH': 5, '6HHHLHLHL': 5, '6HHHLHLLH': 5, '6HHHLHLLL': 5, '6HHHLLHHH': 6, '6HHHLLHHL': 6, '6HHHLLHLH': 6, '6HHHLLHLL': 6, '6HHHLLLHH': 6, '6HHHLLLHL': 6, '6HHHLLLLH': 6, '6HHHLLLLL': 6, '6HHLHHHHH': 5, '6HHLHHHHL': 6, '6HHLHHHLH': 5, '6HHLHHHLL': 5, '6HHLHHLHH': 5, '6HHLHHLHL': 5, '6HHLHHLLH': 5, '6HHLHHLLL': 5, '6HHLHLHHH': 6, '6HHLHLHHL': 6, '6HHLHLHLH': 6, '6HHLHLHLL': 6, '6HHLHLLHH': 6, '6HHLHLLHL': 6, '6HHLHLLLH': 6, '6HHLHLLLL': 6, '6HHLLHHHH': 5, '6HHLLHHHL': 5, '6HHLLHHLH': 5, '6HHLLHHLL': 5, '6HHLLHLHH': 5, '6HHLLHLHL': 5, '6HHLLHLLH': 5, '6HHLLHLLL': 5, '6HHLLLHHH': 6, '6HHLLLHHL': 6, '6HHLLLHLH': 6, '6HHLLLHLL': 6, '6HHLLLLHH': 6, '6HHLLLLHL': 6, '6HHLLLLLH': 6, '6HHLLLLLL': 6, '6HLHHHHHH': 6, '6HLHHHHHL': 6, '6HLHHHHLH': 5, '6HLHHHHLL': 5, '6HLHHHLHH': 5, '6HLHHHLHL': 5, '6HLHHHLLH': 5, '6HLHHHLLL': 5, '6HLHHLHHH': 6, '6HLHHLHHL': 6, '6HLHHLHLH': 6, '6HLHHLHLL': 6, '6HLHHLLHH': 6, '6HLHHLLHL': 6, '6HLHHLLLH': 6, '6HLHHLLLL': 6, '6HLHLHHHH': 5, '6HLHLHHHL': 5, '6HLHLHHLH': 5, '6HLHLHHLL': 5, '6HLHLHLHH': 5, '6HLHLHLHL': 5, '6HLHLHLLH': 6, '6HLHLHLLL': 5, '6HLHLLHHH': 6, '6HLHLLHHL': 6, '6HLHLLHLH': 6, '6HLHLLHLL': 6, '6HLHLLLHH': 6, '6HLHLLLHL': 6, '6HLHLLLLH': 6, '6HLHLLLLL': 6, '6HLLHHHHH': 5, '6HLLHHHHL': 5, '6HLLHHHLH': 5, '6HLLHHHLL': 5, '6HLLHHLHH': 5, '6HLLHHLHL': 5, '6HLLHHLLH': 5, '6HLLHHLLL': 5, '6HLLHLHHH': 6, '6HLLHLHHL': 6, '6HLLHLHLH': 6, '6HLLHLHLL': 6, '6HLLHLLHH': 6, '6HLLHLLHL': 6, '6HLLHLLLH': 6, '6HLLHLLLL': 6, '6HLLLHHHH': 5, '6HLLLHHHL': 5, '6HLLLHHLH': 5, '6HLLLHHLL': 5, '6HLLLHLHH': 5, '6HLLLHLHL': 5, '6HLLLHLLH': 5, '6HLLLHLLL': 5, '6HLLLLHHH': 6, '6HLLLLHHL': 6, '6HLLLLHLH': 6, '6HLLLLHLL': 6, '6HLLLLLHH': 6, '6HLLLLLHL': 6, '6HLLLLLLH': 6, '6HLLLLLLL': 6, '6LHHHHHHH': 5, '6LHHHHHHL': 5, '6LHHHHHLH': 5, '6LHHHHHLL': 5, '6LHHHHLHH': 5, '6LHHHHLHL': 5, '6LHHHHLLH': 5, '6LHHHHLLL': 5, '6LHHHLHHH': 6, '6LHHHLHHL': 6, '6LHHHLHLH': 6, '6LHHHLHLL': 6, '6LHHHLLHH': 6, '6LHHHLLHL': 6, '6LHHHLLLH': 6, '6LHHHLLLL': 6, '6LHHLHHHH': 5, '6LHHLHHHL': 5, '6LHHLHHLH': 5, '6LHHLHHLL': 5, '6LHHLHLHH': 5, '6LHHLHLHL': 5, '6LHHLHLLH': 5, '6LHHLHLLL': 5, '6LHHLLHHH': 6, '6LHHLLHHL': 6, '6LHHLLHLH': 6, '6LHHLLHLL': 6, '6LHHLLLHH': 6, '6LHHLLLHL': 6, '6LHHLLLLH': 6, '6LHHLLLLL': 6, '6LHLHHHHH': 5, '6LHLHHHHL': 5, '6LHLHHHLH': 5, '6LHLHHHLL': 5, '6LHLHHLHH': 5, '6LHLHHLHL': 5, '6LHLHHLLH': 5, '6LHLHHLLL': 5, '6LHLHLHHH': 6, '6LHLHLHHL': 6, '6LHLHLHLH': 6, '6LHLHLHLL': 6, '6LHLHLLHH': 6, '6LHLHLLHL': 6, '6LHLHLLLH': 6, '6LHLHLLLL': 6, '6LHLLHHHH': 5, '6LHLLHHHL': 5, '6LHLLHHLH': 5, '6LHLLHHLL': 5, '6LHLLHLHH': 5, '6LHLLHLHL': 5, '6LHLLHLLH': 5, '6LHLLHLLL': 5, '6LHLLLHHH': 6, '6LHLLLHHL': 6, '6LHLLLHLH': 6, '6LHLLLHLL': 6, '6LHLLLLHH': 6, '6LHLLLLHL': 6, '6LHLLLLLH': 6, '6LHLLLLLL': 6, '6LLHHHHHH': 5, '6LLHHHHHL': 5, '6LLHHHHLH': 5, '6LLHHHHLL': 5, '6LLHHHLHH': 5, '6LLHHHLHL': 5, '6LLHHHLLH': 5, '6LLHHHLLL': 5, '6LLHHLHHH': 6, '6LLHHLHHL': 6, '6LLHHLHLH': 6, '6LLHHLHLL': 6, '6LLHHLLHH': 6, '6LLHHLLHL': 6, '6LLHHLLLH': 6, '6LLHHLLLL': 6, '6LLHLHHHH': 5, '6LLHLHHHL': 5, '6LLHLHHLH': 5, '6LLHLHHLL': 5, '6LLHLHLHH': 5, '6LLHLHLHL': 5, '6LLHLHLLH': 5, '6LLHLHLLL': 5, '6LLHLLHHH': 6, '6LLHLLHHL': 6, '6LLHLLHLH': 6, '6LLHLLHLL': 6, '6LLHLLLHH': 6, '6LLHLLLHL': 6, '6LLHLLLLH': 6, '6LLHLLLLL': 6, '6LLLHHHHH': 5, '6LLLHHHHL': 5, '6LLLHHHLH': 5, '6LLLHHHLL': 5, '6LLLHHLHH': 5, '6LLLHHLHL': 5, '6LLLHHLLH': 5, '6LLLHHLLL': 5, '6LLLHLHHH': 6, '6LLLHLHHL': 6, '6LLLHLHLH': 6, '6LLLHLHLL': 6, '6LLLHLLHH': 6, '6LLLHLLHL': 6, '6LLLHLLLH': 6, '6LLLHLLLL': 6, '6LLLLHHHH': 5, '6LLLLHHHL': 5, '6LLLLHHLH': 5, '6LLLLHHLL': 5, '6LLLLHLHH': 5, '6LLLLHLHL': 5, '6LLLLHLLH': 5, '6LLLLHLLL': 5, '6LLLLLHHH': 6, '6LLLLLHHL': 6, '6LLLLLHLH': 6, '6LLLLLHLL': 6, '6LLLLLLHH': 6, '6LLLLLLHL': 6, '6LLLLLLLH': 6, '6LLLLLLLL': 6, '7HHHHHHHH': 5, '7HHHHHHHL': 7, '7HHHHHHLH': 5, '7HHHHHHLL': 5, '7HHHHHLHH': 5, '7HHHHHLHL': 6, '7HHHHHLLH': 5, '7HHHHHLLL': 5, '7HHHHLHHH': 7, '7HHHHLHHL': 7, '7HHHHLHLH': 6, '7HHHHLHLL': 6, '7HHHHLLHH': 7, '7HHHHLLHL': 6, '7HHHHLLLH': 6, '7HHHHLLLL': 6, '7HHHLHHHH': 5, '7HHHLHHHL': 5, '7HHHLHHLH': 5, '7HHHLHHLL': 5, '7HHHLHLHH': 5, '7HHHLHLHL': 5, '7HHHLHLLH': 5, '7HHHLHLLL': 5, '7HHHLLHHH': 6, '7HHHLLHHL': 6, '7HHHLLHLH': 6, '7HHHLLHLL': 6, '7HHHLLLHH': 6, '7HHHLLLHL': 6, '7HHHLLLLH': 6, '7HHHLLLLL': 6, '7HHLHHHHH': 5, '7HHLHHHHL': 7, '7HHLHHHLH': 5, '7HHLHHHLL': 5, '7HHLHHLHH': 5, '7HHLHHLHL': 5, '7HHLHHLLH': 5, '7HHLHHLLL': 5, '7HHLHLHHH': 6, '7HHLHLHHL': 7, '7HHLHLHLH': 6, '7HHLHLHLL': 6, '7HHLHLLHH': 7, '7HHLHLLHL': 6, '7HHLHLLLH': 6, '7HHLHLLLL': 6, '7HHLLHHHH': 5, '7HHLLHHHL': 5, '7HHLLHHLH': 5, '7HHLLHHLL': 5, '7HHLLHLHH': 5, '7HHLLHLHL': 5, '7HHLLHLLH': 5, '7HHLLHLLL': 5, '7HHLLLHHH': 7, '7HHLLLHHL': 7, '7HHLLLHLH': 6, '7HHLLLHLL': 6, '7HHLLLLHH': 7, '7HHLLLLHL': 6, '7HHLLLLLH': 6, '7HHLLLLLL': 6, '7HLHHHHHH': 5, '7HLHHHHHL': 5, '7HLHHHHLH': 5, '7HLHHHHLL': 5, '7HLHHHLHH': 5, '7HLHHHLHL': 7, '7HLHHHLLH': 5, '7HLHHHLLL': 5, '7HLHHLHHH': 6, '7HLHHLHHL': 7, '7HLHHLHLH': 6, '7HLHHLHLL': 6, '7HLHHLLHH': 6, '7HLHHLLHL': 6, '7HLHHLLLH': 6, '7HLHHLLLL': 7, '7HLHLHHHH': 5, '7HLHLHHHL': 5, '7HLHLHHLH': 5, '7HLHLHHLL': 5, '7HLHLHLHH': 5, '7HLHLHLHL': 5, '7HLHLHLLH': 5, '7HLHLHLLL': 5, '7HLHLLHHH': 6, '7HLHLLHHL': 6, '7HLHLLHLH': 7, '7HLHLLHLL': 6, '7HLHLLLHH': 7, '7HLHLLLHL': 7, '7HLHLLLLH': 6, '7HLHLLLLL': 6, '7HLLHHHHH': 5, '7HLLHHHHL': 5, '7HLLHHHLH': 5, '7HLLHHHLL': 5, '7HLLHHLHH': 7, '7HLLHHLHL': 5, '7HLLHHLLH': 5, '7HLLHHLLL': 1, '7HLLHLHHH': 7, '7HLLHLHHL': 7, '7HLLHLHLH': 6, '7HLLHLHLL': 6, '7HLLHLLHH': 6, '7HLLHLLHL': 7, '7HLLHLLLH': 6, '7HLLHLLLL': 6, '7HLLLHHHH': 5, '7HLLLHHHL': 5, '7HLLLHHLH': 5, '7HLLLHHLL': 5, '7HLLLHLHH': 5, '7HLLLHLHL': 5, '7HLLLHLLH': 5, '7HLLLHLLL': 5, '7HLLLLHHH': 7, '7HLLLLHHL': 6, '7HLLLLHLH': 6, '7HLLLLHLL': 8, '7HLLLLLHH': 7, '7HLLLLLHL': 7, '7HLLLLLLH': 7, '7HLLLLLLL': 6, '7LHHHHHHH': 6, '7LHHHHHHL': 5, '7LHHHHHLH': 5, '7LHHHHHLL': 5, '7LHHHHLHH': 5, '7LHHHHLHL': 5, '7LHHHHLLH': 5, '7LHHHHLLL': 5, '7LHHHLHHH': 7, '7LHHHLHHL': 7, '7LHHHLHLH': 8, '7LHHHLHLL': 6, '7LHHHLLHH': 6, '7LHHHLLHL': 6, '7LHHHLLLH': 6, '7LHHHLLLL': 6, '7LHHLHHHH': 5, '7LHHLHHHL': 5, '7LHHLHHLH': 5, '7LHHLHHLL': 5, '7LHHLHLHH': 6, '7LHHLHLHL': 5, '7LHHLHLLH': 5, '7LHHLHLLL': 5, '7LHHLLHHH': 7, '7LHHLLHHL': 7, '7LHHLLHLH': 6, '7LHHLLHLL': 8, '7LHHLLLHH': 7, '7LHHLLLHL': 7, '7LHHLLLLH': 6, '7LHHLLLLL': 6, '7LHLHHHHH': 5, '7LHLHHHHL': 5, '7LHLHHHLH': 5, '7LHLHHHLL': 5, '7LHLHHLHH': 7, '7LHLHHLHL': 5, '7LHLHHLLH': 5, '7LHLHHLLL': 5, '7LHLHLHHH': 6, '7LHLHLHHL': 7, '7LHLHLHLH': 7, '7LHLHLHLL': 6, '7LHLHLLHH': 6, '7LHLHLLHL': 7, '7LHLHLLLH': 6, '7LHLHLLLL': 6, '7LHLLHHHH': 5, '7LHLLHHHL': 5, '7LHLLHHLH': 5, '7LHLLHHLL': 5, '7LHLLHLHH': 5, '7LHLLHLHL': 5, '7LHLLHLLH': 5, '7LHLLHLLL': 5, '7LHLLLHHH': 7, '7LHLLLHHL': 7, '7LHLLLHLH': 6, '7LHLLLHLL': 6, '7LHLLLLHH': 7, '7LHLLLLHL': 7, '7LHLLLLLH': 6, '7LHLLLLLL': 7, '7LLHHHHHH': 5, '7LLHHHHHL': 5, '7LLHHHHLH': 5, '7LLHHHHLL': 5, '7LLHHHLHH': 7, '7LLHHHLHL': 7, '7LLHHHLLH': 5, '7LLHHHLLL': 6, '7LLHHLHHH': 6, '7LLHHLHHL': 6, '7LLHHLHLH': 6, '7LLHHLHLL': 6, '7LLHHLLHH': 7, '7LLHHLLHL': 6, '7LLHHLLLH': 6, '7LLHHLLLL': 6, '7LLHLHHHH': 5, '7LLHLHHHL': 5, '7LLHLHHLH': 5, '7LLHLHHLL': 5, '7LLHLHLHH': 5, '7LLHLHLHL': 5, '7LLHLHLLH': 5, '7LLHLHLLL': 5, '7LLHLLHHH': 7, '7LLHLLHHL': 7, '7LLHLLHLH': 6, '7LLHLLHLL': 6, '7LLHLLLHH': 7, '7LLHLLLHL': 6, '7LLHLLLLH': 6, '7LLHLLLLL': 6, '7LLLHHHHH': 5, '7LLLHHHHL': 5, '7LLLHHHLH': 5, '7LLLHHHLL': 5, '7LLLHHLHH': 5, '7LLLHHLHL': 5, '7LLLHHLLH': 5, '7LLLHHLLL': 5, '7LLLHLHHH': 7, '7LLLHLHHL': 6, '7LLLHLHLH': 6, '7LLLHLHLL': 6, '7LLLHLLHH': 7, '7LLLHLLHL': 7, '7LLLHLLLH': 6, '7LLLHLLLL': 6, '7LLLLHHHH': 5, '7LLLLHHHL': 5, '7LLLLHHLH': 5, '7LLLLHHLL': 5, '7LLLLHLHH': 5, '7LLLLHLHL': 5, '7LLLLHLLH': 5, '7LLLLHLLL': 5, '7LLLLLHHH': 7, '7LLLLLHHL': 6, '7LLLLLHLH': 6, '7LLLLLHLL': 6, '7LLLLLLHH': 7, '7LLLLLLHL': 6, '7LLLLLLLH': 6, '7LLLLLLLL': 6, '8HHHHHHHH': 5, '8HHHHHHHL': 5, '8HHHHHHLH': 5, '8HHHHHHLL': 5, '8HHHHHLHH': 5, '8HHHHHLHL': 5, '8HHHHHLLH': 5, '8HHHHHLLL': 5, '8HHHHLHHH': 6, '8HHHHLHHL': 7, '8HHHHLHLH': 6, '8HHHHLHLL': 6, '8HHHHLLHH': 6, '8HHHHLLHL': 6, '8HHHHLLLH': 8, '8HHHHLLLL': 6, '8HHHLHHHH': 5, '8HHHLHHHL': 5, '8HHHLHHLH': 5, '8HHHLHHLL': 5, '8HHHLHLHH': 5, '8HHHLHLHL': 5, '8HHHLHLLH': 8, '8HHHLHLLL': 6, '8HHHLLHHH': 6, '8HHHLLHHL': 6, '8HHHLLHLH': 8, '8HHHLLHLL': 8, '8HHHLLLHH': 6, '8HHHLLLHL': 6, '8HHHLLLLH': 6, '8HHHLLLLL': 6, '8HHLHHHHH': 5, '8HHLHHHHL': 5, '8HHLHHHLH': 5, '8HHLHHHLL': 5, '8HHLHHLHH': 5, '8HHLHHLHL': 5, '8HHLHHLLH': 5, '8HHLHHLLL': 5, '8HHLHLHHH': 6, '8HHLHLHHL': 6, '8HHLHLHLH': 6, '8HHLHLHLL': 8, '8HHLHLLHH': 6, '8HHLHLLHL': 6, '8HHLHLLLH': 6, '8HHLHLLLL': 6, '8HHLLHHHH': 5, '8HHLLHHHL': 5, '8HHLLHHLH': 5, '8HHLLHHLL': 5, '8HHLLHLHH': 5, '8HHLLHLHL': 5, '8HHLLHLLH': 5, '8HHLLHLLL': 6, '8HHLLLHHH': 6, '8HHLLLHHL': 8, '8HHLLLHLH': 8, '8HHLLLHLL': 6, '8HHLLLLHH': 6, '8HHLLLLHL': 8, '8HHLLLLLH': 6, '8HHLLLLLL': 8, '8HLHHHHHH': 5, '8HLHHHHHL': 5, '8HLHHHHLH': 5, '8HLHHHHLL': 5, '8HLHHHLHH': 5, '8HLHHHLHL': 5, '8HLHHHLLH': 5, '8HLHHHLLL': 5, '8HLHHLHHH': 6, '8HLHHLHHL': 6, '8HLHHLHLH': 6, '8HLHHLHLL': 6, '8HLHHLLHH': 8, '8HLHHLLHL': 8, '8HLHHLLLH': 8, '8HLHHLLLL': 8, '8HLHLHHHH': 5, '8HLHLHHHL': 5, '8HLHLHHLH': 5, '8HLHLHHLL': 5, '8HLHLHLHH': 5, '8HLHLHLHL': 5, '8HLHLHLLH': 5, '8HLHLHLLL': 5, '8HLHLLHHH': 8, '8HLHLLHHL': 8, '8HLHLLHLH': 6, '8HLHLLHLL': 8, '8HLHLLLHH': 6, '8HLHLLLHL': 7, '8HLHLLLLH': 6, '8HLHLLLLL': 6, '8HLLHHHHH': 5, '8HLLHHHHL': 5, '8HLLHHHLH': 5, '8HLLHHHLL': 5, '8HLLHHLHH': 5, '8HLLHHLHL': 5, '8HLLHHLLH': 5, '8HLLHHLLL': 5, '8HLLHLHHH': 6, '8HLLHLHHL': 6, '8HLLHLHLH': 6, '8HLLHLHLL': 6, '8HLLHLLHH': 6, '8HLLHLLHL': 6, '8HLLHLLLH': 8, '8HLLHLLLL': 8, '8HLLLHHHH': 5, '8HLLLHHHL': 5, '8HLLLHHLH': 5, '8HLLLHHLL': 5, '8HLLLHLHH': 5, '8HLLLHLHL': 5, '8HLLLHLLH': 5, '8HLLLHLLL': 5, '8HLLLLHHH': 6, '8HLLLLHHL': 6, '8HLLLLHLH': 8, '8HLLLLHLL': 6, '8HLLLLLHH': 6, '8HLLLLLHL': 8, '8HLLLLLLH': 6, '8HLLLLLLL': 6, '8LHHHHHHH': 5, '8LHHHHHHL': 5, '8LHHHHHLH': 5, '8LHHHHHLL': 5, '8LHHHHLHH': 5, '8LHHHHLHL': 5, '8LHHHHLLH': 5, '8LHHHHLLL': 5, '8LHHHLHHH': 6, '8LHHHLHHL': 6, '8LHHHLHLH': 6, '8LHHHLHLL': 6, '8LHHHLLHH': 6, '8LHHHLLHL': 6, '8LHHHLLLH': 6, '8LHHHLLLL': 6, '8LHHLHHHH': 5, '8LHHLHHHL': 5, '8LHHLHHLH': 5, '8LHHLHHLL': 5, '8LHHLHLHH': 5, '8LHHLHLHL': 8, '8LHHLHLLH': 5, '8LHHLHLLL': 6, '8LHHLLHHH': 8, '8LHHLLHHL': 8, '8LHHLLHLH': 8, '8LHHLLHLL': 6, '8LHHLLLHH': 6, '8LHHLLLHL': 8, '8LHHLLLLH': 6, '8LHHLLLLL': 6, '8LHLHHHHH': 5, '8LHLHHHHL': 5, '8LHLHHHLH': 5, '8LHLHHHLL': 5, '8LHLHHLHH': 5, '8LHLHHLHL': 5, '8LHLHHLLH': 8, '8LHLHHLLL': 8, '8LHLHLHHH': 6, '8LHLHLHHL': 6, '8LHLHLHLH': 6, '8LHLHLHLL': 8, '8LHLHLLHH': 6, '8LHLHLLHL': 8, '8LHLHLLLH': 8, '8LHLHLLLL': 6, '8LHLLHHHH': 5, '8LHLLHHHL': 5, '8LHLLHHLH': 5, '8LHLLHHLL': 5, '8LHLLHLHH': 5, '8LHLLHLHL': 5, '8LHLLHLLH': 5, '8LHLLHLLL': 5, '8LHLLLHHH': 6, '8LHLLLHHL': 8, '8LHLLLHLH': 8, '8LHLLLHLL': 6, '8LHLLLLHH': 6, '8LHLLLLHL': 6, '8LHLLLLLH': 8, '8LHLLLLLL': 6, '8LLHHHHHH': 5, '8LLHHHHHL': 5, '8LLHHHHLH': 5, '8LLHHHHLL': 5, '8LLHHHLHH': 5, '8LLHHHLHL': 5, '8LLHHHLLH': 5, '8LLHHHLLL': 8, '8LLHHLHHH': 6, '8LLHHLHHL': 6, '8LLHHLHLH': 6, '8LLHHLHLL': 6, '8LLHHLLHH': 6, '8LLHHLLHL': 8, '8LLHHLLLH': 6, '8LLHHLLLL': 6, '8LLHLHHHH': 5, '8LLHLHHHL': 5, '8LLHLHHLH': 5, '8LLHLHHLL': 5, '8LLHLHLHH': 5, '8LLHLHLHL': 5, '8LLHLHLLH': 5, '8LLHLHLLL': 5, '8LLHLLHHH': 8, '8LLHLLHHL': 6, '8LLHLLHLH': 8, '8LLHLLHLL': 8, '8LLHLLLHH': 6, '8LLHLLLHL': 8, '8LLHLLLLH': 6, '8LLHLLLLL': 8, '8LLLHHHHH': 5, '8LLLHHHHL': 5, '8LLLHHHLH': 5, '8LLLHHHLL': 5, '8LLLHHLHH': 5, '8LLLHHLHL': 5, '8LLLHHLLH': 5, '8LLLHHLLL': 5, '8LLLHLHHH': 8, '8LLLHLHHL': 8, '8LLLHLHLH': 6, '8LLLHLHLL': 8, '8LLLHLLHH': 6, '8LLLHLLHL': 7, '8LLLHLLLH': 8, '8LLLHLLLL': 6, '8LLLLHHHH': 5, '8LLLLHHHL': 5, '8LLLLHHLH': 5, '8LLLLHHLL': 5, '8LLLLHLHH': 8, '8LLLLHLHL': 8, '8LLLLHLLH': 5, '8LLLLHLLL': 5, '8LLLLLHHH': 6, '8LLLLLHHL': 6, '8LLLLLHLH': 8, '8LLLLLHLL': 6, '8LLLLLLHH': 6, '8LLLLLLHL': 8, '8LLLLLLLH': 6, '8LLLLLLLL': 6}\n",
            "Learned Value Function: [0.7962111767000356, 0.7969502825156645, 0.7978657698573653, 0.7941127695117531, 0.7956916634886646, 0.7955040127444472, 0.7683845464614528, 0.7969658314398546, 0.7236503224348385, 0.725802218701797, 0.7268282351053472, 0.7256030500267971, 0.7252551388914025, 0.7251321090110003, 0.7264019163854746, 0.7293084625680558, 0.7976098567001204, 0.7995967745646322, 0.7963894569371821, 0.7960491127966202, 0.7973677014038484, 0.7982161141077693, 0.797867839808578, 0.7982486967121866, 0.713487308030194, 0.7262186605074137, 0.7292870463853353, 0.7289954907058611, 0.7222035424601798, 0.7141697685266254, 0.7269558270707076, 0.7302244235862195, 0.7945429558998478, 0.7989427661614745, 0.8031844064079762, 0.7989208956561157, 0.7707507757270593, 0.8003151721540256, 0.7969760475585903, 0.7963658967835618, 0.726010280088532, 0.7234294492568726, 0.7255838038140515, 0.7252882816186432, 0.7257410154240194, 0.7248470881968195, 0.7275767482693168, 0.7242400298388159, 0.8017782859213247, 0.7997016513186695, 0.7955160760852034, 0.7969793551638782, 0.7992803193482647, 0.7970614427670596, 0.7955644085213355, 0.7973874083363646, 0.7284446528984675, 0.7257459825466267, 0.7266737948550545, 0.7231563971092086, 0.7259714629709396, 0.7258047490829278, 0.7286151719123254, 0.7262793403104881, 0.7993598496641777, 0.7979244987127776, 0.8009071901811746, 0.8011605959521977, 0.7965518965585779, 0.7969089791863581, 0.7954721183368912, 0.7977984872418756, 0.7229783726897525, 0.7129861078800477, 0.7258952436460235, 0.7175098304790817, 0.7234700477190263, 0.7257527942319926, 0.7289920643866582, 0.726528042799553, 0.8007258980644141, 0.768311657767658, 0.7995583514481004, 0.8011868937533086, 0.7960016428337479, 0.7921732474582167, 0.8025430990048122, 0.7955282420736051, 0.7266093048813322, 0.7244560511491906, 0.7272371978731438, 0.7188726508420222, 0.7128359997972092, 0.7267872828900557, 0.7249815194936603, 0.7269139834036926, 0.7957494351583779, 0.8000236149380068, 0.7958328694156918, 0.7718952325582994, 0.7668936349711166, 0.7995410724637021, 0.7940294588970374, 0.7978593579515013, 0.7267705999266967, 0.7258240076046746, 0.7274674072603035, 0.7285560435538652, 0.7255746899527666, 0.7160409075277481, 0.728232668110013, 0.7278000675185506, 0.8008249194930905, 0.7999361718423175, 0.8011994304698872, 0.8015373885385816, 0.7976463968092959, 0.7996405916029337, 0.7980267299807504, 0.7981777781975846, 0.727403937999983, 0.7278846763425321, 0.7157683576877579, 0.7236623600133308, 0.727829199704938, 0.7121924168087763, 0.728384235041235, 0.7259018599951494, 0.8005187926438709, 0.7979370748390541, 0.7727254512477668, 0.8031448088357496, 0.8000505557653045, 0.8019153033855007, 0.8034748072301637, 0.7936761399896454, 0.728933053494138, 0.7280530499557195, 0.727814436920034, 0.7269147297143467, 0.724512471468193, 0.7274078172444088, 0.7275382322435177, 0.7247760237434944, 0.7978994333744932, 0.7991767102668639, 0.7954764246776583, 0.7995092309486912, 0.796919244384079, 0.7978461780766051, 0.7979063835453201, 0.8018383732222665, 0.7234458299069337, 0.7080572920428032, 0.7249753797622795, 0.7276600691426044, 0.7294254909881079, 0.7253732770962055, 0.7284205027526461, 0.726420496565704, 0.7969052678440353, 0.7947330245924908, 0.8012197003275675, 0.7955537250571151, 0.8005164903241567, 0.799422050962738, 0.7996058065741252, 0.801658212682659, 0.7272782896073651, 0.7229230190098836, 0.7261607277795811, 0.7253699056039702, 0.7275607585235352, 0.7236158817237491, 0.7283998580264283, 0.724810402077968, 0.7993378905387446, 0.7992936014395885, 0.7974445727877698, 0.7987987814013471, 0.799574416072341, 0.796657624280546, 0.8009564003700689, 0.7997296834961243, 0.7245656831645708, 0.7245088870623471, 0.7294568487624473, 0.7287531332022177, 0.7266146352943998, 0.7281644105402164, 0.728420889345928, 0.7293166536635732, 0.8011722958851132, 0.7956828709138877, 0.7712256620908119, 0.8027183441584224, 0.7738233765183096, 0.7736268714844001, 0.800864332966333, 0.7952968350181462, 0.725060916308939, 0.7239075889811242, 0.7225745701839957, 0.7247725640967845, 0.708174101435025, 0.7251613260942626, 0.7271754207985316, 0.7246078708830842, 0.7682659591757455, 0.7909462004054368, 0.8019749720492142, 0.8010143085181888, 0.8000261875463527, 0.7725278450038977, 0.7991225005034682, 0.8008264963656274, 0.7273695297644638, 0.7276771952245608, 0.7257364416425439, 0.7269129270749242, 0.7235834453095548, 0.7268949518232957, 0.7278476946822806, 0.7269326313216409, 0.7938864826537118, 0.7953175862483375, 0.7673065093100085, 0.7974690408262648, 0.7982850541579182, 0.7977660928774922, 0.7993051207866668, 0.7985354998805421, 0.7260503898286732, 0.7252637813089964, 0.7262894408543408, 0.7236896581474569, 0.7287063435106006, 0.7255197856826079, 0.7219571748260027, 0.7282177060970079, 0.7985631151302163, 0.7733005184243036, 0.7971842546609288, 0.8029470758723957, 0.7977305240125641, 0.7993433434346455, 0.7996950887169025, 0.7968793304574646, 0.7298444950158878, 0.7255245698565553, 0.7258606191237078, 0.730444030718272, 0.7272525425053601, 0.7242178471737476, 0.7269824747664263, 0.7254276271827481, 0.7971173219342131, 0.7958908863317001, 0.7958048277631431, 0.7954606836023784, 0.7996514278470618, 0.8037204173343786, 0.8018800711927602, 0.7993349043339552, 0.7156668739596919, 0.7270148680645143, 0.7253552734642157, 0.7259759104208409, 0.7253490991089234, 0.725022009430899, 0.7257099813889851, 0.7240755744076188, 0.7990788926880705, 0.7967617318909923, 0.7979706186322373, 0.7964669817890571, 0.8004419244311725, 0.7963468701012849, 0.797261224468881, 0.767629500901379, 0.7095048668165801, 0.7251717619413035, 0.7257082140143177, 0.7239670557473997, 0.7129130628706858, 0.7248524475649465, 0.7260781208418121, 0.7236575328791494, 0.795967096702029, 0.7945155588871031, 0.8010394068091062, 0.8015213394308252, 0.7974542214913771, 0.7972878898961536, 0.7980081212227532, 0.7972529391665522, 0.7271673828559824, 0.7312813327386507, 0.7252003614002778, 0.729021737614422, 0.7275645887792928, 0.7046405112185393, 0.7296531968758263, 0.7282062840704828, 0.7963991378463987, 0.7973980864640342, 0.7944068915478445, 0.7975545179888783, 0.7995733992449386, 0.7984307336455958, 0.7992860132873081, 0.7985028314938142, 0.7281626643113914, 0.7280918814968385, 0.7266038820918563, 0.7242023871221746, 0.7103649075895827, 0.7114054864845006, 0.7288637319774866, 0.7306750317858927, 0.7983928674289481, 0.7949918144714535, 0.7979461145187654, 0.7965140603510367, 0.7945873077509402, 0.7997003120633813, 0.8015140954098396, 0.7985221929348801, 0.7226606006833188, 0.7106537530844896, 0.7292484911737752, 0.7287669135909356, 0.7237425164160749, 0.7266023256928564, 0.7281174103513456, 0.7222123922438896, 0.7995163746636503, 0.7967213600954063, 0.8010604499490516, 0.8002443251987982, 0.7969140473572672, 0.7972844975064632, 0.8000932934420452, 0.7985860130139854, 0.7119537312198577, 0.7267574281907686, 0.7272951107946231, 0.7268548136563463, 0.7263085930308711, 0.7242488508978876, 0.7292645561145227, 0.7254367401572255, 0.8023743595976235, 0.7984650932985753, 0.8011995545610876, 0.798146759178934, 0.769371812316897, 0.8004858300192866, 0.7990748962691032, 0.792913291255341, 0.7302407270885012, 0.7283054602593866, 0.7241483487682205, 0.7248774488294332, 0.7259150158365729, 0.7246669254289235, 0.7272931871614701, 0.7137596376448251, 0.801877388188517, 0.800751120425669, 0.7990290064885587, 0.7974777123825331, 0.7948111899609127, 0.8019824951891011, 0.7999709776275618, 0.798446175656005, 0.725809210628163, 0.7229774895485729, 0.7269745187698643, 0.7256932539416495, 0.727089299537492, 0.7288319272833407, 0.7250907238719503, 0.7245067201228506, 0.796058933513291, 0.8020877040558247, 0.799704209363349, 0.7982836606386639, 0.7948816941521005, 0.7974236626164674, 0.8020902362802262, 0.7983931705542862, 0.7273454531062489, 0.7265424055194075, 0.7307178103281773, 0.7288116908967213, 0.7230394309822746, 0.7245582766207279, 0.7234132343049198, 0.7214514571478232, 0.7974798060547058, 0.7998583891739125, 0.7996382709129713, 0.7994741481194813, 0.7982166739955471, 0.7992450330290083, 0.7956614242470798, 0.7966788430676978, 0.7293314329578225, 0.7261159364635488, 0.7253088829790753, 0.726609514735177, 0.7121164807154834, 0.7254379222863846, 0.726332404611224, 0.7271805379415007, 0.8004631903184212, 0.7999273988716854, 0.7999240668926642, 0.799388236383827, 0.7948350436869979, 0.7981077197783288, 0.7994532200974931, 0.7740923295071195, 0.7293726706950916, 0.729366060061942, 0.7230503309359035, 0.7250278811330089, 0.7239302815795415, 0.7261147560712417, 0.7258440419687777, 0.7264598058254307, 0.7975366587642162, 0.7979281373216369, 0.7976065868553989, 0.7932734811601841, 0.800474734858908, 0.7976914487542525, 0.7960946238059124, 0.7964859845575045, 0.7277314601437512, 0.726206125872105, 0.7255023210120959, 0.726353744072995, 0.7273186100164878, 0.724922163702589, 0.7229120676501107, 0.7248627397585037, 0.8006195342701687, 0.7979840915606176, 0.8008509892789061, 0.7940879380275997, 0.7951714421560508, 0.7965534231570554, 0.799378477976715, 0.7987621629161556, 0.7250680193136376, 0.7111159578429014, 0.712294607479162, 0.7269574042213431, 0.7233797498717282, 0.726267293353841, 0.7279990412816375, 0.726059775086954, 0.7968027584091799, 0.7965991182316674, 0.7994995711068288, 0.7950149756413698, 0.798511506282301, 0.7951655549211215, 0.7737939685187349, 0.7980531833917427, 0.7275463502127859, 0.7238506065444115, 0.7279782170201826, 0.7265796667023827, 0.7241939917804395, 0.7247222051281436, 0.7097773933483185, 0.7252393835480443, 0.8000281278981102, 0.7985913312367013, 0.7966716605722497, 0.7982167167817072, 0.8015330910604522, 0.7974210001853371, 0.7954437444489992, 0.7980036241359963, 0.7264061342378889, 0.7277935093439805, 0.7259894286166686, 0.725011628788723, 0.7282470916417224, 0.7249636698627815, 0.7296991028690164, 0.7284605681738081, 0.7984027166733415, 0.7950256301581112, 0.7697243590264689, 0.7984180149327721, 0.8035104232788799, 0.7990851994581241, 0.7972041794409049, 0.7998846708377808, 0.7275020336027396, 0.7246285857190922, 0.7262764572941371, 0.7250952863191411, 0.724545744261468, 0.7104677568670336, 0.7257497127516105, 0.7282963223313015, 0.7683587381899032, 0.7981267743369648, 0.7972375759706115, 0.7960451804578312, 0.7982496092205381, 0.7956463012438512, 0.7985776107594547, 0.7922923625869736, 0.7148353705146129, 0.7268099356393737, 0.7290205490993212, 0.7261032966050509, 0.710726335854027, 0.7241714110583322, 0.7263396620921722, 0.7247712736863766, 0.8003707715309394, 0.7956335047872336, 0.7988807492613689, 0.7989955904190823, 0.7991038660610671, 0.7987325666996534, 0.7711000912621689, 0.7964430344484197, 0.7263531178207158, 0.7174117508971966, 0.7277130757895918, 0.7243357989760065, 0.7241595761342404, 0.7198503315882854, 0.7287449153588995, 0.7256767834814402, 0.7948069777355864, 0.7940547543020054, 0.7970309921284121, 0.8005189441394561, 0.7934667229494005, 0.7992628061916197, 0.7994355002578853, 0.7985006765990861, 0.7257978449254563, 0.7310334079461471, 0.7264395184595377, 0.7241428489458495, 0.7281167770441004, 0.72590441299255, 0.7249124781594288, 0.7247536373280463, 0.8016491397071376, 0.8011023721128403, 0.7976071368455293, 0.8012171926038429, 0.7973877967283896, 0.7945832019015968, 0.7980704009744214, 0.7968802188299228, 0.7110409200727864, 0.7251865704519144, 0.7246380501359702, 0.7270030205891483, 0.7110270800290552, 0.7256713703567615, 0.7267336098942919, 0.7244587160598467, 0.7988446586479444, 0.7991514934331023, 0.7945447434168534, 0.7550821882024551, 0.7976314123974718, 0.80068910570328, 0.7996731218047488, 0.8009328398014696, 0.7262266551782325, 0.7281193148410167, 0.7275975516055249, 0.7293207342555689, 0.7265142160548848, 0.7269238190837365, 0.7257065450463194, 0.7236198895730606, 0.7983306105951472, 0.7959595221591295, 0.794438866019331, 0.7937980076119485, 0.7990670303788554, 0.7975125109118918, 0.7998158978004803, 0.7645936091319423, 0.7167327235730634, 0.7255917455878194, 0.7257749689134949, 0.7188026283780596, 0.7261707542173433, 0.7281030976220605, 0.7252818450448066, 0.7245164302076802, 0.7992785371673002, 0.7713676485385849, 0.8029134555934844, 0.8015830980282469, 0.7987051589418189, 0.8007326750673721, 0.7689637315922575, 0.7998480726998511, 0.7232677787568895, 0.7266361961584413, 0.7277292732815881, 0.7238939907730304, 0.7293644638088227, 0.7245822464128778, 0.7272113774318585, 0.725139208382635, 0.8008206752715641, 0.7937100688207055, 0.7996182640623855, 0.798792782332612, 0.8006767248232579, 0.7996831093799381, 0.7995752742835066, 0.800588832152465, 0.7118228834567902, 0.7131776189365868, 0.728571942714421, 0.7248865946739634, 0.711177197897298, 0.7243108752982989, 0.7261889137317361, 0.7255340697725763, 0.798509105264046, 0.7949230381498124, 0.7996825574989808, 0.7946701422069683, 0.7965964852256147, 0.7972911076427369, 0.7966213433970946, 0.7957260234184642, 0.7289183624447028, 0.7243271426810214, 0.7259823877728536, 0.7264165135568922, 0.7167519160765992, 0.7282200876236329, 0.7275737943753338, 0.7288239941782941, 0.7959398736089124, 0.8013633181085009, 0.8003109345218216, 0.7976262955117627, 0.8001406528949904, 0.8000491602249413, 0.8006168179469716, 0.80006267076698, 0.7274195940410026, 0.7262719689534045, 0.7267219710948232, 0.7180704347737903, 0.7267925841488899, 0.7275275855224869, 0.7165580714600835, 0.72798785854449, 0.7946057960143401, 0.7936222495304716, 0.8015809810893729, 0.7979516185312887, 0.7948233821680106, 0.7977892632161365, 0.8038128586568783, 0.7960342831293339, 0.727806350838904, 0.7126619635983741, 0.7259971829342435, 0.727082866504309, 0.7274255186945447, 0.7236898852454543, 0.7277592661915946, 0.7249639357933919, 0.800602991158084, 0.8000826803030523, 0.7998277938704759, 0.8007905791713, 0.7730904561478803, 0.7987970274753569, 0.7982510533445158, 0.8018570073984163, 0.7278355316960853, 0.7255998142393266, 0.729205246247195, 0.7289099462269608, 0.7258445282839999, 0.7245362713189931, 0.7278663370598183, 0.7247148403836363, 0.7983566148015576, 0.7984091228072343, 0.7656878786347996, 0.76777531008454, 0.7993405484436353, 0.7950156399776811, 0.7952468773739199, 0.7968220030054589, 0.7259044934033893, 0.7284113617786148, 0.727475413412067, 0.7286636679547054, 0.7283996030150861, 0.7262874659658686, 0.7264782838933347, 0.7265477747770928, 0.7963398461175472, 0.7700484239390287, 0.795296187658367, 0.8000470403712528, 0.8008432105274856, 0.7906196199344764, 0.7973635029699092, 0.7978294713336838, 0.7258978621668669, 0.7229107202080216, 0.7264461926063974, 0.728339202670285, 0.7263769217283741, 0.7178228148916472, 0.7183427002514758, 0.7251325051619855, 0.7998704843688865, 0.8009325498063501, 0.8009255501848629, 0.7994016074021582, 0.7991936956133319, 0.7962251201146532, 0.7957583439823864, 0.7998916792459394, 0.7303755877749046, 0.726976860849224, 0.7300811877927016, 0.7262359324128687, 0.7278746140750838, 0.7263638012848155, 0.7288159710653975, 0.7234363967020977, 0.7982002141194345, 0.7627627291593722, 0.8009414579209765, 0.7605989255384903, 0.7955212585204136, 0.7929857381282663, 0.7960205244536481, 0.7986142831178249, 0.7269632446972418, 0.726625967102167, 0.7250609496352528, 0.7288475714897553, 0.7242106305012765, 0.7277281838490401, 0.7312609495722058, 0.7266742891365107, 0.7981608515201988, 0.7954411415421473, 0.7993279492515523, 0.7955527828435015, 0.7924555685405503, 0.8001948077368383, 0.8019043860122357, 0.7971435840805655, 0.7277278216293501, 0.7206017747280429, 0.7270219326450488, 0.7316386431266841, 0.7265105131500149, 0.7268826625604343, 0.7232616501718351, 0.7287367323587137, 0.7950394252168154, 0.7948313134843252, 0.797922483021822, 0.7992970981405234, 0.760158644747848, 0.7973337558661248, 0.79627312208585, 0.7990109182973989, 0.7250885206002159, 0.7255558366809889, 0.724519818402008, 0.7253511535937185, 0.7258401660681963, 0.7240586074520768, 0.7226212599150719, 0.7269278199818439, 0.7994969713632397, 0.7931505721117404, 0.7992781263226127, 0.8016143592430092, 0.7993858361480239, 0.7954375748474225, 0.7985071086859946, 0.79602863874305, 0.7271857911364045, 0.7240409527053917, 0.7277605805328248, 0.7269069016088695, 0.7237664937072297, 0.7115066219502146, 0.7273368518090857, 0.7266218347588029, 0.7969613515736176, 0.7703548299667203, 0.795660611302656, 0.8014242117515331, 0.796211831054732, 0.796178069999616, 0.799073955880202, 0.7986279736179055, 0.7265748224379782, 0.7272507603457348, 0.7240289718970883, 0.7263428138955157, 0.7273569875054585, 0.7237420944206777, 0.7255401605794185, 0.7292037072729591, 0.7690159843546884, 0.798945819537724, 0.7963691021589492, 0.801334357818027, 0.8001403357090948, 0.800509839811586, 0.7962545757143715, 0.7990305332751535, 0.725752181563523, 0.7215922538895145, 0.7282482241998369, 0.7237015169583157, 0.7097448184665511, 0.709932591928041, 0.725621575337802, 0.7259993816672932, 0.7978324819327516, 0.7584451489874418, 0.7944292736958585, 0.7950934328856812, 0.7975069027097289, 0.7985616666705937, 0.7999254246573362, 0.7972647022426084, 0.7257009576979665, 0.7271174443228078, 0.7239590308431583, 0.7237898643354198, 0.7267792412257837, 0.7282431389342838, 0.7273993708144821, 0.728230956098156, 0.7967062108463095, 0.7982251726443059, 0.80013284901355, 0.7948253431096354, 0.7997351426158761, 0.7976954327852577, 0.7731184014362489, 0.7986968078977629, 0.7276978363937951, 0.7106985456010895, 0.7213721091362097, 0.7247348669149071, 0.7292628334433532, 0.725314377262708, 0.7269125111555793, 0.7262559005779463, 0.7952228238361598, 0.796062943603789, 0.7983785485678988, 0.7988690126389603, 0.7966711471959331, 0.8009568479283284, 0.7965492621458078, 0.793402421873999, 0.7122097460276234, 0.7274990025862444, 0.7227221149734503, 0.7265572795207025, 0.7267520963696987, 0.728762565179008, 0.7270792424466305, 0.724677524218729, 0.8020892039882106, 0.7710596657378805, 0.7961034008890243, 0.7968625083572315, 0.7976409631885167, 0.7971601286849076, 0.8000162788411836, 0.8015069808375573, 0.7239329578867232, 0.7269363671983633, 0.7299258690767139, 0.7259881484105278, 0.727093425204835, 0.7264847549575857, 0.7273524560922215, 0.7258754758068144, 0.7950797298973123, 0.8020678887010438, 0.800314915406841, 0.7918902274970793, 0.7959384171700472, 0.7963658254417356, 0.801825871499322, 0.8006405171309158, 0.725506625768208, 0.7269715290992592, 0.7257240505235241, 0.7237576294699409, 0.7234559248189889, 0.7272355002054196, 0.7275001762662039, 0.7297499683802611, 0.8004479735043198, 0.7974472021588891, 0.8020448690922002, 0.8000519723094868, 0.7982570428756185, 0.770531973619308, 0.7992844543489843, 0.7950884711844884, 0.7259378406332123, 0.7298177467044565, 0.7254674071418253, 0.7235505480434716, 0.7114644636980765, 0.7284201624993656, 0.7286741940427127, 0.7253984609275821, 0.797559769949557, 0.7966425018103116, 0.7955975811338679, 0.7961591596789335, 0.7993011697605643, 0.8002753847084224, 0.7949394864346968, 0.7999112584795378, 0.7245592742488062, 0.7288276081718938, 0.7260293826807744, 0.7233155009824218, 0.7270118515112294, 0.7276483023248247, 0.7255525942097114, 0.728737119038449, 0.7955799948831809, 0.8001004336093439, 0.7961473257556173, 0.8036586500559489, 0.7985506313506591, 0.7655425846883999, 0.8010676503018791, 0.7963033752838014, 0.7272978362477827, 0.7266207777216993, 0.7266480279848969, 0.7273603168898859, 0.7272100070982725, 0.7274919038810345, 0.7281615526257178, 0.7304683150445123, 0.8007540742154023, 0.8017318726641491, 0.7989073493203104, 0.7969244734055305, 0.7973984570929302, 0.8008943810315178, 0.8004789558476743, 0.800352867424857, 0.7293819387743029, 0.7298937899057873, 0.7277957717930115, 0.7260048291133282, 0.7255062856180785, 0.7249121520132976, 0.724362229614645, 0.7272708214340506, 0.7941827662277694, 0.7942685957960508, 0.7984604627003037, 0.798978865263034, 0.7919042257475112, 0.7970344226342237, 0.7990251741660128, 0.800078010535302, 0.7274563438443307, 0.7240340212914359, 0.7267615706733738, 0.7305950380819989, 0.7114030131987725, 0.7125307310423535, 0.7259656706871815, 0.7259961510252352, 0.7988729697870373, 0.798531593819535, 0.7945726422566584, 0.7992224914416626, 0.7994455078139885, 0.8019532761670074, 0.7991354834705533, 0.7991264694780587, 0.7258119921687837, 0.7283173182245388, 0.7252436409462913, 0.7240148673464827, 0.7258253455335734, 0.7242739908647464, 0.7267417740487468, 0.7266997860100778, 0.8077726851186342, 0.8095915483749166, 0.8066597926306636, 0.8074729109788199, 0.8071396638493322, 0.8092422939894746, 0.808705968470192, 0.8086365383665396, 0.7264388857135078, 0.7257707008413122, 0.7271928463041907, 0.7260036284595774, 0.7267690607100799, 0.726115148602903, 0.7264285453939267, 0.7262222831165005, 0.8076592556347227, 0.8091668567275393, 0.8090448637960321, 0.8090570840288013, 0.8064421139593785, 0.8093090315075041, 0.8093471149238495, 0.8078007279356099, 0.7273024798528552, 0.7257085336800189, 0.7266570166235236, 0.7266723949631729, 0.7265961469921507, 0.7260504475939616, 0.7267281528871186, 0.7252162742307503, 0.8072099913117966, 0.8067504934185444, 0.8075204922250343, 0.8084799503536952, 0.8097183242104029, 0.8079394891204242, 0.8072915534408205, 0.8082932055318467, 0.7262646863227461, 0.7254020407856164, 0.7260086468807151, 0.7260311156696403, 0.7279151251794718, 0.7260544165874404, 0.7265415788906499, 0.7269749978052135, 0.8085007313517646, 0.8080242231400245, 0.8086254715013147, 0.8058783996938129, 0.807441171971096, 0.8077589598559302, 0.8078406718751902, 0.8079982314844829, 0.7259371428055923, 0.7266974447542267, 0.7262399993087543, 0.726056340867535, 0.7266991173928539, 0.7268965824249365, 0.7280708454700724, 0.7266872808892721, 0.8085888977352894, 0.8061423814315573, 0.806706962367585, 0.8079592122804776, 0.8090638299647187, 0.8075758956147503, 0.8083879342043079, 0.8084703740137141, 0.7264115569412585, 0.7266628715903473, 0.7258685822255746, 0.7265640399595823, 0.7271705861519642, 0.7257168679246736, 0.7261624411302361, 0.7269520370222541, 0.8075976578166504, 0.8076539752986762, 0.8086385470802152, 0.8089857996841304, 0.807416712361867, 0.8082767165047104, 0.8084726800757235, 0.8083492274722, 0.7255556690532301, 0.7260162684179567, 0.726235946673603, 0.7260037525612779, 0.7259680732907597, 0.7262133138438098, 0.7263623579728163, 0.7256621265743003, 0.8087574350082183, 0.8086295651780614, 0.8074683250889115, 0.8069627536362901, 0.808605092096461, 0.8084561157485713, 0.8083354611795268, 0.8085160445328881, 0.7252220171076575, 0.7256993720125942, 0.725932359394656, 0.725967199601249, 0.7263963931642305, 0.725151578982541, 0.7256976527300423, 0.7255699124407607, 0.808544573510912, 0.8075759939414388, 0.8084819689667632, 0.8089121007589312, 0.8097563628165281, 0.8080332048709455, 0.8073991274113425, 0.807194162318138, 0.7255509811731656, 0.7266642798373405, 0.7269204823390263, 0.7262848229851051, 0.7251274413423562, 0.7261183915753529, 0.7268745350824578, 0.7273964747391501, 0.8077186953798837, 0.8078840113471136, 0.809443050642767, 0.8096457883839634, 0.8086910470196301, 0.8080593007628617, 0.8094386563247081, 0.8090878078069405, 0.7109632463948521, 0.7261452862963884, 0.7269834836586377, 0.7261894334875063, 0.7261641386309667, 0.7266984382427669, 0.726401868840032, 0.7275204860805345, 0.8087368440164929, 0.8095035673848279, 0.809067911137224, 0.8087990476429437, 0.8094912282771758, 0.8095090683273974, 0.8078097480738899, 0.8079775083456434, 0.7271030881759707, 0.7264022516048841, 0.7259615970042779, 0.7254935660823215, 0.7266288613615894, 0.7264571135597939, 0.7261904125490247, 0.7265264717757831, 0.808394005797125, 0.8088778478363781, 0.808719587090272, 0.8090037090448877, 0.8092195023984012, 0.8084522390270504, 0.8096414028152442, 0.8105275590326799, 0.7271899469833205, 0.7259608022329348, 0.7257755829447237, 0.7267632057039138, 0.727120922162622, 0.727312594025333, 0.7269036293569626, 0.7281395234036242, 0.8087963944009715, 0.8072468736032429, 0.8088467196620851, 0.8096526446336656, 0.807248939913555, 0.8100571089595124, 0.8088063436340933, 0.8105267306435733, 0.7272902304851274, 0.7267435716370539, 0.7271698274658323, 0.7256299714330031, 0.7267592277465612, 0.7254010222239685, 0.7267046079048164, 0.726881131704913, 0.8093334485167641, 0.8087310679074046, 0.8096528799629965, 0.8078545799470478, 0.8084707591744766, 0.8076144191673006, 0.8067212804768792, 0.8093296143934315, 0.7271946244224737, 0.7267358985820069, 0.726654481697994, 0.7265835717156551, 0.7260372159240143, 0.7264103185722949, 0.7271755156749239, 0.7265791237663434, 0.8075133380233357, 0.808525066287779, 0.8083411170090786, 0.8081146354563101, 0.8076764741156597, 0.807500713867559, 0.8088332665368502, 0.8082315043156432, 0.7263347674452755, 0.7276540266130841, 0.7264248961302427, 0.7270565830372827, 0.7264864183738738, 0.7260794013162978, 0.7277191655895785, 0.7275492591519168, 0.8089219637533203, 0.8097398702022124, 0.8089395529748002, 0.8095494386766384, 0.8076131473979785, 0.8068923922156691, 0.8076604193188083, 0.8084300864192956, 0.7270493402306307, 0.7269721346281753, 0.7287683769664348, 0.7270486011043311, 0.726671199621384, 0.727154241899771, 0.7266398910608025, 0.7267927099364678, 0.8078680309454074, 0.8098505485799319, 0.8103897288882224, 0.8071647228316782, 0.8079815405252189, 0.8081240181122687, 0.8073123915902982, 0.8072404020901881, 0.7264289760814936, 0.7273366094852144, 0.7271500425077594, 0.7267000325387775, 0.7277709922407701, 0.7274466266388754, 0.7261861461851963, 0.7273296961361687, 0.7990489914228482, 0.7976932387127916, 0.7972175566561126, 0.7984731878445182, 0.7979641985456254, 0.7991552242802489, 0.7978266699059198, 0.7975589022098276, 0.7365362691856144, 0.7373685523790385, 0.7365669165877385, 0.7360301783783675, 0.7376653532942816, 0.7354765191434018, 0.7367671425595551, 0.7364557202499885, 0.7990358173309169, 0.7992513568227811, 0.798230974860901, 0.7985034262036373, 0.797665770587183, 0.7969556602221675, 0.7990951854295714, 0.7978224780015742, 0.7364041573204123, 0.7367470656744963, 0.7374793778659559, 0.7364813039633002, 0.737047084413237, 0.7360710013152596, 0.7364729568173595, 0.7363684835210633, 0.797044221485646, 0.7818909322590424, 0.7977881992883308, 0.7990985592836188, 0.7966140626610564, 0.799057092755302, 0.7977528163514265, 0.7981227018239263, 0.7374087789965165, 0.7367091647640537, 0.7368137446953579, 0.7366210881756506, 0.7374081197072836, 0.7373486907488734, 0.7368131413790893, 0.7357807797206503, 0.7985305884326274, 0.7987688388524664, 0.797980602040589, 0.799035257670704, 0.7984049581033084, 0.7991679166959672, 0.7985762777106242, 0.7978222221681498, 0.7367887655087663, 0.7360447519841212, 0.7365646838019816, 0.7357934442571984, 0.736841102466042, 0.7370951891534495, 0.7366456070414993, 0.7360983616869495, 0.7792500992431076, 0.7791023179515154, 0.8011181636069417, 0.7974387225792984, 0.7984988343503948, 0.7991116861100015, 0.7983645112763221, 0.7977635488673595, 0.7363528137765598, 0.7362608149462408, 0.7364321006214798, 0.7372308319737483, 0.7356821423506542, 0.7373510714283462, 0.7372945481168215, 0.7352476612297338, 0.7979593885457942, 0.797496090666371, 0.798576308985477, 0.799426044738768, 0.7984987498253061, 0.7973072850184382, 0.7796319134684169, 0.798072906899015, 0.7367169652198988, 0.7362609056942361, 0.736251517705875, 0.7365019704844934, 0.7356840794577514, 0.7366154688562933, 0.7368223409946312, 0.7375161533449753, 0.7975930652155564, 0.7995047565561447, 0.7986132593231989, 0.799024879574585, 0.7987396326608883, 0.7990738936043069, 0.7998460794494784, 0.797463529425765, 0.7372558808482917, 0.7358700475623448, 0.7367862407529895, 0.7359635896538428, 0.7379184907938799, 0.7373352305853564, 0.7361621378758127, 0.7364711735115642, 0.7967640697533288, 0.7995777180254624, 0.7981285812712389, 0.7979818409128305, 0.7974598311554988, 0.7979459441859144, 0.7980489256739989, 0.7971611697787457, 0.7367835064961961, 0.7370055025937785, 0.7364415405023155, 0.7374535457509456, 0.7376142480377909, 0.7374113205089158, 0.7376695658554505, 0.736621278910951, 0.7971640647985284, 0.7980054852790998, 0.7982171044952375, 0.7979919121137025, 0.7986944208348429, 0.7989082230676827, 0.7985935563708312, 0.798421151296728, 0.7378734810869515, 0.7368618384915006, 0.7373912158363926, 0.7376581201954198, 0.7369774231601657, 0.735996518002073, 0.7371197829954096, 0.7366303073907546, 0.7986324041188921, 0.7981142979041619, 0.7979013546262197, 0.7994191636419485, 0.7980046926084989, 0.7975687318725916, 0.7977368673689876, 0.7969573090448288, 0.7369088271797316, 0.7371043214849373, 0.7374048561994776, 0.7370652683536275, 0.7364868808881677, 0.7357334822293985, 0.735994639908903, 0.7361946884756394, 0.7974887628794026, 0.7989762710322907, 0.7986569152182328, 0.798893632257145, 0.7986004680464999, 0.7982425957917099, 0.7989857000970024, 0.7979633666005533, 0.737491321442401, 0.7358863812338289, 0.7364523937159179, 0.736262921690311, 0.7365845872191588, 0.7381607436597828, 0.737278103579351, 0.7362602492831342, 0.7988310314296776, 0.7982208918144243, 0.7995909855299478, 0.7981532572983042, 0.7992030741819482, 0.7982493282205227, 0.7983515000370547, 0.7988333902632617, 0.7364299602921456, 0.7368326428958393, 0.7361034651626415, 0.7363014954732054, 0.7373261090241671, 0.7379499051194626, 0.7368465166018568, 0.7366303694436291, 0.7989901547008402, 0.7987256347614842, 0.7985584875254819, 0.7984331301583211, 0.7977015638839208, 0.7997295670806526, 0.7987979914377658, 0.7969465544802466, 0.7364726281338241, 0.7375083329423572, 0.7367565093630287, 0.7362117342183194, 0.7376235257625681, 0.7363254793364332, 0.7364213976495412, 0.7367956076357081, 0.7983756474247578, 0.7988902559765116, 0.7985684841439038, 0.7972145299202016, 0.7981074901957804, 0.7979038165695301, 0.7978981083580137, 0.7998746181000777, 0.7366902218752851, 0.7378088518749556, 0.7363365222618027, 0.736525625404929, 0.7369908101264336, 0.7365151606615873, 0.7379537199094558, 0.736760941855865, 0.7985807817305255, 0.7990884367603839, 0.7983978034376977, 0.7977056830612691, 0.7985642409238718, 0.7988846464879262, 0.799022025886414, 0.7994933876712073, 0.7378999183859571, 0.7366412803713528, 0.7367326851279468, 0.7367267590128569, 0.7382037688947269, 0.7365557193669592, 0.7362280658556332, 0.7364498606681008, 0.7987831547571372, 0.7997417865855609, 0.7993434782532695, 0.7987518809702415, 0.7982578613472427, 0.7976712629358368, 0.7984529408783653, 0.7984535747497423, 0.7365934332244791, 0.7368012718679352, 0.735354186612838, 0.7366848157520192, 0.7359336515841022, 0.7365610703232751, 0.7368990372003423, 0.7364652194834939, 0.7972294788715995, 0.7706445739517511, 0.80060917981421, 0.7995903710505543, 0.8037017946265858, 0.7686411342639768, 0.7990520673502683, 0.7988767958713762, 0.7209777634470711, 0.7215882829676975, 0.7243879102474102, 0.7289908817022769, 0.721098116617387, 0.7258093420647925, 0.7267178325145938, 0.7248731557597856, 0.8005933676558603, 0.797288081944086, 0.7982548817734749, 0.7959011372136907, 0.7979762332531206, 0.8015756209196301, 0.7972161943385312, 0.8008081564584494, 0.726404330402856, 0.7271419713071351, 0.7285020759085399, 0.7253008063777242, 0.7245072166550942, 0.7263664781965888, 0.7275510965522195, 0.7249588718723814, 0.8031187873428891, 0.7744818952993476, 0.7973705105085837, 0.7975543580997871, 0.7956603871036602, 0.7979812991268088, 0.801317193579458, 0.7943679762132796, 0.7247990567404703, 0.7206682209083863, 0.7280709124675544, 0.7278165629263422, 0.721787359718456, 0.7269874319177303, 0.7263121224467057, 0.725961065848686, 0.7973534917596617, 0.7962021316011828, 0.7987854275964391, 0.8002578987006929, 0.7998661197343787, 0.7989549131052379, 0.7954912477425625, 0.7995668064254536, 0.7196871293601944, 0.723052338440516, 0.7267162042767985, 0.7264370275388188, 0.7220736628799054, 0.7263411903620017, 0.7288013924785378, 0.7294103043854001, 0.7996339482925018, 0.7970183279539894, 0.8024225891432372, 0.7969332388528485, 0.7993102987555809, 0.7717552202734027, 0.7945039179601652, 0.80063163266816, 0.7250820757043122, 0.7216392192949111, 0.7242353329662082, 0.7271549172296415, 0.7267166646310759, 0.7271803949009755, 0.7255900215277024, 0.712283060584738, 0.7960338286898975, 0.7988083404309808, 0.7997599660590584, 0.8010074486446233, 0.7999519599436731, 0.7985631883687564, 0.7995465661047747, 0.8003301050367585, 0.7255343834318596, 0.7240614578399696, 0.7135087057925341, 0.7273761007544894, 0.7221555177068875, 0.7209741431330366, 0.7255196023453487, 0.727285078211122, 0.7973725775785543, 0.7970747262387529, 0.8009799998635604, 0.8027610990999867, 0.7712981840149614, 0.7987548638155174, 0.7984906540426369, 0.7570576652947199, 0.7208916389077793, 0.7218000273049866, 0.7271012169047253, 0.7257979637714679, 0.723836612788635, 0.7220336080264401, 0.7260054624514674, 0.7285087189789774, 0.7981405508215677, 0.7984006327107448, 0.7969168612793839, 0.8014209251658794, 0.8018065925237249, 0.80138004311351, 0.7989620239480557, 0.8014902795564532, 0.7209414389292239, 0.726200103483305, 0.7248969050953327, 0.7116592642940979, 0.7211452264602027, 0.7213226499428951, 0.7139914586348225, 0.7284467476589148, 0.7699949044045422, 0.7950277957744697, 0.7953110076485755, 0.7998536807915742, 0.7971900034026762, 0.7979706162326325, 0.7989431161371523, 0.7937828123038625, 0.7211017671145042, 0.7211372448743567, 0.7120268833008367, 0.7229859173335291, 0.7250281089993801, 0.7248547393821769, 0.7258885178613641, 0.7262332797355102, 0.7984380689037158, 0.8005690746677826, 0.7966016771149136, 0.7961467014740834, 0.7709300764076787, 0.8011107614128553, 0.7943729867392868, 0.8008727249659946, 0.7212039757576884, 0.7197945698965071, 0.727013275735614, 0.7142682344347233, 0.7211472262879229, 0.7205122596532578, 0.7285042115391765, 0.7257304154562957, 0.8001222255833147, 0.7998555773237205, 0.7986474758119778, 0.7943639215294027, 0.7748670791558971, 0.8013857975937594, 0.799446398476303, 0.7974171896133401, 0.7261637257842192, 0.723451651507632, 0.7132649906790732, 0.726509389994922, 0.7270998069371839, 0.721906127463284, 0.7243206953088939, 0.7274688849459854, 0.7979605787085907, 0.8005894304040941, 0.8015148049363409, 0.8001942924786086, 0.7998969231245863, 0.7973580912800484, 0.7970911794217338, 0.7961039093414122, 0.7228821345161868, 0.7206164618571926, 0.7277115655784805, 0.7275944634361062, 0.7217507876731215, 0.7220529820917825, 0.730205330614992, 0.7170714451260541, 0.7987782746091304, 0.7976758382204946, 0.8017487119663319, 0.7987939533292824, 0.7698566654871452, 0.7722498538785476, 0.799206251543667, 0.7706483257189942, 0.7260515163607518, 0.7260600796929116, 0.7257914927042579, 0.7282337091879644, 0.7204695887522269, 0.7280053348162457, 0.7255280658460806, 0.7252411789644289, 0.7983577399536714, 0.7969936915062649, 0.7977478391184456, 0.798113515639089, 0.796822288764732, 0.8022916555771197, 0.7955046958646861, 0.7936436662972484, 0.7208540111141221, 0.7206936537539912, 0.7255219317022021, 0.7234126773020884, 0.7221666465595465, 0.7266772904781021, 0.7271938778547058, 0.7262321171711278, 0.7969767600672152, 0.7983385477018684, 0.8021026028085267, 0.7992884022327471, 0.7956379760937426, 0.7971894291083872, 0.801135750261307, 0.7999727130878844, 0.7225603528461927, 0.72617973185799, 0.7279985423090415, 0.7257647970618911, 0.7234258108600657, 0.72227068308122, 0.7290720713386868, 0.7277464805617416, 0.7997727278956308, 0.799301150446432, 0.7969103291325593, 0.7954568395153742, 0.8026609110172546, 0.7966204086310598, 0.8008127510034991, 0.7963961464542, 0.7231690751338927, 0.7279991661352027, 0.7246278076534421, 0.7274763411900825, 0.7228798335268246, 0.7262686228175365, 0.7277149035726654, 0.727872842190043, 0.7979924867111321, 0.8010355907744255, 0.7999008219541207, 0.8027006635525578, 0.7966077568702704, 0.7972151154841922, 0.7994838090979033, 0.7988544517816631, 0.7273119380296368, 0.7122205636492227, 0.7293460136045445, 0.7272049838730444, 0.7259051430944552, 0.7256120421314551, 0.7230804069812117, 0.7287735115411538, 0.7954480966783669, 0.8013490706455634, 0.7982027429631491, 0.8001676976154952, 0.7962896850196941, 0.7955850260667094, 0.7754767962524403, 0.7685734131007723, 0.7267281603992993, 0.7261365648577326, 0.7235806993331013, 0.7252480901165015, 0.7267271921581363, 0.7278409545729645, 0.7246255560212626, 0.7273977393106853, 0.8011843281622144, 0.8007511494792038, 0.8023059059639923, 0.8003183331713727, 0.7990129046640019, 0.7989810580099189, 0.7931086115338548, 0.7991773144445289, 0.7289287587268138, 0.7250594179659121, 0.7272183090458526, 0.7242180227337585, 0.7279477681769764, 0.7293645110511052, 0.7265294636528135, 0.7278408053484161, 0.7999574731131407, 0.7956666621458978, 0.7992128861742793, 0.7970070848860878, 0.7964734700003941, 0.802494548004568, 0.7931201220073678, 0.7693040764199636, 0.7273208809494043, 0.7238377348550318, 0.7245747148769869, 0.72905560555464, 0.7264116769083864, 0.720881393106565, 0.7269287521260019, 0.7265678251011763, 0.7935075467595587, 0.800552295091473, 0.7987181857392922, 0.7980876971622278, 0.7975807268646798, 0.7994141079657845, 0.7955008007778113, 0.7975935038241866, 0.7238941219434856, 0.7258976985137365, 0.7282686855157484, 0.7259417238030055, 0.7211090268354766, 0.7206409835691765, 0.7228760742230462, 0.7229391499154468, 0.7988149955691398, 0.7975722869610898, 0.8007896143553626, 0.7981043480904894, 0.793429390663899, 0.7985453481324459, 0.7957388064212831, 0.797204577856052, 0.7245616625819326, 0.7208881559950887, 0.728972880922148, 0.7257285752127816, 0.7295783856998652, 0.711434254964755, 0.7248498791081452, 0.7283781377111449, 0.8007566958290033, 0.7989777849580724, 0.7963608521443397, 0.7936251640552614, 0.8004289660395196, 0.7965790710538249, 0.7975066003387168, 0.796198034725727, 0.7248815056691532, 0.7276781696177498, 0.7270225862477888, 0.7276176055053506, 0.7252979339036032, 0.7272875795747483, 0.7253705886867916, 0.7224924218413308, 0.7994969146560019, 0.8011363958686553, 0.7985806278351671, 0.7986473658515827, 0.8035356186029307, 0.7941411260669182, 0.8024135008710264, 0.7931708336818123, 0.7249473448257279, 0.7269551523497013, 0.7217961299711562, 0.7256030419607257, 0.7272710553731077, 0.7248489775417695, 0.7299382821750751, 0.72972325225164, 0.7999300645164219, 0.7961498067126572, 0.7936376536460985, 0.8030654359700642, 0.7999542894339813, 0.7990521502734975, 0.7939986481410477, 0.7943172906467302, 0.7262524407165725, 0.7276512921213418, 0.7252171066879809, 0.7226335978485299, 0.7252567292961799, 0.7267187613278188, 0.7236102148731985, 0.7263457709930317, 0.7934848267456984, 0.7968225369974103, 0.8005753677061076, 0.7976758829052212, 0.7929191774099115, 0.7758801970916119, 0.7952270087493942, 0.771422125400906, 0.7258638657629801, 0.7225971283985857, 0.7222682510911845, 0.7292790449609236, 0.7253413577401171, 0.7209325136591249, 0.7283892360297304, 0.729221326759614, 0.7988085334464393, 0.7979393582381402, 0.7983245843880242, 0.7985171076025953, 0.7983666678820324, 0.7921295186270871, 0.7727089014658295, 0.7739627370160126, 0.7289906072469787, 0.7254925493137225, 0.7271798486051743, 0.7220482089768815, 0.7262189805571239, 0.7240953568079623, 0.7252415144759184, 0.7256910106709292, 0.7976082260356098, 0.8020379688953789, 0.7927471094879417, 0.795951854841967, 0.8019178191403737, 0.798899177364341, 0.7959110571134532, 0.7953310846677065, 0.7285607048566658, 0.7223549655286362, 0.7245639021117045, 0.7285804651071477, 0.7266071336210763, 0.7275325192643267, 0.7231057595673367, 0.7267094876495653, 0.7966711083326268, 0.7965588079151115, 0.8007044176301064, 0.7948238487934681, 0.8002014293815741, 0.7983937739158812, 0.7941983054579191, 0.7741745377672661, 0.7278891457166998, 0.7289095159514541, 0.7272074794774226, 0.7269281794673855, 0.7265140026939899, 0.7214016859096419, 0.7294219030920406, 0.7246599868506559, 0.79810525479367, 0.7984363721479129, 0.7954765913859708, 0.7962852058455548, 0.7953407306731038, 0.7975977428283112, 0.7966066374919799, 0.8014504588756886, 0.7230312864157076, 0.7253756540794679, 0.7200936615530342, 0.7224094126640104, 0.7259822962698039, 0.7197528410338866, 0.7269121155521074, 0.7227475809947019, 0.7960291658816415, 0.7991178516701365, 0.7976771549202517, 0.7933084438652787, 0.7985509693116735, 0.7964205301385351, 0.7994936730131758, 0.796966118030578, 0.721819131997595, 0.7237072462115047, 0.7281704137983959, 0.7238536550820358, 0.7232172134482573, 0.7128439357306273, 0.725649488512195, 0.7269077825400503, 0.8021972195558831, 0.7923685539433156, 0.7964337389204875, 0.801852048551944, 0.7758843695339016, 0.7738780799432915, 0.7974140753323911, 0.7975949781128661, 0.727497310401497, 0.7280929159475992, 0.7239611179471239, 0.7257105673526848, 0.728199205940764, 0.7221687237359385, 0.7258221176182201, 0.7297316124654865]\n"
          ]
        }
      ],
      "source": [
        "N = 8\n",
        "\n",
        "# markov_chains_pr = get_markov_chains_pr(N)\n",
        "# stock_gains = get_rewards_uniformally(N)\n",
        "# print(markov_chains_pr)\n",
        "# print(stock_gains)\n",
        "\n",
        "markov_chains_pr = np.array([[0.9, 0.1, 0.1, 0.9],\n",
        "                            [0.5, 0.5, 0.5, 0.5],\n",
        "                            [0.9, 0.1, 0.1, 0.9],\n",
        "                            [0.5, 0.5, 0.5, 0.5],\n",
        "                            [0.9, 0.1, 0.1, 0.9],\n",
        "                            [0.5, 0.5, 0.5, 0.5],\n",
        "                            [0.9, 0.1, 0.1, 0.9],\n",
        "                            [0.5, 0.5, 0.5, 0.5]])\n",
        "\n",
        "stock_gains = np.array([[ 0.06104255,  0.03158808],\n",
        "                        [ 0.083696,    0.00330492],\n",
        "                        [ 0.06152034,  0.04536063],\n",
        "                        [ 0.08008902, -0.00578924],\n",
        "                        [ 0.0932866,   0.04249886],\n",
        "                        # [ 0.09125022,  0.08494483],\n",
        "                        [ 0.09125022,  0.045],\n",
        "                        [ 0.06502391,  0.05328662],\n",
        "                        [ 0.08333102,  0.04500553]])\n",
        "\n",
        "transaction_fee = 0.01\n",
        "\n",
        "gamma = 0.9             # Discount factor\n",
        "initial_epsilon = 1     # Exploration rate\n",
        "initial_alpha = 0.5     # Learning rate\n",
        "min_epsilon = 0.1       # Minimum exploration rate\n",
        "min_alpha = 0.001       # Minimum learning rate\n",
        "\n",
        "episodes = 10000        # Number of episodes\n",
        "episode_length = 1000   # Number of steps per episode\n",
        "\n",
        "env = StockEnvironment(N, markov_chains_pr, stock_gains, transaction_fee)  # Environment initialization\n",
        "states = env.states\n",
        "actions = env.actions\n",
        "trans_pr = env.trans_pr\n",
        "rewards = env.rewards\n",
        "\n",
        "# Implement the Q-learning Algorithm and get the measurements and learned policy and value function\n",
        "learned_policy, q_table, reward_per_episode, epsilon_vals, alpha_vals, mean_rewards = q_learning(states, actions, trans_pr, rewards, gamma, initial_epsilon, initial_alpha, min_epsilon, min_alpha, episodes, episode_length)\n",
        "learned_value_function = [np.max(q_table[i]) for i in range(len(states))]\n",
        "\n",
        "print(\"State Space:\", states)\n",
        "print(\"Action Space:\", actions)\n",
        "# print(\"Transition Probabilities:\", trans_pr)\n",
        "# print(\"Rewards:\", rewards)\n",
        "print(\"Q-table\", q_table)\n",
        "print(\"Learned Policy:\", learned_policy)\n",
        "print(\"Learned Value Function:\", learned_value_function)\n"
      ]
    },
    {
      "cell_type": "code",
      "execution_count": null,
      "metadata": {
        "colab": {
          "base_uri": "https://localhost:8080/",
          "height": 472
        },
        "id": "LUgyu_h8xQVp",
        "outputId": "e8472a5a-1063-4957-dad5-b32258d01781"
      },
      "outputs": [
        {
          "data": {
            "image/png": "[encoded data removed]",
            "text/plain": [
              "<Figure size 640x480 with 1 Axes>"
            ]
          },
          "metadata": {},
          "output_type": "display_data"
        }
      ],
      "source": [
        "plot_mean_rewards = []\n",
        "samples = 20\n",
        "for i in range(samples):\n",
        "    cut = int(episodes / samples)\n",
        "    start = cut * i\n",
        "    end = cut * (i + 1)\n",
        "    mean_reward = np.mean(mean_rewards[start:end])\n",
        "    plot_mean_rewards.append(mean_reward)\n",
        "\n",
        "plt.figure()\n",
        "plt.plot(range(1, samples+1), plot_mean_rewards, marker='o')\n",
        "plt.xlabel(f'Segments of Epochs (x {cut})')\n",
        "plt.ylabel('Mean Episode Reward')\n",
        "plt.title('Mean Rewards per Segment of Epochs')\n",
        "plt.xticks(range(1, samples+1))\n",
        "plt.grid(True)\n",
        "plt.show()"
      ]
    },
    {
      "cell_type": "code",
      "execution_count": null,
      "metadata": {
        "colab": {
          "base_uri": "https://localhost:8080/",
          "height": 581
        },
        "id": "fGruM5CM0obs",
        "outputId": "f1b3857d-8901-4269-cd55-fd823f8f8447"
      },
      "outputs": [
        {
          "name": "stdout",
          "output_type": "stream",
          "text": [
            "Number of times each action appears in the policy generated by the Q-learning algorithm: Counter({5: 960, 6: 919, 7: 80, 8: 58, 3: 19, 1: 12})\n"
          ]
        },
        {
          "data": {
            "image/png": "[encoded data removed]",
            "text/plain": [
              "<Figure size 1000x600 with 1 Axes>"
            ]
          },
          "metadata": {},
          "output_type": "display_data"
        }
      ],
      "source": [
        "value_counts = Counter(learned_policy.values())\n",
        "print(\"Number of times each action appears in the policy generated by the Q-learning algorithm:\", value_counts)\n",
        "\n",
        "values = list(value_counts.keys())\n",
        "occurrences = list(value_counts.values())\n",
        "\n",
        "# Plot the histogram\n",
        "plt.figure(figsize=(10, 6))\n",
        "plt.bar(values, occurrences, color='skyblue')\n",
        "plt.xlabel('Action')\n",
        "plt.ylabel('Occurrences')\n",
        "plt.title(f'Number of times each action appears in the policy generated by the Q-learning algorithm')\n",
        "plt.xticks(values)\n",
        "plt.show()\n"
      ]
    },
    {
      "cell_type": "code",
      "execution_count": null,
      "metadata": {
        "colab": {
          "base_uri": "https://localhost:8080/",
          "height": 599
        },
        "id": "WUu2FHHxSC5-",
        "outputId": "6d697874-9e93-40c3-af18-26659dcb1505"
      },
      "outputs": [
        {
          "name": "stdout",
          "output_type": "stream",
          "text": [
            "Number of times each action appears in the policy generated by the Q-learning algorithm: Counter({6: 2031, 5: 17})\n",
            "Number of times each action appears in the optimal policy generated by the PI algorithm: Counter({6: 1920, 5: 128})\n"
          ]
        },
        {
          "data": {
            "image/png": "[encoded data removed]",
            "text/plain": [
              "<Figure size 1000x600 with 1 Axes>"
            ]
          },
          "metadata": {},
          "output_type": "display_data"
        }
      ],
      "source": [
        "# Old one before changes\n",
        "# markov_chains_pr = np.array([[0.9, 0.1, 0.1, 0.9],\n",
        "#                             [0.5, 0.5, 0.5, 0.5],\n",
        "#                             [0.9, 0.1, 0.1, 0.9],\n",
        "#                             [0.5, 0.5, 0.5, 0.5],\n",
        "#                             [0.9, 0.1, 0.1, 0.9],\n",
        "#                             [0.5, 0.5, 0.5, 0.5],\n",
        "#                             [0.9, 0.1, 0.1, 0.9],\n",
        "#                             [0.5, 0.5, 0.5, 0.5]])\n",
        "\n",
        "# stock_gains = np.array([[ 0.06104255,  0.03158808],\n",
        "#                         [ 0.083696,    0.00330492],\n",
        "#                         [ 0.06152034,  0.04536063],\n",
        "#                         [ 0.08008902, -0.00578924],\n",
        "#                         [ 0.0932866,   0.04249886],\n",
        "#                         [ 0.09125022,  0.08494483],\n",
        "#                         [ 0.06502391,  0.05328662],\n",
        "#                         [ 0.08333102,  0.04500553]])\n",
        "\n",
        "value_counts = Counter(learned_policy.values())\n",
        "print(\"Number of times each action appears in the policy generated by the Q-learning algorithm:\", value_counts)\n",
        "print(\"Number of times each action appears in the optimal policy generated by the PI algorithm: Counter({6: 1920, 5: 128})\")\n",
        "\n",
        "# For episodes = 10000, episode_length = 100:\n",
        "# Number of times each action appears in the policy generated by the Q-learning algorithm: Counter({6: 974, 5: 392, 7: 192, 8: 189, 1: 107, 3: 90, 2: 63, 4: 41})\n",
        "\n",
        "# For episodes = 10000, episode_length = 500:\n",
        "# Number of times each action appears in the policy generated by the Q-learning algorithm: Counter({6: 1587, 5: 309, 8: 68, 7: 30, 3: 24, 1: 18, 2: 7, 4: 5})\n",
        "\n",
        "# For episodes = 10000, episode_length = 1000:\n",
        "# Number of times each action appears in the policy generated by the Q-learning algorithm: Counter({6: 2031, 5: 17})\n",
        "\n",
        "values = list(value_counts.keys())\n",
        "occurrences = list(value_counts.values())\n",
        "\n",
        "# Plot the histogram\n",
        "plt.figure(figsize=(10, 6))\n",
        "plt.bar(values, occurrences, color='skyblue')\n",
        "plt.xlabel('Action')\n",
        "plt.ylabel('Occurrences')\n",
        "plt.title(f'Number of times each action appears in the policy generated by the Q-learning algorithm')\n",
        "plt.xticks(values)\n",
        "plt.show()\n"
      ]
    }
  ],
  "metadata": {
    "colab": {
      "provenance": []
    },
    "kernelspec": {
      "display_name": "Python 3",
      "name": "python3"
    },
    "language_info": {
      "name": "python"
    },
    "widgets": {
      "application/vnd.jupyter.widget-state+json": {
        "060a3991079d4b268778a904d4d95c73": {
          "model_module": "@jupyter-widgets/base",
          "model_module_version": "1.2.0",
          "model_name": "LayoutModel",
          "state": {
            "_model_module": "@jupyter-widgets/base",
            "_model_module_version": "1.2.0",
            "_model_name": "LayoutModel",
            "_view_count": null,
            "_view_module": "@jupyter-widgets/base",
            "_view_module_version": "1.2.0",
            "_view_name": "LayoutView",
            "align_content": null,
            "align_items": null,
            "align_self": null,
            "border": null,
            "bottom": null,
            "display": null,
            "flex": null,
            "flex_flow": null,
            "grid_area": null,
            "grid_auto_columns": null,
            "grid_auto_flow": null,
            "grid_auto_rows": null,
            "grid_column": null,
            "grid_gap": null,
            "grid_row": null,
            "grid_template_areas": null,
            "grid_template_columns": null,
            "grid_template_rows": null,
            "height": null,
            "justify_content": null,
            "justify_items": null,
            "left": null,
            "margin": null,
            "max_height": null,
            "max_width": null,
            "min_height": null,
            "min_width": null,
            "object_fit": null,
            "object_position": null,
            "order": null,
            "overflow": null,
            "overflow_x": null,
            "overflow_y": null,
            "padding": null,
            "right": null,
            "top": null,
            "visibility": null,
            "width": null
          }
        },
        "156abd84cdab44aba09547fcdd367fd0": {
          "model_module": "@jupyter-widgets/controls",
          "model_module_version": "1.5.0",
          "model_name": "FloatProgressModel",
          "state": {
            "_dom_classes": [],
            "_model_module": "@jupyter-widgets/controls",
            "_model_module_version": "1.5.0",
            "_model_name": "FloatProgressModel",
            "_view_count": null,
            "_view_module": "@jupyter-widgets/controls",
            "_view_module_version": "1.5.0",
            "_view_name": "ProgressView",
            "bar_style": "success",
            "description": "",
            "description_tooltip": null,
            "layout": "IPY_MODEL_29f9f8e12e1e40298ad793a6ab7dd801",
            "max": 10000,
            "min": 0,
            "orientation": "horizontal",
            "style": "IPY_MODEL_e275444faee54240b84e6b9770bca7a4",
            "value": 10000
          }
        },
        "1616943f1e874c16a0a6675e3802cccb": {
          "model_module": "@jupyter-widgets/base",
          "model_module_version": "1.2.0",
          "model_name": "LayoutModel",
          "state": {
            "_model_module": "@jupyter-widgets/base",
            "_model_module_version": "1.2.0",
            "_model_name": "LayoutModel",
            "_view_count": null,
            "_view_module": "@jupyter-widgets/base",
            "_view_module_version": "1.2.0",
            "_view_name": "LayoutView",
            "align_content": null,
            "align_items": null,
            "align_self": null,
            "border": null,
            "bottom": null,
            "display": null,
            "flex": null,
            "flex_flow": null,
            "grid_area": null,
            "grid_auto_columns": null,
            "grid_auto_flow": null,
            "grid_auto_rows": null,
            "grid_column": null,
            "grid_gap": null,
            "grid_row": null,
            "grid_template_areas": null,
            "grid_template_columns": null,
            "grid_template_rows": null,
            "height": null,
            "justify_content": null,
            "justify_items": null,
            "left": null,
            "margin": null,
            "max_height": null,
            "max_width": null,
            "min_height": null,
            "min_width": null,
            "object_fit": null,
            "object_position": null,
            "order": null,
            "overflow": null,
            "overflow_x": null,
            "overflow_y": null,
            "padding": null,
            "right": null,
            "top": null,
            "visibility": null,
            "width": null
          }
        },
        "1cac4d5a0d98455fa7a62ef379d6806e": {
          "model_module": "@jupyter-widgets/controls",
          "model_module_version": "1.5.0",
          "model_name": "HTMLModel",
          "state": {
            "_dom_classes": [],
            "_model_module": "@jupyter-widgets/controls",
            "_model_module_version": "1.5.0",
            "_model_name": "HTMLModel",
            "_view_count": null,
            "_view_module": "@jupyter-widgets/controls",
            "_view_module_version": "1.5.0",
            "_view_name": "HTMLView",
            "description": "",
            "description_tooltip": null,
            "layout": "IPY_MODEL_df7cb4eb2efa466cb3261be0bd0d3fff",
            "placeholder": "​",
            "style": "IPY_MODEL_1fff7ec1b4eb46b69a86cc23986b93f9",
            "value": " 10000/10000 [01:40&lt;00:00, 136.09it/s, epsilon=0.1, mean reward=0.0532, alpha=0.001]"
          }
        },
        "1fff7ec1b4eb46b69a86cc23986b93f9": {
          "model_module": "@jupyter-widgets/controls",
          "model_module_version": "1.5.0",
          "model_name": "DescriptionStyleModel",
          "state": {
            "_model_module": "@jupyter-widgets/controls",
            "_model_module_version": "1.5.0",
            "_model_name": "DescriptionStyleModel",
            "_view_count": null,
            "_view_module": "@jupyter-widgets/base",
            "_view_module_version": "1.2.0",
            "_view_name": "StyleView",
            "description_width": ""
          }
        },
        "29f9f8e12e1e40298ad793a6ab7dd801": {
          "model_module": "@jupyter-widgets/base",
          "model_module_version": "1.2.0",
          "model_name": "LayoutModel",
          "state": {
            "_model_module": "@jupyter-widgets/base",
            "_model_module_version": "1.2.0",
            "_model_name": "LayoutModel",
            "_view_count": null,
            "_view_module": "@jupyter-widgets/base",
            "_view_module_version": "1.2.0",
            "_view_name": "LayoutView",
            "align_content": null,
            "align_items": null,
            "align_self": null,
            "border": null,
            "bottom": null,
            "display": null,
            "flex": null,
            "flex_flow": null,
            "grid_area": null,
            "grid_auto_columns": null,
            "grid_auto_flow": null,
            "grid_auto_rows": null,
            "grid_column": null,
            "grid_gap": null,
            "grid_row": null,
            "grid_template_areas": null,
            "grid_template_columns": null,
            "grid_template_rows": null,
            "height": null,
            "justify_content": null,
            "justify_items": null,
            "left": null,
            "margin": null,
            "max_height": null,
            "max_width": null,
            "min_height": null,
            "min_width": null,
            "object_fit": null,
            "object_position": null,
            "order": null,
            "overflow": null,
            "overflow_x": null,
            "overflow_y": null,
            "padding": null,
            "right": null,
            "top": null,
            "visibility": null,
            "width": null
          }
        },
        "2b4add9621d34ce3b39f7f4ff89dfc20": {
          "model_module": "@jupyter-widgets/controls",
          "model_module_version": "1.5.0",
          "model_name": "HTMLModel",
          "state": {
            "_dom_classes": [],
            "_model_module": "@jupyter-widgets/controls",
            "_model_module_version": "1.5.0",
            "_model_name": "HTMLModel",
            "_view_count": null,
            "_view_module": "@jupyter-widgets/controls",
            "_view_module_version": "1.5.0",
            "_view_name": "HTMLView",
            "description": "",
            "description_tooltip": null,
            "layout": "IPY_MODEL_060a3991079d4b268778a904d4d95c73",
            "placeholder": "​",
            "style": "IPY_MODEL_4e0455bf43654987bb030538c8471913",
            "value": "100%"
          }
        },
        "2ee60534e1ef4c28859315fb178cb65d": {
          "model_module": "@jupyter-widgets/controls",
          "model_module_version": "1.5.0",
          "model_name": "DescriptionStyleModel",
          "state": {
            "_model_module": "@jupyter-widgets/controls",
            "_model_module_version": "1.5.0",
            "_model_name": "DescriptionStyleModel",
            "_view_count": null,
            "_view_module": "@jupyter-widgets/base",
            "_view_module_version": "1.2.0",
            "_view_name": "StyleView",
            "description_width": ""
          }
        },
        "37adbb26bcc84d3da49cbbd36b23f441": {
          "model_module": "@jupyter-widgets/controls",
          "model_module_version": "1.5.0",
          "model_name": "DescriptionStyleModel",
          "state": {
            "_model_module": "@jupyter-widgets/controls",
            "_model_module_version": "1.5.0",
            "_model_name": "DescriptionStyleModel",
            "_view_count": null,
            "_view_module": "@jupyter-widgets/base",
            "_view_module_version": "1.2.0",
            "_view_name": "StyleView",
            "description_width": ""
          }
        },
        "38af20c488db433dba9b7408d0f4294d": {
          "model_module": "@jupyter-widgets/controls",
          "model_module_version": "1.5.0",
          "model_name": "DescriptionStyleModel",
          "state": {
            "_model_module": "@jupyter-widgets/controls",
            "_model_module_version": "1.5.0",
            "_model_name": "DescriptionStyleModel",
            "_view_count": null,
            "_view_module": "@jupyter-widgets/base",
            "_view_module_version": "1.2.0",
            "_view_name": "StyleView",
            "description_width": ""
          }
        },
        "4162ba156c5e4f48a0b133b98f884a99": {
          "model_module": "@jupyter-widgets/controls",
          "model_module_version": "1.5.0",
          "model_name": "FloatProgressModel",
          "state": {
            "_dom_classes": [],
            "_model_module": "@jupyter-widgets/controls",
            "_model_module_version": "1.5.0",
            "_model_name": "FloatProgressModel",
            "_view_count": null,
            "_view_module": "@jupyter-widgets/controls",
            "_view_module_version": "1.5.0",
            "_view_name": "ProgressView",
            "bar_style": "success",
            "description": "",
            "description_tooltip": null,
            "layout": "IPY_MODEL_9e7cef3a495d4fa897890e67e76bc1ec",
            "max": 10000,
            "min": 0,
            "orientation": "horizontal",
            "style": "IPY_MODEL_5183df22f3e14b478a543e4618b9f85d",
            "value": 10000
          }
        },
        "463746a614da4dd69a779f49b4d6ac26": {
          "model_module": "@jupyter-widgets/controls",
          "model_module_version": "1.5.0",
          "model_name": "HBoxModel",
          "state": {
            "_dom_classes": [],
            "_model_module": "@jupyter-widgets/controls",
            "_model_module_version": "1.5.0",
            "_model_name": "HBoxModel",
            "_view_count": null,
            "_view_module": "@jupyter-widgets/controls",
            "_view_module_version": "1.5.0",
            "_view_name": "HBoxView",
            "box_style": "",
            "children": [
              "IPY_MODEL_8a67e9f13ba14d8981475c1ba5122d17",
              "IPY_MODEL_fd72fce342584595a7cf81a40cde1a94",
              "IPY_MODEL_c50c659d0b604e1380e7b29f72923941"
            ],
            "layout": "IPY_MODEL_9d98f3bee94d47368c50b6b3fa936800"
          }
        },
        "4e0455bf43654987bb030538c8471913": {
          "model_module": "@jupyter-widgets/controls",
          "model_module_version": "1.5.0",
          "model_name": "DescriptionStyleModel",
          "state": {
            "_model_module": "@jupyter-widgets/controls",
            "_model_module_version": "1.5.0",
            "_model_name": "DescriptionStyleModel",
            "_view_count": null,
            "_view_module": "@jupyter-widgets/base",
            "_view_module_version": "1.2.0",
            "_view_name": "StyleView",
            "description_width": ""
          }
        },
        "4e4313f1d2cc4bdb9659dc28d99b2755": {
          "model_module": "@jupyter-widgets/base",
          "model_module_version": "1.2.0",
          "model_name": "LayoutModel",
          "state": {
            "_model_module": "@jupyter-widgets/base",
            "_model_module_version": "1.2.0",
            "_model_name": "LayoutModel",
            "_view_count": null,
            "_view_module": "@jupyter-widgets/base",
            "_view_module_version": "1.2.0",
            "_view_name": "LayoutView",
            "align_content": null,
            "align_items": null,
            "align_self": null,
            "border": null,
            "bottom": null,
            "display": null,
            "flex": null,
            "flex_flow": null,
            "grid_area": null,
            "grid_auto_columns": null,
            "grid_auto_flow": null,
            "grid_auto_rows": null,
            "grid_column": null,
            "grid_gap": null,
            "grid_row": null,
            "grid_template_areas": null,
            "grid_template_columns": null,
            "grid_template_rows": null,
            "height": null,
            "justify_content": null,
            "justify_items": null,
            "left": null,
            "margin": null,
            "max_height": null,
            "max_width": null,
            "min_height": null,
            "min_width": null,
            "object_fit": null,
            "object_position": null,
            "order": null,
            "overflow": null,
            "overflow_x": null,
            "overflow_y": null,
            "padding": null,
            "right": null,
            "top": null,
            "visibility": null,
            "width": null
          }
        },
        "5183df22f3e14b478a543e4618b9f85d": {
          "model_module": "@jupyter-widgets/controls",
          "model_module_version": "1.5.0",
          "model_name": "ProgressStyleModel",
          "state": {
            "_model_module": "@jupyter-widgets/controls",
            "_model_module_version": "1.5.0",
            "_model_name": "ProgressStyleModel",
            "_view_count": null,
            "_view_module": "@jupyter-widgets/base",
            "_view_module_version": "1.2.0",
            "_view_name": "StyleView",
            "bar_color": null,
            "description_width": ""
          }
        },
        "51893e883a1e4b208c3c6bab6c4050ab": {
          "model_module": "@jupyter-widgets/controls",
          "model_module_version": "1.5.0",
          "model_name": "DescriptionStyleModel",
          "state": {
            "_model_module": "@jupyter-widgets/controls",
            "_model_module_version": "1.5.0",
            "_model_name": "DescriptionStyleModel",
            "_view_count": null,
            "_view_module": "@jupyter-widgets/base",
            "_view_module_version": "1.2.0",
            "_view_name": "StyleView",
            "description_width": ""
          }
        },
        "5a927e9268774a139af217becd99c1eb": {
          "model_module": "@jupyter-widgets/controls",
          "model_module_version": "1.5.0",
          "model_name": "HTMLModel",
          "state": {
            "_dom_classes": [],
            "_model_module": "@jupyter-widgets/controls",
            "_model_module_version": "1.5.0",
            "_model_name": "HTMLModel",
            "_view_count": null,
            "_view_module": "@jupyter-widgets/controls",
            "_view_module_version": "1.5.0",
            "_view_name": "HTMLView",
            "description": "",
            "description_tooltip": null,
            "layout": "IPY_MODEL_f65dfb0afbda4d919062523911219ac6",
            "placeholder": "​",
            "style": "IPY_MODEL_6c4161af00b5443cb33ef0cc5f3dac56",
            "value": " 10000/10000 [01:15&lt;00:00, 152.40it/s, epsilon=0.1, mean reward=0.0388, alpha=0.001]"
          }
        },
        "5b7247f3c4654aa1b369718c2f7f6a99": {
          "model_module": "@jupyter-widgets/controls",
          "model_module_version": "1.5.0",
          "model_name": "HTMLModel",
          "state": {
            "_dom_classes": [],
            "_model_module": "@jupyter-widgets/controls",
            "_model_module_version": "1.5.0",
            "_model_name": "HTMLModel",
            "_view_count": null,
            "_view_module": "@jupyter-widgets/controls",
            "_view_module_version": "1.5.0",
            "_view_name": "HTMLView",
            "description": "",
            "description_tooltip": null,
            "layout": "IPY_MODEL_1616943f1e874c16a0a6675e3802cccb",
            "placeholder": "​",
            "style": "IPY_MODEL_2ee60534e1ef4c28859315fb178cb65d",
            "value": " 10000/10000 [01:17&lt;00:00, 125.99it/s, epsilon=0.1, mean reward=0.0334, alpha=0.001]"
          }
        },
        "61487e0fa52c4ee2b617777399b6c18c": {
          "model_module": "@jupyter-widgets/controls",
          "model_module_version": "1.5.0",
          "model_name": "HBoxModel",
          "state": {
            "_dom_classes": [],
            "_model_module": "@jupyter-widgets/controls",
            "_model_module_version": "1.5.0",
            "_model_name": "HBoxModel",
            "_view_count": null,
            "_view_module": "@jupyter-widgets/controls",
            "_view_module_version": "1.5.0",
            "_view_name": "HBoxView",
            "box_style": "",
            "children": [
              "IPY_MODEL_b80e654369e844aaa44d00e0f5a5065a",
              "IPY_MODEL_4162ba156c5e4f48a0b133b98f884a99",
              "IPY_MODEL_5b7247f3c4654aa1b369718c2f7f6a99"
            ],
            "layout": "IPY_MODEL_cce9f0d2bbf24f23b29a5eaa9cbe1ce8"
          }
        },
        "6c4161af00b5443cb33ef0cc5f3dac56": {
          "model_module": "@jupyter-widgets/controls",
          "model_module_version": "1.5.0",
          "model_name": "DescriptionStyleModel",
          "state": {
            "_model_module": "@jupyter-widgets/controls",
            "_model_module_version": "1.5.0",
            "_model_name": "DescriptionStyleModel",
            "_view_count": null,
            "_view_module": "@jupyter-widgets/base",
            "_view_module_version": "1.2.0",
            "_view_name": "StyleView",
            "description_width": ""
          }
        },
        "82cb72bf9bc84bcd82d032a9b8876652": {
          "model_module": "@jupyter-widgets/controls",
          "model_module_version": "1.5.0",
          "model_name": "ProgressStyleModel",
          "state": {
            "_model_module": "@jupyter-widgets/controls",
            "_model_module_version": "1.5.0",
            "_model_name": "ProgressStyleModel",
            "_view_count": null,
            "_view_module": "@jupyter-widgets/base",
            "_view_module_version": "1.2.0",
            "_view_name": "StyleView",
            "bar_color": null,
            "description_width": ""
          }
        },
        "89fc7bd472bd48f98866af3d00a3cef2": {
          "model_module": "@jupyter-widgets/base",
          "model_module_version": "1.2.0",
          "model_name": "LayoutModel",
          "state": {
            "_model_module": "@jupyter-widgets/base",
            "_model_module_version": "1.2.0",
            "_model_name": "LayoutModel",
            "_view_count": null,
            "_view_module": "@jupyter-widgets/base",
            "_view_module_version": "1.2.0",
            "_view_name": "LayoutView",
            "align_content": null,
            "align_items": null,
            "align_self": null,
            "border": null,
            "bottom": null,
            "display": null,
            "flex": null,
            "flex_flow": null,
            "grid_area": null,
            "grid_auto_columns": null,
            "grid_auto_flow": null,
            "grid_auto_rows": null,
            "grid_column": null,
            "grid_gap": null,
            "grid_row": null,
            "grid_template_areas": null,
            "grid_template_columns": null,
            "grid_template_rows": null,
            "height": null,
            "justify_content": null,
            "justify_items": null,
            "left": null,
            "margin": null,
            "max_height": null,
            "max_width": null,
            "min_height": null,
            "min_width": null,
            "object_fit": null,
            "object_position": null,
            "order": null,
            "overflow": null,
            "overflow_x": null,
            "overflow_y": null,
            "padding": null,
            "right": null,
            "top": null,
            "visibility": null,
            "width": null
          }
        },
        "8a67e9f13ba14d8981475c1ba5122d17": {
          "model_module": "@jupyter-widgets/controls",
          "model_module_version": "1.5.0",
          "model_name": "HTMLModel",
          "state": {
            "_dom_classes": [],
            "_model_module": "@jupyter-widgets/controls",
            "_model_module_version": "1.5.0",
            "_model_name": "HTMLModel",
            "_view_count": null,
            "_view_module": "@jupyter-widgets/controls",
            "_view_module_version": "1.5.0",
            "_view_name": "HTMLView",
            "description": "",
            "description_tooltip": null,
            "layout": "IPY_MODEL_d4bd7861e0964d02b1f0f9136d30bf84",
            "placeholder": "​",
            "style": "IPY_MODEL_37adbb26bcc84d3da49cbbd36b23f441",
            "value": "100%"
          }
        },
        "8dc73db7cd6f46d2958079c4ce58c047": {
          "model_module": "@jupyter-widgets/base",
          "model_module_version": "1.2.0",
          "model_name": "LayoutModel",
          "state": {
            "_model_module": "@jupyter-widgets/base",
            "_model_module_version": "1.2.0",
            "_model_name": "LayoutModel",
            "_view_count": null,
            "_view_module": "@jupyter-widgets/base",
            "_view_module_version": "1.2.0",
            "_view_name": "LayoutView",
            "align_content": null,
            "align_items": null,
            "align_self": null,
            "border": null,
            "bottom": null,
            "display": null,
            "flex": null,
            "flex_flow": null,
            "grid_area": null,
            "grid_auto_columns": null,
            "grid_auto_flow": null,
            "grid_auto_rows": null,
            "grid_column": null,
            "grid_gap": null,
            "grid_row": null,
            "grid_template_areas": null,
            "grid_template_columns": null,
            "grid_template_rows": null,
            "height": null,
            "justify_content": null,
            "justify_items": null,
            "left": null,
            "margin": null,
            "max_height": null,
            "max_width": null,
            "min_height": null,
            "min_width": null,
            "object_fit": null,
            "object_position": null,
            "order": null,
            "overflow": null,
            "overflow_x": null,
            "overflow_y": null,
            "padding": null,
            "right": null,
            "top": null,
            "visibility": null,
            "width": null
          }
        },
        "91fd7eeb947b408e946ef08db17f3948": {
          "model_module": "@jupyter-widgets/base",
          "model_module_version": "1.2.0",
          "model_name": "LayoutModel",
          "state": {
            "_model_module": "@jupyter-widgets/base",
            "_model_module_version": "1.2.0",
            "_model_name": "LayoutModel",
            "_view_count": null,
            "_view_module": "@jupyter-widgets/base",
            "_view_module_version": "1.2.0",
            "_view_name": "LayoutView",
            "align_content": null,
            "align_items": null,
            "align_self": null,
            "border": null,
            "bottom": null,
            "display": null,
            "flex": null,
            "flex_flow": null,
            "grid_area": null,
            "grid_auto_columns": null,
            "grid_auto_flow": null,
            "grid_auto_rows": null,
            "grid_column": null,
            "grid_gap": null,
            "grid_row": null,
            "grid_template_areas": null,
            "grid_template_columns": null,
            "grid_template_rows": null,
            "height": null,
            "justify_content": null,
            "justify_items": null,
            "left": null,
            "margin": null,
            "max_height": null,
            "max_width": null,
            "min_height": null,
            "min_width": null,
            "object_fit": null,
            "object_position": null,
            "order": null,
            "overflow": null,
            "overflow_x": null,
            "overflow_y": null,
            "padding": null,
            "right": null,
            "top": null,
            "visibility": null,
            "width": null
          }
        },
        "95eefd9a38e24574830835cb9a880fd1": {
          "model_module": "@jupyter-widgets/controls",
          "model_module_version": "1.5.0",
          "model_name": "HTMLModel",
          "state": {
            "_dom_classes": [],
            "_model_module": "@jupyter-widgets/controls",
            "_model_module_version": "1.5.0",
            "_model_name": "HTMLModel",
            "_view_count": null,
            "_view_module": "@jupyter-widgets/controls",
            "_view_module_version": "1.5.0",
            "_view_name": "HTMLView",
            "description": "",
            "description_tooltip": null,
            "layout": "IPY_MODEL_8dc73db7cd6f46d2958079c4ce58c047",
            "placeholder": "​",
            "style": "IPY_MODEL_38af20c488db433dba9b7408d0f4294d",
            "value": "100%"
          }
        },
        "9789c2b0a7774011ada5d8a9762ca18d": {
          "model_module": "@jupyter-widgets/base",
          "model_module_version": "1.2.0",
          "model_name": "LayoutModel",
          "state": {
            "_model_module": "@jupyter-widgets/base",
            "_model_module_version": "1.2.0",
            "_model_name": "LayoutModel",
            "_view_count": null,
            "_view_module": "@jupyter-widgets/base",
            "_view_module_version": "1.2.0",
            "_view_name": "LayoutView",
            "align_content": null,
            "align_items": null,
            "align_self": null,
            "border": null,
            "bottom": null,
            "display": null,
            "flex": null,
            "flex_flow": null,
            "grid_area": null,
            "grid_auto_columns": null,
            "grid_auto_flow": null,
            "grid_auto_rows": null,
            "grid_column": null,
            "grid_gap": null,
            "grid_row": null,
            "grid_template_areas": null,
            "grid_template_columns": null,
            "grid_template_rows": null,
            "height": null,
            "justify_content": null,
            "justify_items": null,
            "left": null,
            "margin": null,
            "max_height": null,
            "max_width": null,
            "min_height": null,
            "min_width": null,
            "object_fit": null,
            "object_position": null,
            "order": null,
            "overflow": null,
            "overflow_x": null,
            "overflow_y": null,
            "padding": null,
            "right": null,
            "top": null,
            "visibility": null,
            "width": null
          }
        },
        "9d98f3bee94d47368c50b6b3fa936800": {
          "model_module": "@jupyter-widgets/base",
          "model_module_version": "1.2.0",
          "model_name": "LayoutModel",
          "state": {
            "_model_module": "@jupyter-widgets/base",
            "_model_module_version": "1.2.0",
            "_model_name": "LayoutModel",
            "_view_count": null,
            "_view_module": "@jupyter-widgets/base",
            "_view_module_version": "1.2.0",
            "_view_name": "LayoutView",
            "align_content": null,
            "align_items": null,
            "align_self": null,
            "border": null,
            "bottom": null,
            "display": null,
            "flex": null,
            "flex_flow": null,
            "grid_area": null,
            "grid_auto_columns": null,
            "grid_auto_flow": null,
            "grid_auto_rows": null,
            "grid_column": null,
            "grid_gap": null,
            "grid_row": null,
            "grid_template_areas": null,
            "grid_template_columns": null,
            "grid_template_rows": null,
            "height": null,
            "justify_content": null,
            "justify_items": null,
            "left": null,
            "margin": null,
            "max_height": null,
            "max_width": null,
            "min_height": null,
            "min_width": null,
            "object_fit": null,
            "object_position": null,
            "order": null,
            "overflow": null,
            "overflow_x": null,
            "overflow_y": null,
            "padding": null,
            "right": null,
            "top": null,
            "visibility": null,
            "width": null
          }
        },
        "9e7cef3a495d4fa897890e67e76bc1ec": {
          "model_module": "@jupyter-widgets/base",
          "model_module_version": "1.2.0",
          "model_name": "LayoutModel",
          "state": {
            "_model_module": "@jupyter-widgets/base",
            "_model_module_version": "1.2.0",
            "_model_name": "LayoutModel",
            "_view_count": null,
            "_view_module": "@jupyter-widgets/base",
            "_view_module_version": "1.2.0",
            "_view_name": "LayoutView",
            "align_content": null,
            "align_items": null,
            "align_self": null,
            "border": null,
            "bottom": null,
            "display": null,
            "flex": null,
            "flex_flow": null,
            "grid_area": null,
            "grid_auto_columns": null,
            "grid_auto_flow": null,
            "grid_auto_rows": null,
            "grid_column": null,
            "grid_gap": null,
            "grid_row": null,
            "grid_template_areas": null,
            "grid_template_columns": null,
            "grid_template_rows": null,
            "height": null,
            "justify_content": null,
            "justify_items": null,
            "left": null,
            "margin": null,
            "max_height": null,
            "max_width": null,
            "min_height": null,
            "min_width": null,
            "object_fit": null,
            "object_position": null,
            "order": null,
            "overflow": null,
            "overflow_x": null,
            "overflow_y": null,
            "padding": null,
            "right": null,
            "top": null,
            "visibility": null,
            "width": null
          }
        },
        "a10998b9f3354f76b42dd4f85ce67238": {
          "model_module": "@jupyter-widgets/controls",
          "model_module_version": "1.5.0",
          "model_name": "HBoxModel",
          "state": {
            "_dom_classes": [],
            "_model_module": "@jupyter-widgets/controls",
            "_model_module_version": "1.5.0",
            "_model_name": "HBoxModel",
            "_view_count": null,
            "_view_module": "@jupyter-widgets/controls",
            "_view_module_version": "1.5.0",
            "_view_name": "HBoxView",
            "box_style": "",
            "children": [
              "IPY_MODEL_95eefd9a38e24574830835cb9a880fd1",
              "IPY_MODEL_bdb1749b2c9e4e7d8da10da00aa8bcf1",
              "IPY_MODEL_1cac4d5a0d98455fa7a62ef379d6806e"
            ],
            "layout": "IPY_MODEL_9789c2b0a7774011ada5d8a9762ca18d"
          }
        },
        "ac39bd1dccbb4c408599454deffa9d63": {
          "model_module": "@jupyter-widgets/controls",
          "model_module_version": "1.5.0",
          "model_name": "ProgressStyleModel",
          "state": {
            "_model_module": "@jupyter-widgets/controls",
            "_model_module_version": "1.5.0",
            "_model_name": "ProgressStyleModel",
            "_view_count": null,
            "_view_module": "@jupyter-widgets/base",
            "_view_module_version": "1.2.0",
            "_view_name": "StyleView",
            "bar_color": null,
            "description_width": ""
          }
        },
        "b5313e160a604a5b9996c29b90b64ab5": {
          "model_module": "@jupyter-widgets/base",
          "model_module_version": "1.2.0",
          "model_name": "LayoutModel",
          "state": {
            "_model_module": "@jupyter-widgets/base",
            "_model_module_version": "1.2.0",
            "_model_name": "LayoutModel",
            "_view_count": null,
            "_view_module": "@jupyter-widgets/base",
            "_view_module_version": "1.2.0",
            "_view_name": "LayoutView",
            "align_content": null,
            "align_items": null,
            "align_self": null,
            "border": null,
            "bottom": null,
            "display": null,
            "flex": null,
            "flex_flow": null,
            "grid_area": null,
            "grid_auto_columns": null,
            "grid_auto_flow": null,
            "grid_auto_rows": null,
            "grid_column": null,
            "grid_gap": null,
            "grid_row": null,
            "grid_template_areas": null,
            "grid_template_columns": null,
            "grid_template_rows": null,
            "height": null,
            "justify_content": null,
            "justify_items": null,
            "left": null,
            "margin": null,
            "max_height": null,
            "max_width": null,
            "min_height": null,
            "min_width": null,
            "object_fit": null,
            "object_position": null,
            "order": null,
            "overflow": null,
            "overflow_x": null,
            "overflow_y": null,
            "padding": null,
            "right": null,
            "top": null,
            "visibility": null,
            "width": null
          }
        },
        "b80e654369e844aaa44d00e0f5a5065a": {
          "model_module": "@jupyter-widgets/controls",
          "model_module_version": "1.5.0",
          "model_name": "HTMLModel",
          "state": {
            "_dom_classes": [],
            "_model_module": "@jupyter-widgets/controls",
            "_model_module_version": "1.5.0",
            "_model_name": "HTMLModel",
            "_view_count": null,
            "_view_module": "@jupyter-widgets/controls",
            "_view_module_version": "1.5.0",
            "_view_name": "HTMLView",
            "description": "",
            "description_tooltip": null,
            "layout": "IPY_MODEL_ed7ab687c4654307b57f01d78e063c03",
            "placeholder": "​",
            "style": "IPY_MODEL_e9a86773355046399336234fa73a6c5e",
            "value": "100%"
          }
        },
        "bdb1749b2c9e4e7d8da10da00aa8bcf1": {
          "model_module": "@jupyter-widgets/controls",
          "model_module_version": "1.5.0",
          "model_name": "FloatProgressModel",
          "state": {
            "_dom_classes": [],
            "_model_module": "@jupyter-widgets/controls",
            "_model_module_version": "1.5.0",
            "_model_name": "FloatProgressModel",
            "_view_count": null,
            "_view_module": "@jupyter-widgets/controls",
            "_view_module_version": "1.5.0",
            "_view_name": "ProgressView",
            "bar_style": "success",
            "description": "",
            "description_tooltip": null,
            "layout": "IPY_MODEL_89fc7bd472bd48f98866af3d00a3cef2",
            "max": 10000,
            "min": 0,
            "orientation": "horizontal",
            "style": "IPY_MODEL_82cb72bf9bc84bcd82d032a9b8876652",
            "value": 10000
          }
        },
        "c50c659d0b604e1380e7b29f72923941": {
          "model_module": "@jupyter-widgets/controls",
          "model_module_version": "1.5.0",
          "model_name": "HTMLModel",
          "state": {
            "_dom_classes": [],
            "_model_module": "@jupyter-widgets/controls",
            "_model_module_version": "1.5.0",
            "_model_name": "HTMLModel",
            "_view_count": null,
            "_view_module": "@jupyter-widgets/controls",
            "_view_module_version": "1.5.0",
            "_view_name": "HTMLView",
            "description": "",
            "description_tooltip": null,
            "layout": "IPY_MODEL_b5313e160a604a5b9996c29b90b64ab5",
            "placeholder": "​",
            "style": "IPY_MODEL_51893e883a1e4b208c3c6bab6c4050ab",
            "value": " 10000/10000 [18:18&lt;00:00,  7.06it/s, epsilon=0.1, mean reward=0.0734, alpha=0.001]"
          }
        },
        "cce9f0d2bbf24f23b29a5eaa9cbe1ce8": {
          "model_module": "@jupyter-widgets/base",
          "model_module_version": "1.2.0",
          "model_name": "LayoutModel",
          "state": {
            "_model_module": "@jupyter-widgets/base",
            "_model_module_version": "1.2.0",
            "_model_name": "LayoutModel",
            "_view_count": null,
            "_view_module": "@jupyter-widgets/base",
            "_view_module_version": "1.2.0",
            "_view_name": "LayoutView",
            "align_content": null,
            "align_items": null,
            "align_self": null,
            "border": null,
            "bottom": null,
            "display": null,
            "flex": null,
            "flex_flow": null,
            "grid_area": null,
            "grid_auto_columns": null,
            "grid_auto_flow": null,
            "grid_auto_rows": null,
            "grid_column": null,
            "grid_gap": null,
            "grid_row": null,
            "grid_template_areas": null,
            "grid_template_columns": null,
            "grid_template_rows": null,
            "height": null,
            "justify_content": null,
            "justify_items": null,
            "left": null,
            "margin": null,
            "max_height": null,
            "max_width": null,
            "min_height": null,
            "min_width": null,
            "object_fit": null,
            "object_position": null,
            "order": null,
            "overflow": null,
            "overflow_x": null,
            "overflow_y": null,
            "padding": null,
            "right": null,
            "top": null,
            "visibility": null,
            "width": null
          }
        },
        "d0e98b44d32c46e6aa6c916022467b14": {
          "model_module": "@jupyter-widgets/controls",
          "model_module_version": "1.5.0",
          "model_name": "HBoxModel",
          "state": {
            "_dom_classes": [],
            "_model_module": "@jupyter-widgets/controls",
            "_model_module_version": "1.5.0",
            "_model_name": "HBoxModel",
            "_view_count": null,
            "_view_module": "@jupyter-widgets/controls",
            "_view_module_version": "1.5.0",
            "_view_name": "HBoxView",
            "box_style": "",
            "children": [
              "IPY_MODEL_2b4add9621d34ce3b39f7f4ff89dfc20",
              "IPY_MODEL_156abd84cdab44aba09547fcdd367fd0",
              "IPY_MODEL_5a927e9268774a139af217becd99c1eb"
            ],
            "layout": "IPY_MODEL_4e4313f1d2cc4bdb9659dc28d99b2755"
          }
        },
        "d4bd7861e0964d02b1f0f9136d30bf84": {
          "model_module": "@jupyter-widgets/base",
          "model_module_version": "1.2.0",
          "model_name": "LayoutModel",
          "state": {
            "_model_module": "@jupyter-widgets/base",
            "_model_module_version": "1.2.0",
            "_model_name": "LayoutModel",
            "_view_count": null,
            "_view_module": "@jupyter-widgets/base",
            "_view_module_version": "1.2.0",
            "_view_name": "LayoutView",
            "align_content": null,
            "align_items": null,
            "align_self": null,
            "border": null,
            "bottom": null,
            "display": null,
            "flex": null,
            "flex_flow": null,
            "grid_area": null,
            "grid_auto_columns": null,
            "grid_auto_flow": null,
            "grid_auto_rows": null,
            "grid_column": null,
            "grid_gap": null,
            "grid_row": null,
            "grid_template_areas": null,
            "grid_template_columns": null,
            "grid_template_rows": null,
            "height": null,
            "justify_content": null,
            "justify_items": null,
            "left": null,
            "margin": null,
            "max_height": null,
            "max_width": null,
            "min_height": null,
            "min_width": null,
            "object_fit": null,
            "object_position": null,
            "order": null,
            "overflow": null,
            "overflow_x": null,
            "overflow_y": null,
            "padding": null,
            "right": null,
            "top": null,
            "visibility": null,
            "width": null
          }
        },
        "df7cb4eb2efa466cb3261be0bd0d3fff": {
          "model_module": "@jupyter-widgets/base",
          "model_module_version": "1.2.0",
          "model_name": "LayoutModel",
          "state": {
            "_model_module": "@jupyter-widgets/base",
            "_model_module_version": "1.2.0",
            "_model_name": "LayoutModel",
            "_view_count": null,
            "_view_module": "@jupyter-widgets/base",
            "_view_module_version": "1.2.0",
            "_view_name": "LayoutView",
            "align_content": null,
            "align_items": null,
            "align_self": null,
            "border": null,
            "bottom": null,
            "display": null,
            "flex": null,
            "flex_flow": null,
            "grid_area": null,
            "grid_auto_columns": null,
            "grid_auto_flow": null,
            "grid_auto_rows": null,
            "grid_column": null,
            "grid_gap": null,
            "grid_row": null,
            "grid_template_areas": null,
            "grid_template_columns": null,
            "grid_template_rows": null,
            "height": null,
            "justify_content": null,
            "justify_items": null,
            "left": null,
            "margin": null,
            "max_height": null,
            "max_width": null,
            "min_height": null,
            "min_width": null,
            "object_fit": null,
            "object_position": null,
            "order": null,
            "overflow": null,
            "overflow_x": null,
            "overflow_y": null,
            "padding": null,
            "right": null,
            "top": null,
            "visibility": null,
            "width": null
          }
        },
        "e275444faee54240b84e6b9770bca7a4": {
          "model_module": "@jupyter-widgets/controls",
          "model_module_version": "1.5.0",
          "model_name": "ProgressStyleModel",
          "state": {
            "_model_module": "@jupyter-widgets/controls",
            "_model_module_version": "1.5.0",
            "_model_name": "ProgressStyleModel",
            "_view_count": null,
            "_view_module": "@jupyter-widgets/base",
            "_view_module_version": "1.2.0",
            "_view_name": "StyleView",
            "bar_color": null,
            "description_width": ""
          }
        },
        "e9a86773355046399336234fa73a6c5e": {
          "model_module": "@jupyter-widgets/controls",
          "model_module_version": "1.5.0",
          "model_name": "DescriptionStyleModel",
          "state": {
            "_model_module": "@jupyter-widgets/controls",
            "_model_module_version": "1.5.0",
            "_model_name": "DescriptionStyleModel",
            "_view_count": null,
            "_view_module": "@jupyter-widgets/base",
            "_view_module_version": "1.2.0",
            "_view_name": "StyleView",
            "description_width": ""
          }
        },
        "ed7ab687c4654307b57f01d78e063c03": {
          "model_module": "@jupyter-widgets/base",
          "model_module_version": "1.2.0",
          "model_name": "LayoutModel",
          "state": {
            "_model_module": "@jupyter-widgets/base",
            "_model_module_version": "1.2.0",
            "_model_name": "LayoutModel",
            "_view_count": null,
            "_view_module": "@jupyter-widgets/base",
            "_view_module_version": "1.2.0",
            "_view_name": "LayoutView",
            "align_content": null,
            "align_items": null,
            "align_self": null,
            "border": null,
            "bottom": null,
            "display": null,
            "flex": null,
            "flex_flow": null,
            "grid_area": null,
            "grid_auto_columns": null,
            "grid_auto_flow": null,
            "grid_auto_rows": null,
            "grid_column": null,
            "grid_gap": null,
            "grid_row": null,
            "grid_template_areas": null,
            "grid_template_columns": null,
            "grid_template_rows": null,
            "height": null,
            "justify_content": null,
            "justify_items": null,
            "left": null,
            "margin": null,
            "max_height": null,
            "max_width": null,
            "min_height": null,
            "min_width": null,
            "object_fit": null,
            "object_position": null,
            "order": null,
            "overflow": null,
            "overflow_x": null,
            "overflow_y": null,
            "padding": null,
            "right": null,
            "top": null,
            "visibility": null,
            "width": null
          }
        },
        "f65dfb0afbda4d919062523911219ac6": {
          "model_module": "@jupyter-widgets/base",
          "model_module_version": "1.2.0",
          "model_name": "LayoutModel",
          "state": {
            "_model_module": "@jupyter-widgets/base",
            "_model_module_version": "1.2.0",
            "_model_name": "LayoutModel",
            "_view_count": null,
            "_view_module": "@jupyter-widgets/base",
            "_view_module_version": "1.2.0",
            "_view_name": "LayoutView",
            "align_content": null,
            "align_items": null,
            "align_self": null,
            "border": null,
            "bottom": null,
            "display": null,
            "flex": null,
            "flex_flow": null,
            "grid_area": null,
            "grid_auto_columns": null,
            "grid_auto_flow": null,
            "grid_auto_rows": null,
            "grid_column": null,
            "grid_gap": null,
            "grid_row": null,
            "grid_template_areas": null,
            "grid_template_columns": null,
            "grid_template_rows": null,
            "height": null,
            "justify_content": null,
            "justify_items": null,
            "left": null,
            "margin": null,
            "max_height": null,
            "max_width": null,
            "min_height": null,
            "min_width": null,
            "object_fit": null,
            "object_position": null,
            "order": null,
            "overflow": null,
            "overflow_x": null,
            "overflow_y": null,
            "padding": null,
            "right": null,
            "top": null,
            "visibility": null,
            "width": null
          }
        },
        "fd72fce342584595a7cf81a40cde1a94": {
          "model_module": "@jupyter-widgets/controls",
          "model_module_version": "1.5.0",
          "model_name": "FloatProgressModel",
          "state": {
            "_dom_classes": [],
            "_model_module": "@jupyter-widgets/controls",
            "_model_module_version": "1.5.0",
            "_model_name": "FloatProgressModel",
            "_view_count": null,
            "_view_module": "@jupyter-widgets/controls",
            "_view_module_version": "1.5.0",
            "_view_name": "ProgressView",
            "bar_style": "success",
            "description": "",
            "description_tooltip": null,
            "layout": "IPY_MODEL_91fd7eeb947b408e946ef08db17f3948",
            "max": 10000,
            "min": 0,
            "orientation": "horizontal",
            "style": "IPY_MODEL_ac39bd1dccbb4c408599454deffa9d63",
            "value": 10000
          }
        }
      }
    }
  },
  "nbformat": 4,
  "nbformat_minor": 0
}